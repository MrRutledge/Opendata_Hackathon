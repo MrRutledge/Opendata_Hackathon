{
 "cells": [
  {
   "cell_type": "markdown",
   "metadata": {},
   "source": [
    "## Example Notebook\n",
    "\n",
    "### Contents:\n",
    "#### 1. Import & Clean Data (correcting existing columns)\n",
    "#### 2. Feature Engineering (creating new columns)\n",
    "#### 3. Pandas basics (pivoting, filtering, aggregations)\n",
    "#### 4. Plotting\n",
    "#### 5. Prediction Model"
   ]
  },
  {
   "cell_type": "code",
   "execution_count": 239,
   "metadata": {},
   "outputs": [],
   "source": [
    "import pandas as pd\n",
    "import numpy as np\n",
    "import os\n",
    "\n",
    "#Supress Warnings: \n",
    "import warnings\n",
    "warnings.filterwarnings(\"ignore\")"
   ]
  },
  {
   "cell_type": "markdown",
   "metadata": {},
   "source": [
    "## 1. Import & Clean Data"
   ]
  },
  {
   "cell_type": "markdown",
   "metadata": {},
   "source": [
    "### Import"
   ]
  },
  {
   "cell_type": "code",
   "execution_count": 240,
   "metadata": {},
   "outputs": [
    {
     "data": {
      "text/plain": [
       "['PLGameStatsPlayers.csv',\n",
       " 'Womens_Tennis.csv',\n",
       " 'NCAAGameResults.csv',\n",
       " 'Mens_Tennis.csv',\n",
       " 'PremierLeague.csv',\n",
       " 'NBAScores16-18.csv',\n",
       " 'PLPlayerAverages.csv',\n",
       " 'NBAFullStats.csv',\n",
       " 'Chessgames.csv',\n",
       " 'RugbyResults.csv']"
      ]
     },
     "execution_count": 240,
     "metadata": {},
     "output_type": "execute_result"
    }
   ],
   "source": [
    "fh = os.path.join(\"..\",\"..\",\"Data\")\n",
    "[file for file in os.listdir(fh) if file.endswith(\"csv\")]"
   ]
  },
  {
   "cell_type": "code",
   "execution_count": 241,
   "metadata": {},
   "outputs": [],
   "source": [
    "df = pd.read_csv(os.path.join(fh,'NBAFullStats.csv'))"
   ]
  },
  {
   "cell_type": "markdown",
   "metadata": {},
   "source": [
    "### Describe data"
   ]
  },
  {
   "cell_type": "code",
   "execution_count": 242,
   "metadata": {},
   "outputs": [
    {
     "data": {
      "text/html": [
       "<div>\n",
       "<style scoped>\n",
       "    .dataframe tbody tr th:only-of-type {\n",
       "        vertical-align: middle;\n",
       "    }\n",
       "\n",
       "    .dataframe tbody tr th {\n",
       "        vertical-align: top;\n",
       "    }\n",
       "\n",
       "    .dataframe thead th {\n",
       "        text-align: right;\n",
       "    }\n",
       "</style>\n",
       "<table border=\"1\" class=\"dataframe\">\n",
       "  <thead>\n",
       "    <tr style=\"text-align: right;\">\n",
       "      <th></th>\n",
       "      <th>mp</th>\n",
       "      <th>fg</th>\n",
       "      <th>fga</th>\n",
       "      <th>fg_pct</th>\n",
       "      <th>fg3</th>\n",
       "      <th>fg3a</th>\n",
       "      <th>fg3_pct</th>\n",
       "      <th>ft</th>\n",
       "      <th>fta</th>\n",
       "      <th>ft_pct</th>\n",
       "      <th>...</th>\n",
       "      <th>tov</th>\n",
       "      <th>pf</th>\n",
       "      <th>pts</th>\n",
       "      <th>team</th>\n",
       "      <th>Date</th>\n",
       "      <th>Time</th>\n",
       "      <th>OT</th>\n",
       "      <th>attendance</th>\n",
       "      <th>home/away</th>\n",
       "      <th>id</th>\n",
       "    </tr>\n",
       "  </thead>\n",
       "  <tbody>\n",
       "    <tr>\n",
       "      <th>0</th>\n",
       "      <td>240</td>\n",
       "      <td>37</td>\n",
       "      <td>96</td>\n",
       "      <td>0.385</td>\n",
       "      <td>12</td>\n",
       "      <td>29</td>\n",
       "      <td>0.414</td>\n",
       "      <td>20</td>\n",
       "      <td>26</td>\n",
       "      <td>0.769</td>\n",
       "      <td>...</td>\n",
       "      <td>15</td>\n",
       "      <td>15</td>\n",
       "      <td>106</td>\n",
       "      <td>Detroit Pistons</td>\n",
       "      <td>Tue, Oct 27, 2015</td>\n",
       "      <td>8:00p</td>\n",
       "      <td>NaN</td>\n",
       "      <td>19,187</td>\n",
       "      <td>Away</td>\n",
       "      <td>0</td>\n",
       "    </tr>\n",
       "    <tr>\n",
       "      <th>1</th>\n",
       "      <td>240</td>\n",
       "      <td>37</td>\n",
       "      <td>82</td>\n",
       "      <td>0.451</td>\n",
       "      <td>8</td>\n",
       "      <td>27</td>\n",
       "      <td>0.296</td>\n",
       "      <td>12</td>\n",
       "      <td>15</td>\n",
       "      <td>0.800</td>\n",
       "      <td>...</td>\n",
       "      <td>15</td>\n",
       "      <td>25</td>\n",
       "      <td>94</td>\n",
       "      <td>Atlanta Hawks</td>\n",
       "      <td>Tue, Oct 27, 2015</td>\n",
       "      <td>8:00p</td>\n",
       "      <td>NaN</td>\n",
       "      <td>19,187</td>\n",
       "      <td>Home</td>\n",
       "      <td>0</td>\n",
       "    </tr>\n",
       "  </tbody>\n",
       "</table>\n",
       "<p>2 rows × 26 columns</p>\n",
       "</div>"
      ],
      "text/plain": [
       "    mp  fg  fga  fg_pct  fg3  fg3a  fg3_pct  ft  fta  ft_pct ...  tov  pf  \\\n",
       "0  240  37   96   0.385   12    29    0.414  20   26   0.769 ...   15  15   \n",
       "1  240  37   82   0.451    8    27    0.296  12   15   0.800 ...   15  25   \n",
       "\n",
       "   pts             team               Date   Time   OT  attendance  home/away  \\\n",
       "0  106  Detroit Pistons  Tue, Oct 27, 2015  8:00p  NaN      19,187       Away   \n",
       "1   94    Atlanta Hawks  Tue, Oct 27, 2015  8:00p  NaN      19,187       Home   \n",
       "\n",
       "  id  \n",
       "0  0  \n",
       "1  0  \n",
       "\n",
       "[2 rows x 26 columns]"
      ]
     },
     "execution_count": 242,
     "metadata": {},
     "output_type": "execute_result"
    }
   ],
   "source": [
    "# .head(n) and .tail(n) with return the first n and last n rows of your data frame, respectively. \n",
    "df.head(2)"
   ]
  },
  {
   "cell_type": "code",
   "execution_count": 243,
   "metadata": {},
   "outputs": [
    {
     "data": {
      "text/plain": [
       "mp              int64\n",
       "fg              int64\n",
       "fga             int64\n",
       "fg_pct        float64\n",
       "fg3             int64\n",
       "fg3a            int64\n",
       "fg3_pct       float64\n",
       "ft              int64\n",
       "fta             int64\n",
       "ft_pct        float64\n",
       "orb             int64\n",
       "drb             int64\n",
       "trb             int64\n",
       "ast             int64\n",
       "stl             int64\n",
       "blk             int64\n",
       "tov             int64\n",
       "pf              int64\n",
       "pts             int64\n",
       "team           object\n",
       "Date           object\n",
       "Time           object\n",
       "OT             object\n",
       "attendance     object\n",
       "home/away      object\n",
       "id              int64\n",
       "dtype: object"
      ]
     },
     "execution_count": 243,
     "metadata": {},
     "output_type": "execute_result"
    }
   ],
   "source": [
    "# .dtypes will return all of data types of your data. You'll know if you'll need to clean. \n",
    "df.dtypes"
   ]
  },
  {
   "cell_type": "code",
   "execution_count": 244,
   "metadata": {},
   "outputs": [
    {
     "data": {
      "text/html": [
       "<div>\n",
       "<style scoped>\n",
       "    .dataframe tbody tr th:only-of-type {\n",
       "        vertical-align: middle;\n",
       "    }\n",
       "\n",
       "    .dataframe tbody tr th {\n",
       "        vertical-align: top;\n",
       "    }\n",
       "\n",
       "    .dataframe thead th {\n",
       "        text-align: right;\n",
       "    }\n",
       "</style>\n",
       "<table border=\"1\" class=\"dataframe\">\n",
       "  <thead>\n",
       "    <tr style=\"text-align: right;\">\n",
       "      <th></th>\n",
       "      <th>mp</th>\n",
       "      <th>fg</th>\n",
       "      <th>fga</th>\n",
       "      <th>fg_pct</th>\n",
       "      <th>fg3</th>\n",
       "      <th>fg3a</th>\n",
       "      <th>fg3_pct</th>\n",
       "      <th>ft</th>\n",
       "      <th>fta</th>\n",
       "      <th>ft_pct</th>\n",
       "      <th>orb</th>\n",
       "      <th>drb</th>\n",
       "      <th>trb</th>\n",
       "      <th>ast</th>\n",
       "      <th>stl</th>\n",
       "      <th>blk</th>\n",
       "      <th>tov</th>\n",
       "      <th>pf</th>\n",
       "      <th>pts</th>\n",
       "      <th>id</th>\n",
       "    </tr>\n",
       "  </thead>\n",
       "  <tbody>\n",
       "    <tr>\n",
       "      <th>count</th>\n",
       "      <td>7652.000000</td>\n",
       "      <td>7652.000000</td>\n",
       "      <td>7652.000000</td>\n",
       "      <td>7652.000000</td>\n",
       "      <td>7652.000000</td>\n",
       "      <td>7652.000000</td>\n",
       "      <td>7652.000000</td>\n",
       "      <td>7652.000000</td>\n",
       "      <td>7652.000000</td>\n",
       "      <td>7652.000000</td>\n",
       "      <td>7652.000000</td>\n",
       "      <td>7652.000000</td>\n",
       "      <td>7652.000000</td>\n",
       "      <td>7652.000000</td>\n",
       "      <td>7652.000000</td>\n",
       "      <td>7652.000000</td>\n",
       "      <td>7652.000000</td>\n",
       "      <td>7652.000000</td>\n",
       "      <td>7652.00000</td>\n",
       "      <td>7652.000000</td>\n",
       "    </tr>\n",
       "    <tr>\n",
       "      <th>mean</th>\n",
       "      <td>241.574752</td>\n",
       "      <td>38.900549</td>\n",
       "      <td>85.248955</td>\n",
       "      <td>0.457334</td>\n",
       "      <td>9.552666</td>\n",
       "      <td>26.706743</td>\n",
       "      <td>0.356363</td>\n",
       "      <td>17.401986</td>\n",
       "      <td>22.754182</td>\n",
       "      <td>0.766041</td>\n",
       "      <td>10.076712</td>\n",
       "      <td>33.474124</td>\n",
       "      <td>43.550836</td>\n",
       "      <td>22.649634</td>\n",
       "      <td>7.738630</td>\n",
       "      <td>4.838996</td>\n",
       "      <td>13.578150</td>\n",
       "      <td>20.045740</td>\n",
       "      <td>104.75575</td>\n",
       "      <td>1912.500000</td>\n",
       "    </tr>\n",
       "    <tr>\n",
       "      <th>std</th>\n",
       "      <td>6.998835</td>\n",
       "      <td>5.023996</td>\n",
       "      <td>7.059883</td>\n",
       "      <td>0.054597</td>\n",
       "      <td>3.585244</td>\n",
       "      <td>6.964761</td>\n",
       "      <td>0.095378</td>\n",
       "      <td>5.990184</td>\n",
       "      <td>7.358144</td>\n",
       "      <td>0.103805</td>\n",
       "      <td>3.764606</td>\n",
       "      <td>5.302161</td>\n",
       "      <td>6.414405</td>\n",
       "      <td>5.175342</td>\n",
       "      <td>2.947439</td>\n",
       "      <td>2.526287</td>\n",
       "      <td>3.839246</td>\n",
       "      <td>4.285217</td>\n",
       "      <td>12.09131</td>\n",
       "      <td>1104.543203</td>\n",
       "    </tr>\n",
       "    <tr>\n",
       "      <th>min</th>\n",
       "      <td>240.000000</td>\n",
       "      <td>19.000000</td>\n",
       "      <td>60.000000</td>\n",
       "      <td>0.271000</td>\n",
       "      <td>0.000000</td>\n",
       "      <td>4.000000</td>\n",
       "      <td>0.000000</td>\n",
       "      <td>1.000000</td>\n",
       "      <td>1.000000</td>\n",
       "      <td>0.143000</td>\n",
       "      <td>0.000000</td>\n",
       "      <td>16.000000</td>\n",
       "      <td>22.000000</td>\n",
       "      <td>7.000000</td>\n",
       "      <td>0.000000</td>\n",
       "      <td>0.000000</td>\n",
       "      <td>2.000000</td>\n",
       "      <td>7.000000</td>\n",
       "      <td>64.00000</td>\n",
       "      <td>0.000000</td>\n",
       "    </tr>\n",
       "    <tr>\n",
       "      <th>25%</th>\n",
       "      <td>240.000000</td>\n",
       "      <td>35.000000</td>\n",
       "      <td>80.000000</td>\n",
       "      <td>0.420000</td>\n",
       "      <td>7.000000</td>\n",
       "      <td>22.000000</td>\n",
       "      <td>0.292000</td>\n",
       "      <td>13.000000</td>\n",
       "      <td>18.000000</td>\n",
       "      <td>0.700000</td>\n",
       "      <td>7.000000</td>\n",
       "      <td>30.000000</td>\n",
       "      <td>39.000000</td>\n",
       "      <td>19.000000</td>\n",
       "      <td>6.000000</td>\n",
       "      <td>3.000000</td>\n",
       "      <td>11.000000</td>\n",
       "      <td>17.000000</td>\n",
       "      <td>96.00000</td>\n",
       "      <td>956.000000</td>\n",
       "    </tr>\n",
       "    <tr>\n",
       "      <th>50%</th>\n",
       "      <td>240.000000</td>\n",
       "      <td>39.000000</td>\n",
       "      <td>85.000000</td>\n",
       "      <td>0.456000</td>\n",
       "      <td>9.000000</td>\n",
       "      <td>26.000000</td>\n",
       "      <td>0.355000</td>\n",
       "      <td>17.000000</td>\n",
       "      <td>22.000000</td>\n",
       "      <td>0.773000</td>\n",
       "      <td>10.000000</td>\n",
       "      <td>33.000000</td>\n",
       "      <td>43.000000</td>\n",
       "      <td>22.000000</td>\n",
       "      <td>8.000000</td>\n",
       "      <td>5.000000</td>\n",
       "      <td>13.000000</td>\n",
       "      <td>20.000000</td>\n",
       "      <td>105.00000</td>\n",
       "      <td>1912.500000</td>\n",
       "    </tr>\n",
       "    <tr>\n",
       "      <th>75%</th>\n",
       "      <td>240.000000</td>\n",
       "      <td>42.000000</td>\n",
       "      <td>90.000000</td>\n",
       "      <td>0.494000</td>\n",
       "      <td>12.000000</td>\n",
       "      <td>31.000000</td>\n",
       "      <td>0.419000</td>\n",
       "      <td>21.000000</td>\n",
       "      <td>27.000000</td>\n",
       "      <td>0.838000</td>\n",
       "      <td>12.000000</td>\n",
       "      <td>37.000000</td>\n",
       "      <td>48.000000</td>\n",
       "      <td>26.000000</td>\n",
       "      <td>10.000000</td>\n",
       "      <td>6.000000</td>\n",
       "      <td>16.000000</td>\n",
       "      <td>23.000000</td>\n",
       "      <td>113.00000</td>\n",
       "      <td>2869.000000</td>\n",
       "    </tr>\n",
       "    <tr>\n",
       "      <th>max</th>\n",
       "      <td>340.000000</td>\n",
       "      <td>58.000000</td>\n",
       "      <td>128.000000</td>\n",
       "      <td>0.684000</td>\n",
       "      <td>25.000000</td>\n",
       "      <td>61.000000</td>\n",
       "      <td>0.731000</td>\n",
       "      <td>43.000000</td>\n",
       "      <td>64.000000</td>\n",
       "      <td>1.000000</td>\n",
       "      <td>28.000000</td>\n",
       "      <td>56.000000</td>\n",
       "      <td>68.000000</td>\n",
       "      <td>47.000000</td>\n",
       "      <td>21.000000</td>\n",
       "      <td>17.000000</td>\n",
       "      <td>29.000000</td>\n",
       "      <td>42.000000</td>\n",
       "      <td>149.00000</td>\n",
       "      <td>3825.000000</td>\n",
       "    </tr>\n",
       "  </tbody>\n",
       "</table>\n",
       "</div>"
      ],
      "text/plain": [
       "                mp           fg          fga       fg_pct          fg3  \\\n",
       "count  7652.000000  7652.000000  7652.000000  7652.000000  7652.000000   \n",
       "mean    241.574752    38.900549    85.248955     0.457334     9.552666   \n",
       "std       6.998835     5.023996     7.059883     0.054597     3.585244   \n",
       "min     240.000000    19.000000    60.000000     0.271000     0.000000   \n",
       "25%     240.000000    35.000000    80.000000     0.420000     7.000000   \n",
       "50%     240.000000    39.000000    85.000000     0.456000     9.000000   \n",
       "75%     240.000000    42.000000    90.000000     0.494000    12.000000   \n",
       "max     340.000000    58.000000   128.000000     0.684000    25.000000   \n",
       "\n",
       "              fg3a      fg3_pct           ft          fta       ft_pct  \\\n",
       "count  7652.000000  7652.000000  7652.000000  7652.000000  7652.000000   \n",
       "mean     26.706743     0.356363    17.401986    22.754182     0.766041   \n",
       "std       6.964761     0.095378     5.990184     7.358144     0.103805   \n",
       "min       4.000000     0.000000     1.000000     1.000000     0.143000   \n",
       "25%      22.000000     0.292000    13.000000    18.000000     0.700000   \n",
       "50%      26.000000     0.355000    17.000000    22.000000     0.773000   \n",
       "75%      31.000000     0.419000    21.000000    27.000000     0.838000   \n",
       "max      61.000000     0.731000    43.000000    64.000000     1.000000   \n",
       "\n",
       "               orb          drb          trb          ast          stl  \\\n",
       "count  7652.000000  7652.000000  7652.000000  7652.000000  7652.000000   \n",
       "mean     10.076712    33.474124    43.550836    22.649634     7.738630   \n",
       "std       3.764606     5.302161     6.414405     5.175342     2.947439   \n",
       "min       0.000000    16.000000    22.000000     7.000000     0.000000   \n",
       "25%       7.000000    30.000000    39.000000    19.000000     6.000000   \n",
       "50%      10.000000    33.000000    43.000000    22.000000     8.000000   \n",
       "75%      12.000000    37.000000    48.000000    26.000000    10.000000   \n",
       "max      28.000000    56.000000    68.000000    47.000000    21.000000   \n",
       "\n",
       "               blk          tov           pf         pts           id  \n",
       "count  7652.000000  7652.000000  7652.000000  7652.00000  7652.000000  \n",
       "mean      4.838996    13.578150    20.045740   104.75575  1912.500000  \n",
       "std       2.526287     3.839246     4.285217    12.09131  1104.543203  \n",
       "min       0.000000     2.000000     7.000000    64.00000     0.000000  \n",
       "25%       3.000000    11.000000    17.000000    96.00000   956.000000  \n",
       "50%       5.000000    13.000000    20.000000   105.00000  1912.500000  \n",
       "75%       6.000000    16.000000    23.000000   113.00000  2869.000000  \n",
       "max      17.000000    29.000000    42.000000   149.00000  3825.000000  "
      ]
     },
     "execution_count": 244,
     "metadata": {},
     "output_type": "execute_result"
    }
   ],
   "source": [
    "# .describe() will return the distribution data for any int or float datatypes (not objects or dates)\n",
    "df.describe()"
   ]
  },
  {
   "cell_type": "code",
   "execution_count": 245,
   "metadata": {},
   "outputs": [
    {
     "data": {
      "text/plain": [
       "mp               0\n",
       "fg               0\n",
       "fga              0\n",
       "fg_pct           0\n",
       "fg3              0\n",
       "fg3a             0\n",
       "fg3_pct          0\n",
       "ft               0\n",
       "fta              0\n",
       "ft_pct           0\n",
       "orb              0\n",
       "drb              0\n",
       "trb              0\n",
       "ast              0\n",
       "stl              0\n",
       "blk              0\n",
       "tov              0\n",
       "pf               0\n",
       "pts              0\n",
       "team             0\n",
       "Date             0\n",
       "Time             0\n",
       "OT            7230\n",
       "attendance       0\n",
       "home/away        0\n",
       "id               0\n",
       "dtype: int64"
      ]
     },
     "execution_count": 245,
     "metadata": {},
     "output_type": "execute_result"
    }
   ],
   "source": [
    "# .isnull().sum() returns the number of null values in each column. You can use .fillna(x) to replace nan vaules with x\n",
    "df.isnull().sum()"
   ]
  },
  {
   "cell_type": "markdown",
   "metadata": {},
   "source": [
    "### Cleaning"
   ]
  },
  {
   "cell_type": "markdown",
   "metadata": {},
   "source": [
    "#### DateTime clean-ups"
   ]
  },
  {
   "cell_type": "code",
   "execution_count": 246,
   "metadata": {},
   "outputs": [
    {
     "data": {
      "text/plain": [
       "'Tue, Oct 27, 2015'"
      ]
     },
     "execution_count": 246,
     "metadata": {},
     "output_type": "execute_result"
    }
   ],
   "source": [
    "df['Date'].iloc[0]"
   ]
  },
  {
   "cell_type": "code",
   "execution_count": 247,
   "metadata": {},
   "outputs": [],
   "source": [
    "# pd.to_datetime(col) does a good job of converting strings to dates. You can add a format if the default settings don't parse correctly. \n",
    "# Datetime cheatshet: http://strftime.org/\n",
    "df['Date']=pd.to_datetime(df['Date']).dt.date"
   ]
  },
  {
   "cell_type": "code",
   "execution_count": 248,
   "metadata": {},
   "outputs": [
    {
     "data": {
      "text/plain": [
       "datetime.date(2015, 10, 27)"
      ]
     },
     "execution_count": 248,
     "metadata": {},
     "output_type": "execute_result"
    }
   ],
   "source": [
    "df['Date'].iloc[0]"
   ]
  },
  {
   "cell_type": "code",
   "execution_count": 249,
   "metadata": {},
   "outputs": [
    {
     "data": {
      "text/plain": [
       "8:00p     1814\n",
       "7:00p     1422\n",
       "7:30p     1140\n",
       "10:30p     822\n",
       "9:00p      638\n",
       "8:30p      456\n",
       "10:00p     348\n",
       "6:00p      264\n",
       "3:30p      200\n",
       "9:30p      186\n",
       "5:00p      102\n",
       "1:00p       74\n",
       "3:00p       50\n",
       "12:00p      34\n",
       "2:00p       28\n",
       "4:00p       24\n",
       "5:30p       16\n",
       "6:30p       10\n",
       "2:30p        8\n",
       "4:30p        8\n",
       "12:30p       6\n",
       "8:01p        2\n",
       "Name: Time, dtype: int64"
      ]
     },
     "execution_count": 249,
     "metadata": {},
     "output_type": "execute_result"
    }
   ],
   "source": [
    "#For time, we need to do some string manipulation before it's recognized by the parser. Let's get a preview first. \n",
    "df['Time'].value_counts()"
   ]
  },
  {
   "cell_type": "code",
   "execution_count": 250,
   "metadata": {},
   "outputs": [
    {
     "name": "stdout",
     "output_type": "stream",
     "text": [
      "20:00:00\n"
     ]
    }
   ],
   "source": [
    "#We'll change the \"p\" to \" PM\" so it's recognized then send it through the pandas datetime parser. \n",
    "df['Time']= df['Time'].apply(lambda x:x.replace(\"p\",\" PM\"))\n",
    "df['Time'] = pd.to_datetime(df['Time']).dt.time\n",
    "print(df['Time'].iloc[0])"
   ]
  },
  {
   "cell_type": "markdown",
   "metadata": {},
   "source": [
    "#### Int/Float clean-ups"
   ]
  },
  {
   "cell_type": "code",
   "execution_count": 251,
   "metadata": {},
   "outputs": [],
   "source": [
    "# Attendance has a \",\" in it so it's not recognized as an int. Let's remove that. \n",
    "df['attendance']=df['attendance'].apply(lambda x:int(x.replace(\",\",\"\")))"
   ]
  },
  {
   "cell_type": "code",
   "execution_count": 252,
   "metadata": {},
   "outputs": [
    {
     "data": {
      "text/plain": [
       "19187"
      ]
     },
     "execution_count": 252,
     "metadata": {},
     "output_type": "execute_result"
    }
   ],
   "source": [
    "df['attendance'].iloc[0]"
   ]
  },
  {
   "cell_type": "markdown",
   "metadata": {},
   "source": [
    "## 2. Feature Engineering"
   ]
  },
  {
   "cell_type": "code",
   "execution_count": 253,
   "metadata": {},
   "outputs": [
    {
     "data": {
      "text/html": [
       "<div>\n",
       "<style scoped>\n",
       "    .dataframe tbody tr th:only-of-type {\n",
       "        vertical-align: middle;\n",
       "    }\n",
       "\n",
       "    .dataframe tbody tr th {\n",
       "        vertical-align: top;\n",
       "    }\n",
       "\n",
       "    .dataframe thead th {\n",
       "        text-align: right;\n",
       "    }\n",
       "</style>\n",
       "<table border=\"1\" class=\"dataframe\">\n",
       "  <thead>\n",
       "    <tr style=\"text-align: right;\">\n",
       "      <th></th>\n",
       "      <th>mp</th>\n",
       "      <th>fg</th>\n",
       "      <th>fga</th>\n",
       "      <th>fg_pct</th>\n",
       "      <th>fg3</th>\n",
       "      <th>fg3a</th>\n",
       "      <th>fg3_pct</th>\n",
       "      <th>ft</th>\n",
       "      <th>fta</th>\n",
       "      <th>ft_pct</th>\n",
       "      <th>...</th>\n",
       "      <th>tov</th>\n",
       "      <th>pf</th>\n",
       "      <th>pts</th>\n",
       "      <th>team</th>\n",
       "      <th>Date</th>\n",
       "      <th>Time</th>\n",
       "      <th>OT</th>\n",
       "      <th>attendance</th>\n",
       "      <th>home/away</th>\n",
       "      <th>id</th>\n",
       "    </tr>\n",
       "  </thead>\n",
       "  <tbody>\n",
       "    <tr>\n",
       "      <th>0</th>\n",
       "      <td>240</td>\n",
       "      <td>37</td>\n",
       "      <td>96</td>\n",
       "      <td>0.385</td>\n",
       "      <td>12</td>\n",
       "      <td>29</td>\n",
       "      <td>0.414</td>\n",
       "      <td>20</td>\n",
       "      <td>26</td>\n",
       "      <td>0.769</td>\n",
       "      <td>...</td>\n",
       "      <td>15</td>\n",
       "      <td>15</td>\n",
       "      <td>106</td>\n",
       "      <td>Detroit Pistons</td>\n",
       "      <td>2015-10-27</td>\n",
       "      <td>20:00:00</td>\n",
       "      <td>NaN</td>\n",
       "      <td>19187</td>\n",
       "      <td>Away</td>\n",
       "      <td>0</td>\n",
       "    </tr>\n",
       "    <tr>\n",
       "      <th>1</th>\n",
       "      <td>240</td>\n",
       "      <td>37</td>\n",
       "      <td>82</td>\n",
       "      <td>0.451</td>\n",
       "      <td>8</td>\n",
       "      <td>27</td>\n",
       "      <td>0.296</td>\n",
       "      <td>12</td>\n",
       "      <td>15</td>\n",
       "      <td>0.800</td>\n",
       "      <td>...</td>\n",
       "      <td>15</td>\n",
       "      <td>25</td>\n",
       "      <td>94</td>\n",
       "      <td>Atlanta Hawks</td>\n",
       "      <td>2015-10-27</td>\n",
       "      <td>20:00:00</td>\n",
       "      <td>NaN</td>\n",
       "      <td>19187</td>\n",
       "      <td>Home</td>\n",
       "      <td>0</td>\n",
       "    </tr>\n",
       "  </tbody>\n",
       "</table>\n",
       "<p>2 rows × 26 columns</p>\n",
       "</div>"
      ],
      "text/plain": [
       "    mp  fg  fga  fg_pct  fg3  fg3a  fg3_pct  ft  fta  ft_pct ...  tov  pf  \\\n",
       "0  240  37   96   0.385   12    29    0.414  20   26   0.769 ...   15  15   \n",
       "1  240  37   82   0.451    8    27    0.296  12   15   0.800 ...   15  25   \n",
       "\n",
       "   pts             team        Date      Time   OT  attendance  home/away id  \n",
       "0  106  Detroit Pistons  2015-10-27  20:00:00  NaN       19187       Away  0  \n",
       "1   94    Atlanta Hawks  2015-10-27  20:00:00  NaN       19187       Home  0  \n",
       "\n",
       "[2 rows x 26 columns]"
      ]
     },
     "execution_count": 253,
     "metadata": {},
     "output_type": "execute_result"
    }
   ],
   "source": [
    "df.head(2)"
   ]
  },
  {
   "cell_type": "markdown",
   "metadata": {},
   "source": [
    "We don't actually have the W/L for each row. Let's try to add that. "
   ]
  },
  {
   "cell_type": "code",
   "execution_count": 254,
   "metadata": {},
   "outputs": [],
   "source": [
    "#For each game_id, we'll find the winner's (max) points \n",
    "winners = pd.DataFrame(df.groupby('id')['pts'].max())"
   ]
  },
  {
   "cell_type": "code",
   "execution_count": 255,
   "metadata": {},
   "outputs": [],
   "source": [
    "#Then we'll merge that back to the orignial table\n",
    "df = df.merge(winners, on = ['id'],how = 'left')"
   ]
  },
  {
   "cell_type": "code",
   "execution_count": 256,
   "metadata": {},
   "outputs": [],
   "source": [
    "#If the row's points equal the winner's points, then they were the winner, otherwise they were the loser\n",
    "df['W/L']= np.where(df['pts_x']==df['pts_y'],'W',\"L\")"
   ]
  },
  {
   "cell_type": "code",
   "execution_count": 257,
   "metadata": {},
   "outputs": [
    {
     "data": {
      "text/html": [
       "<div>\n",
       "<style scoped>\n",
       "    .dataframe tbody tr th:only-of-type {\n",
       "        vertical-align: middle;\n",
       "    }\n",
       "\n",
       "    .dataframe tbody tr th {\n",
       "        vertical-align: top;\n",
       "    }\n",
       "\n",
       "    .dataframe thead th {\n",
       "        text-align: right;\n",
       "    }\n",
       "</style>\n",
       "<table border=\"1\" class=\"dataframe\">\n",
       "  <thead>\n",
       "    <tr style=\"text-align: right;\">\n",
       "      <th></th>\n",
       "      <th>mp</th>\n",
       "      <th>fg</th>\n",
       "      <th>fga</th>\n",
       "      <th>fg_pct</th>\n",
       "      <th>fg3</th>\n",
       "      <th>fg3a</th>\n",
       "      <th>fg3_pct</th>\n",
       "      <th>ft</th>\n",
       "      <th>fta</th>\n",
       "      <th>ft_pct</th>\n",
       "      <th>...</th>\n",
       "      <th>pts_x</th>\n",
       "      <th>team</th>\n",
       "      <th>Date</th>\n",
       "      <th>Time</th>\n",
       "      <th>OT</th>\n",
       "      <th>attendance</th>\n",
       "      <th>home/away</th>\n",
       "      <th>id</th>\n",
       "      <th>pts_y</th>\n",
       "      <th>W/L</th>\n",
       "    </tr>\n",
       "  </thead>\n",
       "  <tbody>\n",
       "    <tr>\n",
       "      <th>0</th>\n",
       "      <td>240</td>\n",
       "      <td>37</td>\n",
       "      <td>96</td>\n",
       "      <td>0.385</td>\n",
       "      <td>12</td>\n",
       "      <td>29</td>\n",
       "      <td>0.414</td>\n",
       "      <td>20</td>\n",
       "      <td>26</td>\n",
       "      <td>0.769</td>\n",
       "      <td>...</td>\n",
       "      <td>106</td>\n",
       "      <td>Detroit Pistons</td>\n",
       "      <td>2015-10-27</td>\n",
       "      <td>20:00:00</td>\n",
       "      <td>NaN</td>\n",
       "      <td>19187</td>\n",
       "      <td>Away</td>\n",
       "      <td>0</td>\n",
       "      <td>106</td>\n",
       "      <td>W</td>\n",
       "    </tr>\n",
       "    <tr>\n",
       "      <th>1</th>\n",
       "      <td>240</td>\n",
       "      <td>37</td>\n",
       "      <td>82</td>\n",
       "      <td>0.451</td>\n",
       "      <td>8</td>\n",
       "      <td>27</td>\n",
       "      <td>0.296</td>\n",
       "      <td>12</td>\n",
       "      <td>15</td>\n",
       "      <td>0.800</td>\n",
       "      <td>...</td>\n",
       "      <td>94</td>\n",
       "      <td>Atlanta Hawks</td>\n",
       "      <td>2015-10-27</td>\n",
       "      <td>20:00:00</td>\n",
       "      <td>NaN</td>\n",
       "      <td>19187</td>\n",
       "      <td>Home</td>\n",
       "      <td>0</td>\n",
       "      <td>106</td>\n",
       "      <td>L</td>\n",
       "    </tr>\n",
       "  </tbody>\n",
       "</table>\n",
       "<p>2 rows × 28 columns</p>\n",
       "</div>"
      ],
      "text/plain": [
       "    mp  fg  fga  fg_pct  fg3  fg3a  fg3_pct  ft  fta  ft_pct ...  pts_x  \\\n",
       "0  240  37   96   0.385   12    29    0.414  20   26   0.769 ...    106   \n",
       "1  240  37   82   0.451    8    27    0.296  12   15   0.800 ...     94   \n",
       "\n",
       "              team        Date      Time   OT  attendance  home/away  id  \\\n",
       "0  Detroit Pistons  2015-10-27  20:00:00  NaN       19187       Away   0   \n",
       "1    Atlanta Hawks  2015-10-27  20:00:00  NaN       19187       Home   0   \n",
       "\n",
       "   pts_y W/L  \n",
       "0    106   W  \n",
       "1    106   L  \n",
       "\n",
       "[2 rows x 28 columns]"
      ]
     },
     "execution_count": 257,
     "metadata": {},
     "output_type": "execute_result"
    }
   ],
   "source": [
    "df.head(2)"
   ]
  },
  {
   "cell_type": "code",
   "execution_count": 258,
   "metadata": {},
   "outputs": [],
   "source": [
    "#We've got 2 points columns. Let's fix that...\n",
    "df = df.drop(['pts_y'],axis = 1)\n",
    "df = df.rename(columns = {'pts_x':'pts'})"
   ]
  },
  {
   "cell_type": "markdown",
   "metadata": {},
   "source": [
    "We have data for multiple seasons, but no way to designate that. \n",
    "NBA seasons run from around August to May, so the 2015-16 season would have games from Aug 15-May 16.\n",
    "Let's create a column for season.\n",
    "\n",
    "Seasons will be refered to by the year in which it began. "
   ]
  },
  {
   "cell_type": "code",
   "execution_count": 259,
   "metadata": {},
   "outputs": [],
   "source": [
    "df['Season']=np.where(df['Date'].apply(lambda x: x.month)<=5\n",
    "                      ,df['Date'].apply(lambda x:x.year-1)\n",
    "                      ,df['Date'].apply(lambda x:x.year))"
   ]
  },
  {
   "cell_type": "code",
   "execution_count": 260,
   "metadata": {},
   "outputs": [
    {
     "data": {
      "text/plain": [
       "2017    2556\n",
       "2016    2550\n",
       "2015    2546\n",
       "Name: Season, dtype: int64"
      ]
     },
     "execution_count": 260,
     "metadata": {},
     "output_type": "execute_result"
    }
   ],
   "source": [
    "df['Season'].value_counts()"
   ]
  },
  {
   "cell_type": "markdown",
   "metadata": {},
   "source": [
    "The different number of games makes sense, given how the NBA play-offs work in a \"best of X\" series, so there will be a different number of games every year."
   ]
  },
  {
   "cell_type": "markdown",
   "metadata": {},
   "source": [
    "## 3. Transformations"
   ]
  },
  {
   "cell_type": "markdown",
   "metadata": {},
   "source": [
    "Pandas provides many ways to group/aggregate data. The main ones are: \n",
    "1. [.pivot_table()](https://pandas.pydata.org/pandas-docs/stable/reference/api/pandas.pivot_table.html)\n",
    "2. [.melt()](https://pandas.pydata.org/pandas-docs/stable/reference/api/pandas.melt.html)\n",
    "3. [.group_by()](https://pandas.pydata.org/pandas-docs/stable/reference/api/pandas.DataFrame.groupby.html)\n",
    "4. [.stack()](https://pandas.pydata.org/pandas-docs/stable/reference/api/pandas.DataFrame.stack.html) and [.unstack()](https://pandas.pydata.org/pandas-docs/stable/reference/api/pandas.DataFrame.unstack.html)"
   ]
  },
  {
   "cell_type": "code",
   "execution_count": 261,
   "metadata": {},
   "outputs": [
    {
     "data": {
      "text/html": [
       "<div>\n",
       "<style scoped>\n",
       "    .dataframe tbody tr th:only-of-type {\n",
       "        vertical-align: middle;\n",
       "    }\n",
       "\n",
       "    .dataframe tbody tr th {\n",
       "        vertical-align: top;\n",
       "    }\n",
       "\n",
       "    .dataframe thead th {\n",
       "        text-align: right;\n",
       "    }\n",
       "</style>\n",
       "<table border=\"1\" class=\"dataframe\">\n",
       "  <thead>\n",
       "    <tr style=\"text-align: right;\">\n",
       "      <th></th>\n",
       "      <th></th>\n",
       "      <th>ast</th>\n",
       "      <th>blk</th>\n",
       "      <th>drb</th>\n",
       "      <th>fg3_pct</th>\n",
       "      <th>fg_pct</th>\n",
       "      <th>ft_pct</th>\n",
       "      <th>orb</th>\n",
       "      <th>pts</th>\n",
       "      <th>stl</th>\n",
       "      <th>tov</th>\n",
       "    </tr>\n",
       "    <tr>\n",
       "      <th>Season</th>\n",
       "      <th>W/L</th>\n",
       "      <th></th>\n",
       "      <th></th>\n",
       "      <th></th>\n",
       "      <th></th>\n",
       "      <th></th>\n",
       "      <th></th>\n",
       "      <th></th>\n",
       "      <th></th>\n",
       "      <th></th>\n",
       "      <th></th>\n",
       "    </tr>\n",
       "  </thead>\n",
       "  <tbody>\n",
       "    <tr>\n",
       "      <th rowspan=\"2\" valign=\"top\">2015</th>\n",
       "      <th>L</th>\n",
       "      <td>20.655931</td>\n",
       "      <td>4.468971</td>\n",
       "      <td>31.450118</td>\n",
       "      <td>0.319012</td>\n",
       "      <td>0.427929</td>\n",
       "      <td>0.747060</td>\n",
       "      <td>10.574234</td>\n",
       "      <td>96.892380</td>\n",
       "      <td>7.449332</td>\n",
       "      <td>14.252946</td>\n",
       "    </tr>\n",
       "    <tr>\n",
       "      <th>W</th>\n",
       "      <td>23.776119</td>\n",
       "      <td>5.450118</td>\n",
       "      <td>35.188531</td>\n",
       "      <td>0.383812</td>\n",
       "      <td>0.477444</td>\n",
       "      <td>0.770687</td>\n",
       "      <td>10.277298</td>\n",
       "      <td>108.110762</td>\n",
       "      <td>8.192459</td>\n",
       "      <td>13.237235</td>\n",
       "    </tr>\n",
       "    <tr>\n",
       "      <th rowspan=\"2\" valign=\"top\">2016</th>\n",
       "      <th>L</th>\n",
       "      <td>20.886275</td>\n",
       "      <td>4.353725</td>\n",
       "      <td>31.515294</td>\n",
       "      <td>0.322643</td>\n",
       "      <td>0.433465</td>\n",
       "      <td>0.761896</td>\n",
       "      <td>10.274510</td>\n",
       "      <td>99.842353</td>\n",
       "      <td>7.272941</td>\n",
       "      <td>13.787451</td>\n",
       "    </tr>\n",
       "    <tr>\n",
       "      <th>W</th>\n",
       "      <td>24.214118</td>\n",
       "      <td>5.137255</td>\n",
       "      <td>35.116863</td>\n",
       "      <td>0.390521</td>\n",
       "      <td>0.482987</td>\n",
       "      <td>0.780435</td>\n",
       "      <td>9.951373</td>\n",
       "      <td>111.152157</td>\n",
       "      <td>8.099608</td>\n",
       "      <td>12.896471</td>\n",
       "    </tr>\n",
       "    <tr>\n",
       "      <th rowspan=\"2\" valign=\"top\">2017</th>\n",
       "      <th>L</th>\n",
       "      <td>21.613459</td>\n",
       "      <td>4.330203</td>\n",
       "      <td>31.914710</td>\n",
       "      <td>0.332911</td>\n",
       "      <td>0.437244</td>\n",
       "      <td>0.757740</td>\n",
       "      <td>9.741784</td>\n",
       "      <td>100.679969</td>\n",
       "      <td>7.270736</td>\n",
       "      <td>14.071205</td>\n",
       "    </tr>\n",
       "    <tr>\n",
       "      <th>W</th>\n",
       "      <td>24.748044</td>\n",
       "      <td>5.294210</td>\n",
       "      <td>35.657277</td>\n",
       "      <td>0.389244</td>\n",
       "      <td>0.484905</td>\n",
       "      <td>0.778394</td>\n",
       "      <td>9.643975</td>\n",
       "      <td>111.842723</td>\n",
       "      <td>8.147105</td>\n",
       "      <td>13.223787</td>\n",
       "    </tr>\n",
       "  </tbody>\n",
       "</table>\n",
       "</div>"
      ],
      "text/plain": [
       "                  ast       blk        drb   fg3_pct    fg_pct    ft_pct  \\\n",
       "Season W/L                                                                 \n",
       "2015   L    20.655931  4.468971  31.450118  0.319012  0.427929  0.747060   \n",
       "       W    23.776119  5.450118  35.188531  0.383812  0.477444  0.770687   \n",
       "2016   L    20.886275  4.353725  31.515294  0.322643  0.433465  0.761896   \n",
       "       W    24.214118  5.137255  35.116863  0.390521  0.482987  0.780435   \n",
       "2017   L    21.613459  4.330203  31.914710  0.332911  0.437244  0.757740   \n",
       "       W    24.748044  5.294210  35.657277  0.389244  0.484905  0.778394   \n",
       "\n",
       "                  orb         pts       stl        tov  \n",
       "Season W/L                                              \n",
       "2015   L    10.574234   96.892380  7.449332  14.252946  \n",
       "       W    10.277298  108.110762  8.192459  13.237235  \n",
       "2016   L    10.274510   99.842353  7.272941  13.787451  \n",
       "       W     9.951373  111.152157  8.099608  12.896471  \n",
       "2017   L     9.741784  100.679969  7.270736  14.071205  \n",
       "       W     9.643975  111.842723  8.147105  13.223787  "
      ]
     },
     "execution_count": 261,
     "metadata": {},
     "output_type": "execute_result"
    }
   ],
   "source": [
    "# For each season, I want to see how different indicators differ by winners and losers:\n",
    "df.pivot_table(index = ['Season','W/L'],\n",
    "               values = ['pts','fg_pct','fg3_pct','ft_pct','ast','blk','stl','tov','orb','drb'],\n",
    "               aggfunc = np.mean)"
   ]
  },
  {
   "cell_type": "code",
   "execution_count": 262,
   "metadata": {},
   "outputs": [
    {
     "data": {
      "text/html": [
       "<div>\n",
       "<style scoped>\n",
       "    .dataframe tbody tr th:only-of-type {\n",
       "        vertical-align: middle;\n",
       "    }\n",
       "\n",
       "    .dataframe tbody tr th {\n",
       "        vertical-align: top;\n",
       "    }\n",
       "\n",
       "    .dataframe thead th {\n",
       "        text-align: right;\n",
       "    }\n",
       "</style>\n",
       "<table border=\"1\" class=\"dataframe\">\n",
       "  <thead>\n",
       "    <tr style=\"text-align: right;\">\n",
       "      <th></th>\n",
       "      <th>Season</th>\n",
       "      <th>team</th>\n",
       "      <th>ast</th>\n",
       "      <th>blk</th>\n",
       "      <th>drb</th>\n",
       "      <th>fg3_pct</th>\n",
       "      <th>fg_pct</th>\n",
       "      <th>ft_pct</th>\n",
       "      <th>orb</th>\n",
       "      <th>pts</th>\n",
       "      <th>stl</th>\n",
       "      <th>tov</th>\n",
       "    </tr>\n",
       "  </thead>\n",
       "  <tbody>\n",
       "    <tr>\n",
       "      <th>39</th>\n",
       "      <td>2016</td>\n",
       "      <td>Golden State Warriors</td>\n",
       "      <td>30.232558</td>\n",
       "      <td>6.930233</td>\n",
       "      <td>35.197674</td>\n",
       "      <td>0.387058</td>\n",
       "      <td>0.495523</td>\n",
       "      <td>0.784558</td>\n",
       "      <td>9.325581</td>\n",
       "      <td>116.058140</td>\n",
       "      <td>9.511628</td>\n",
       "      <td>14.325581</td>\n",
       "    </tr>\n",
       "    <tr>\n",
       "      <th>40</th>\n",
       "      <td>2016</td>\n",
       "      <td>Houston Rockets</td>\n",
       "      <td>24.747126</td>\n",
       "      <td>4.333333</td>\n",
       "      <td>33.563218</td>\n",
       "      <td>0.352310</td>\n",
       "      <td>0.462828</td>\n",
       "      <td>0.766333</td>\n",
       "      <td>10.862069</td>\n",
       "      <td>115.195402</td>\n",
       "      <td>8.126437</td>\n",
       "      <td>14.436782</td>\n",
       "    </tr>\n",
       "    <tr>\n",
       "      <th>9</th>\n",
       "      <td>2015</td>\n",
       "      <td>Golden State Warriors</td>\n",
       "      <td>28.931034</td>\n",
       "      <td>6.034483</td>\n",
       "      <td>36.103448</td>\n",
       "      <td>0.412632</td>\n",
       "      <td>0.488207</td>\n",
       "      <td>0.760678</td>\n",
       "      <td>9.942529</td>\n",
       "      <td>114.609195</td>\n",
       "      <td>8.448276</td>\n",
       "      <td>14.770115</td>\n",
       "    </tr>\n",
       "    <tr>\n",
       "      <th>69</th>\n",
       "      <td>2017</td>\n",
       "      <td>Golden State Warriors</td>\n",
       "      <td>29.193182</td>\n",
       "      <td>7.352273</td>\n",
       "      <td>35.295455</td>\n",
       "      <td>0.385966</td>\n",
       "      <td>0.501875</td>\n",
       "      <td>0.814716</td>\n",
       "      <td>8.590909</td>\n",
       "      <td>113.125000</td>\n",
       "      <td>7.886364</td>\n",
       "      <td>14.863636</td>\n",
       "    </tr>\n",
       "    <tr>\n",
       "      <th>70</th>\n",
       "      <td>2017</td>\n",
       "      <td>Houston Rockets</td>\n",
       "      <td>21.465909</td>\n",
       "      <td>4.863636</td>\n",
       "      <td>34.443182</td>\n",
       "      <td>0.364659</td>\n",
       "      <td>0.459477</td>\n",
       "      <td>0.778307</td>\n",
       "      <td>9.000000</td>\n",
       "      <td>112.215909</td>\n",
       "      <td>8.443182</td>\n",
       "      <td>12.886364</td>\n",
       "    </tr>\n",
       "  </tbody>\n",
       "</table>\n",
       "</div>"
      ],
      "text/plain": [
       "    Season                   team        ast       blk        drb   fg3_pct  \\\n",
       "39    2016  Golden State Warriors  30.232558  6.930233  35.197674  0.387058   \n",
       "40    2016        Houston Rockets  24.747126  4.333333  33.563218  0.352310   \n",
       "9     2015  Golden State Warriors  28.931034  6.034483  36.103448  0.412632   \n",
       "69    2017  Golden State Warriors  29.193182  7.352273  35.295455  0.385966   \n",
       "70    2017        Houston Rockets  21.465909  4.863636  34.443182  0.364659   \n",
       "\n",
       "      fg_pct    ft_pct        orb         pts       stl        tov  \n",
       "39  0.495523  0.784558   9.325581  116.058140  9.511628  14.325581  \n",
       "40  0.462828  0.766333  10.862069  115.195402  8.126437  14.436782  \n",
       "9   0.488207  0.760678   9.942529  114.609195  8.448276  14.770115  \n",
       "69  0.501875  0.814716   8.590909  113.125000  7.886364  14.863636  \n",
       "70  0.459477  0.778307   9.000000  112.215909  8.443182  12.886364  "
      ]
     },
     "execution_count": 262,
     "metadata": {},
     "output_type": "execute_result"
    }
   ],
   "source": [
    "#I'll compare the same indicators by team and season. This example then sorts by who scores the most points on average\n",
    "team_piv = df.pivot_table(index = ['Season','team'],\n",
    "               values = ['pts','fg_pct','fg3_pct','ft_pct','ast','blk','stl','tov','orb','drb'],\n",
    "               aggfunc = np.mean).reset_index().sort_values(by = 'pts',ascending = False)\n",
    "team_piv.head()\n"
   ]
  },
  {
   "cell_type": "code",
   "execution_count": 263,
   "metadata": {},
   "outputs": [
    {
     "data": {
      "text/html": [
       "<div>\n",
       "<style scoped>\n",
       "    .dataframe tbody tr th:only-of-type {\n",
       "        vertical-align: middle;\n",
       "    }\n",
       "\n",
       "    .dataframe tbody tr th {\n",
       "        vertical-align: top;\n",
       "    }\n",
       "\n",
       "    .dataframe thead th {\n",
       "        text-align: right;\n",
       "    }\n",
       "</style>\n",
       "<table border=\"1\" class=\"dataframe\">\n",
       "  <thead>\n",
       "    <tr style=\"text-align: right;\">\n",
       "      <th></th>\n",
       "      <th>Season</th>\n",
       "      <th>team</th>\n",
       "      <th>W/L</th>\n",
       "    </tr>\n",
       "  </thead>\n",
       "  <tbody>\n",
       "    <tr>\n",
       "      <th>0</th>\n",
       "      <td>2015</td>\n",
       "      <td>Atlanta Hawks</td>\n",
       "      <td>52</td>\n",
       "    </tr>\n",
       "    <tr>\n",
       "      <th>1</th>\n",
       "      <td>2015</td>\n",
       "      <td>Boston Celtics</td>\n",
       "      <td>50</td>\n",
       "    </tr>\n",
       "    <tr>\n",
       "      <th>2</th>\n",
       "      <td>2015</td>\n",
       "      <td>Brooklyn Nets</td>\n",
       "      <td>21</td>\n",
       "    </tr>\n",
       "    <tr>\n",
       "      <th>3</th>\n",
       "      <td>2015</td>\n",
       "      <td>Charlotte Hornets</td>\n",
       "      <td>51</td>\n",
       "    </tr>\n",
       "    <tr>\n",
       "      <th>4</th>\n",
       "      <td>2015</td>\n",
       "      <td>Chicago Bulls</td>\n",
       "      <td>42</td>\n",
       "    </tr>\n",
       "  </tbody>\n",
       "</table>\n",
       "</div>"
      ],
      "text/plain": [
       "   Season               team  W/L\n",
       "0    2015      Atlanta Hawks   52\n",
       "1    2015     Boston Celtics   50\n",
       "2    2015      Brooklyn Nets   21\n",
       "3    2015  Charlotte Hornets   51\n",
       "4    2015      Chicago Bulls   42"
      ]
     },
     "execution_count": 263,
     "metadata": {},
     "output_type": "execute_result"
    }
   ],
   "source": [
    "#Wins by team and season\n",
    "wins = df[df['W/L']=='W'].groupby(['Season','team'])[['W/L']].count().reset_index()\n",
    "wins.head()"
   ]
  },
  {
   "cell_type": "code",
   "execution_count": 264,
   "metadata": {},
   "outputs": [
    {
     "data": {
      "text/html": [
       "<div>\n",
       "<style scoped>\n",
       "    .dataframe tbody tr th:only-of-type {\n",
       "        vertical-align: middle;\n",
       "    }\n",
       "\n",
       "    .dataframe tbody tr th {\n",
       "        vertical-align: top;\n",
       "    }\n",
       "\n",
       "    .dataframe thead th {\n",
       "        text-align: right;\n",
       "    }\n",
       "</style>\n",
       "<table border=\"1\" class=\"dataframe\">\n",
       "  <thead>\n",
       "    <tr style=\"text-align: right;\">\n",
       "      <th></th>\n",
       "      <th>Season</th>\n",
       "      <th>team</th>\n",
       "      <th>ast</th>\n",
       "      <th>blk</th>\n",
       "      <th>drb</th>\n",
       "      <th>fg3_pct</th>\n",
       "      <th>fg_pct</th>\n",
       "      <th>ft_pct</th>\n",
       "      <th>orb</th>\n",
       "      <th>pts</th>\n",
       "      <th>stl</th>\n",
       "      <th>tov</th>\n",
       "      <th>Wins</th>\n",
       "    </tr>\n",
       "  </thead>\n",
       "  <tbody>\n",
       "    <tr>\n",
       "      <th>0</th>\n",
       "      <td>2016</td>\n",
       "      <td>Golden State Warriors</td>\n",
       "      <td>30.232558</td>\n",
       "      <td>6.930233</td>\n",
       "      <td>35.197674</td>\n",
       "      <td>0.387058</td>\n",
       "      <td>0.495523</td>\n",
       "      <td>0.784558</td>\n",
       "      <td>9.325581</td>\n",
       "      <td>116.058140</td>\n",
       "      <td>9.511628</td>\n",
       "      <td>14.325581</td>\n",
       "      <td>71</td>\n",
       "    </tr>\n",
       "    <tr>\n",
       "      <th>1</th>\n",
       "      <td>2016</td>\n",
       "      <td>Houston Rockets</td>\n",
       "      <td>24.747126</td>\n",
       "      <td>4.333333</td>\n",
       "      <td>33.563218</td>\n",
       "      <td>0.352310</td>\n",
       "      <td>0.462828</td>\n",
       "      <td>0.766333</td>\n",
       "      <td>10.862069</td>\n",
       "      <td>115.195402</td>\n",
       "      <td>8.126437</td>\n",
       "      <td>14.436782</td>\n",
       "      <td>59</td>\n",
       "    </tr>\n",
       "    <tr>\n",
       "      <th>2</th>\n",
       "      <td>2015</td>\n",
       "      <td>Golden State Warriors</td>\n",
       "      <td>28.931034</td>\n",
       "      <td>6.034483</td>\n",
       "      <td>36.103448</td>\n",
       "      <td>0.412632</td>\n",
       "      <td>0.488207</td>\n",
       "      <td>0.760678</td>\n",
       "      <td>9.942529</td>\n",
       "      <td>114.609195</td>\n",
       "      <td>8.448276</td>\n",
       "      <td>14.770115</td>\n",
       "      <td>77</td>\n",
       "    </tr>\n",
       "    <tr>\n",
       "      <th>3</th>\n",
       "      <td>2017</td>\n",
       "      <td>Golden State Warriors</td>\n",
       "      <td>29.193182</td>\n",
       "      <td>7.352273</td>\n",
       "      <td>35.295455</td>\n",
       "      <td>0.385966</td>\n",
       "      <td>0.501875</td>\n",
       "      <td>0.814716</td>\n",
       "      <td>8.590909</td>\n",
       "      <td>113.125000</td>\n",
       "      <td>7.886364</td>\n",
       "      <td>14.863636</td>\n",
       "      <td>63</td>\n",
       "    </tr>\n",
       "    <tr>\n",
       "      <th>4</th>\n",
       "      <td>2017</td>\n",
       "      <td>Houston Rockets</td>\n",
       "      <td>21.465909</td>\n",
       "      <td>4.863636</td>\n",
       "      <td>34.443182</td>\n",
       "      <td>0.364659</td>\n",
       "      <td>0.459477</td>\n",
       "      <td>0.778307</td>\n",
       "      <td>9.000000</td>\n",
       "      <td>112.215909</td>\n",
       "      <td>8.443182</td>\n",
       "      <td>12.886364</td>\n",
       "      <td>70</td>\n",
       "    </tr>\n",
       "  </tbody>\n",
       "</table>\n",
       "</div>"
      ],
      "text/plain": [
       "   Season                   team        ast       blk        drb   fg3_pct  \\\n",
       "0    2016  Golden State Warriors  30.232558  6.930233  35.197674  0.387058   \n",
       "1    2016        Houston Rockets  24.747126  4.333333  33.563218  0.352310   \n",
       "2    2015  Golden State Warriors  28.931034  6.034483  36.103448  0.412632   \n",
       "3    2017  Golden State Warriors  29.193182  7.352273  35.295455  0.385966   \n",
       "4    2017        Houston Rockets  21.465909  4.863636  34.443182  0.364659   \n",
       "\n",
       "     fg_pct    ft_pct        orb         pts       stl        tov  Wins  \n",
       "0  0.495523  0.784558   9.325581  116.058140  9.511628  14.325581    71  \n",
       "1  0.462828  0.766333  10.862069  115.195402  8.126437  14.436782    59  \n",
       "2  0.488207  0.760678   9.942529  114.609195  8.448276  14.770115    77  \n",
       "3  0.501875  0.814716   8.590909  113.125000  7.886364  14.863636    63  \n",
       "4  0.459477  0.778307   9.000000  112.215909  8.443182  12.886364    70  "
      ]
     },
     "execution_count": 264,
     "metadata": {},
     "output_type": "execute_result"
    }
   ],
   "source": [
    "combined = team_piv.merge(wins,on = ['Season','team'],how = 'left')\n",
    "combined = combined.rename(columns = {'W/L':'Wins'})\n",
    "combined.head()"
   ]
  },
  {
   "cell_type": "markdown",
   "metadata": {},
   "source": [
    "## 4. Plotting "
   ]
  },
  {
   "cell_type": "code",
   "execution_count": 265,
   "metadata": {},
   "outputs": [],
   "source": [
    "## We'll use seaborn and matplotlib, but there are plenty others to choose from!\n",
    "import seaborn as sns\n",
    "import matplotlib.pyplot as plt"
   ]
  },
  {
   "cell_type": "code",
   "execution_count": 266,
   "metadata": {},
   "outputs": [
    {
     "data": {
      "text/plain": [
       "<seaborn.axisgrid.JointGrid at 0x7f2d077efd30>"
      ]
     },
     "execution_count": 266,
     "metadata": {},
     "output_type": "execute_result"
    },
    {
     "data": {
      "image/png": "[encoded data removed]",
      "text/plain": [
       "<Figure size 432x432 with 3 Axes>"
      ]
     },
     "metadata": {},
     "output_type": "display_data"
    }
   ],
   "source": [
    "#Joint Scatter plot\n",
    "sns.jointplot(data = combined, x= 'Wins',y = 'pts')\n"
   ]
  },
  {
   "cell_type": "code",
   "execution_count": 267,
   "metadata": {},
   "outputs": [
    {
     "data": {
      "text/plain": [
       "<seaborn.axisgrid.JointGrid at 0x7f2d0770abe0>"
      ]
     },
     "execution_count": 267,
     "metadata": {},
     "output_type": "execute_result"
    },
    {
     "data": {
      "image/png": "[encoded data removed]",
      "text/plain": [
       "<Figure size 432x432 with 3 Axes>"
      ]
     },
     "metadata": {},
     "output_type": "display_data"
    }
   ],
   "source": [
    "#Setting the style and adding a \"fit\" line. \n",
    "sns.set(style=\"darkgrid\")\n",
    "sns.jointplot(x='Wins',\n",
    "              y='ast',\n",
    "              kind='reg',\n",
    "              color=\"m\",\n",
    "              data=combined)"
   ]
  },
  {
   "cell_type": "code",
   "execution_count": 268,
   "metadata": {},
   "outputs": [
    {
     "data": {
      "text/plain": [
       "<matplotlib.axes._subplots.AxesSubplot at 0x7f2d07607048>"
      ]
     },
     "execution_count": 268,
     "metadata": {},
     "output_type": "execute_result"
    },
    {
     "data": {
      "image/png": "[encoded data removed]",
      "text/plain": [
       "<Figure size 432x288 with 2 Axes>"
      ]
     },
     "metadata": {},
     "output_type": "display_data"
    }
   ],
   "source": [
    "#Heatmap!\n",
    "corr = combined.corr()\n",
    "\n",
    "sns.heatmap(corr)"
   ]
  },
  {
   "cell_type": "code",
   "execution_count": 269,
   "metadata": {},
   "outputs": [
    {
     "data": {
      "text/plain": [
       "<seaborn.axisgrid.FacetGrid at 0x7f2d076d8f60>"
      ]
     },
     "execution_count": 269,
     "metadata": {},
     "output_type": "execute_result"
    },
    {
     "data": {
      "image/png": "[encoded data removed]",
      "text/plain": [
       "<Figure size 360x360 with 1 Axes>"
      ]
     },
     "metadata": {},
     "output_type": "display_data"
    }
   ],
   "source": [
    "#Box Plots\n",
    "g = sns.catplot(x='Season', \n",
    "                y='fg3_pct', \n",
    "                data=combined,\n",
    "                kind=\"box\") \n",
    "g.set_xticklabels(rotation=-45)"
   ]
  },
  {
   "cell_type": "markdown",
   "metadata": {},
   "source": [
    "## 5. Prediction Model"
   ]
  },
  {
   "cell_type": "markdown",
   "metadata": {},
   "source": [
    "Let's see if we can look at a team's stats and predict whether they won or not. \n",
    "\n",
    "This is a Classification Model (1/0 for Winning/Losing) vs a Regression model which outputs a number (e.g. score). \n",
    "\n",
    "**Credit:** This example used the following source for code:\n",
    "'Machine Learning Mastery with Python' By Jason Brownlee\n",
    "\n",
    "Get a copy here: [https://machinelearningmastery.com/](https://machinelearningmastery.com/)"
   ]
  },
  {
   "cell_type": "code",
   "execution_count": 270,
   "metadata": {},
   "outputs": [],
   "source": [
    "#Libraries\n",
    "from sklearn.model_selection import train_test_split, KFold, cross_val_score\n",
    "from sklearn.metrics import classification_report, confusion_matrix, accuracy_score\n",
    "from sklearn.preprocessing import StandardScaler\n",
    "from sklearn.linear_model import LogisticRegression\n",
    "from sklearn.neighbors import KNeighborsClassifier\n",
    "from sklearn.tree import DecisionTreeClassifier"
   ]
  },
  {
   "cell_type": "code",
   "execution_count": 271,
   "metadata": {},
   "outputs": [
    {
     "data": {
      "text/html": [
       "<div>\n",
       "<style scoped>\n",
       "    .dataframe tbody tr th:only-of-type {\n",
       "        vertical-align: middle;\n",
       "    }\n",
       "\n",
       "    .dataframe tbody tr th {\n",
       "        vertical-align: top;\n",
       "    }\n",
       "\n",
       "    .dataframe thead th {\n",
       "        text-align: right;\n",
       "    }\n",
       "</style>\n",
       "<table border=\"1\" class=\"dataframe\">\n",
       "  <thead>\n",
       "    <tr style=\"text-align: right;\">\n",
       "      <th></th>\n",
       "      <th>mp</th>\n",
       "      <th>fg</th>\n",
       "      <th>fga</th>\n",
       "      <th>fg_pct</th>\n",
       "      <th>fg3</th>\n",
       "      <th>fg3a</th>\n",
       "      <th>fg3_pct</th>\n",
       "      <th>ft</th>\n",
       "      <th>fta</th>\n",
       "      <th>ft_pct</th>\n",
       "      <th>...</th>\n",
       "      <th>pts</th>\n",
       "      <th>team</th>\n",
       "      <th>Date</th>\n",
       "      <th>Time</th>\n",
       "      <th>OT</th>\n",
       "      <th>attendance</th>\n",
       "      <th>home/away</th>\n",
       "      <th>id</th>\n",
       "      <th>W/L</th>\n",
       "      <th>Season</th>\n",
       "    </tr>\n",
       "  </thead>\n",
       "  <tbody>\n",
       "    <tr>\n",
       "      <th>0</th>\n",
       "      <td>240</td>\n",
       "      <td>37</td>\n",
       "      <td>96</td>\n",
       "      <td>0.385</td>\n",
       "      <td>12</td>\n",
       "      <td>29</td>\n",
       "      <td>0.414</td>\n",
       "      <td>20</td>\n",
       "      <td>26</td>\n",
       "      <td>0.769</td>\n",
       "      <td>...</td>\n",
       "      <td>106</td>\n",
       "      <td>Detroit Pistons</td>\n",
       "      <td>2015-10-27</td>\n",
       "      <td>20:00:00</td>\n",
       "      <td>NaN</td>\n",
       "      <td>19187</td>\n",
       "      <td>Away</td>\n",
       "      <td>0</td>\n",
       "      <td>W</td>\n",
       "      <td>2015</td>\n",
       "    </tr>\n",
       "    <tr>\n",
       "      <th>1</th>\n",
       "      <td>240</td>\n",
       "      <td>37</td>\n",
       "      <td>82</td>\n",
       "      <td>0.451</td>\n",
       "      <td>8</td>\n",
       "      <td>27</td>\n",
       "      <td>0.296</td>\n",
       "      <td>12</td>\n",
       "      <td>15</td>\n",
       "      <td>0.800</td>\n",
       "      <td>...</td>\n",
       "      <td>94</td>\n",
       "      <td>Atlanta Hawks</td>\n",
       "      <td>2015-10-27</td>\n",
       "      <td>20:00:00</td>\n",
       "      <td>NaN</td>\n",
       "      <td>19187</td>\n",
       "      <td>Home</td>\n",
       "      <td>0</td>\n",
       "      <td>L</td>\n",
       "      <td>2015</td>\n",
       "    </tr>\n",
       "    <tr>\n",
       "      <th>2</th>\n",
       "      <td>240</td>\n",
       "      <td>38</td>\n",
       "      <td>94</td>\n",
       "      <td>0.404</td>\n",
       "      <td>9</td>\n",
       "      <td>29</td>\n",
       "      <td>0.310</td>\n",
       "      <td>10</td>\n",
       "      <td>17</td>\n",
       "      <td>0.588</td>\n",
       "      <td>...</td>\n",
       "      <td>95</td>\n",
       "      <td>Cleveland Cavaliers</td>\n",
       "      <td>2015-10-27</td>\n",
       "      <td>20:00:00</td>\n",
       "      <td>NaN</td>\n",
       "      <td>21957</td>\n",
       "      <td>Away</td>\n",
       "      <td>1</td>\n",
       "      <td>L</td>\n",
       "      <td>2015</td>\n",
       "    </tr>\n",
       "    <tr>\n",
       "      <th>3</th>\n",
       "      <td>240</td>\n",
       "      <td>37</td>\n",
       "      <td>87</td>\n",
       "      <td>0.425</td>\n",
       "      <td>7</td>\n",
       "      <td>19</td>\n",
       "      <td>0.368</td>\n",
       "      <td>16</td>\n",
       "      <td>23</td>\n",
       "      <td>0.696</td>\n",
       "      <td>...</td>\n",
       "      <td>97</td>\n",
       "      <td>Chicago Bulls</td>\n",
       "      <td>2015-10-27</td>\n",
       "      <td>20:00:00</td>\n",
       "      <td>NaN</td>\n",
       "      <td>21957</td>\n",
       "      <td>Home</td>\n",
       "      <td>1</td>\n",
       "      <td>W</td>\n",
       "      <td>2015</td>\n",
       "    </tr>\n",
       "    <tr>\n",
       "      <th>4</th>\n",
       "      <td>240</td>\n",
       "      <td>35</td>\n",
       "      <td>83</td>\n",
       "      <td>0.422</td>\n",
       "      <td>6</td>\n",
       "      <td>18</td>\n",
       "      <td>0.333</td>\n",
       "      <td>19</td>\n",
       "      <td>27</td>\n",
       "      <td>0.704</td>\n",
       "      <td>...</td>\n",
       "      <td>95</td>\n",
       "      <td>New Orleans Pelicans</td>\n",
       "      <td>2015-10-27</td>\n",
       "      <td>22:30:00</td>\n",
       "      <td>NaN</td>\n",
       "      <td>19596</td>\n",
       "      <td>Away</td>\n",
       "      <td>2</td>\n",
       "      <td>L</td>\n",
       "      <td>2015</td>\n",
       "    </tr>\n",
       "  </tbody>\n",
       "</table>\n",
       "<p>5 rows × 28 columns</p>\n",
       "</div>"
      ],
      "text/plain": [
       "    mp  fg  fga  fg_pct  fg3  fg3a  fg3_pct  ft  fta  ft_pct  ...    pts  \\\n",
       "0  240  37   96   0.385   12    29    0.414  20   26   0.769  ...    106   \n",
       "1  240  37   82   0.451    8    27    0.296  12   15   0.800  ...     94   \n",
       "2  240  38   94   0.404    9    29    0.310  10   17   0.588  ...     95   \n",
       "3  240  37   87   0.425    7    19    0.368  16   23   0.696  ...     97   \n",
       "4  240  35   83   0.422    6    18    0.333  19   27   0.704  ...     95   \n",
       "\n",
       "                   team        Date      Time   OT  attendance  home/away  id  \\\n",
       "0       Detroit Pistons  2015-10-27  20:00:00  NaN       19187       Away   0   \n",
       "1         Atlanta Hawks  2015-10-27  20:00:00  NaN       19187       Home   0   \n",
       "2   Cleveland Cavaliers  2015-10-27  20:00:00  NaN       21957       Away   1   \n",
       "3         Chicago Bulls  2015-10-27  20:00:00  NaN       21957       Home   1   \n",
       "4  New Orleans Pelicans  2015-10-27  22:30:00  NaN       19596       Away   2   \n",
       "\n",
       "   W/L Season  \n",
       "0    W   2015  \n",
       "1    L   2015  \n",
       "2    L   2015  \n",
       "3    W   2015  \n",
       "4    L   2015  \n",
       "\n",
       "[5 rows x 28 columns]"
      ]
     },
     "execution_count": 271,
     "metadata": {},
     "output_type": "execute_result"
    }
   ],
   "source": [
    "df.head()"
   ]
  },
  {
   "cell_type": "code",
   "execution_count": 272,
   "metadata": {},
   "outputs": [
    {
     "data": {
      "text/plain": [
       "Index(['mp', 'fg', 'fga', 'fg_pct', 'fg3', 'fg3a', 'fg3_pct', 'ft', 'fta',\n",
       "       'ft_pct', 'orb', 'drb', 'trb', 'ast', 'stl', 'blk', 'tov', 'pf', 'pts',\n",
       "       'team', 'Date', 'Time', 'OT', 'attendance', 'home/away', 'id', 'W/L',\n",
       "       'Season'],\n",
       "      dtype='object')"
      ]
     },
     "execution_count": 272,
     "metadata": {},
     "output_type": "execute_result"
    }
   ],
   "source": [
    "df.columns"
   ]
  },
  {
   "cell_type": "markdown",
   "metadata": {},
   "source": [
    "Since the percentages (fg_pct, ft_pct, fg3_pct) are derived from the makes/attempts, we should only include one of these to fulful the independence assumption (all features should be independent). \n",
    "\n",
    "TRB (Total rebounds) is the same as ORB (Offensive Rebounds) + DRB (Defensive Rebounds), so we won't include that one either. "
   ]
  },
  {
   "cell_type": "code",
   "execution_count": 273,
   "metadata": {},
   "outputs": [
    {
     "name": "stdout",
     "output_type": "stream",
     "text": [
      "7652 7652\n"
     ]
    }
   ],
   "source": [
    "X = df[['fg_pct','fg3_pct','ft_pct','orb','drb','ast','blk','tov','pf']]\n",
    "Y = np.where(df['W/L']==\"W\",1,0)\n",
    "print(len(X),len(Y))\n",
    "validation_size = 0.2 # Percent of dataset that is used for validation\n",
    "seed = 7 \n",
    "X_train,X_validation,Y_train,Y_validation = train_test_split(X,Y,test_size = validation_size,random_state = seed)"
   ]
  },
  {
   "cell_type": "code",
   "execution_count": 274,
   "metadata": {},
   "outputs": [],
   "source": [
    "num_folds = 10\n",
    "seed = 7\n",
    "scoring = 'accuracy'"
   ]
  },
  {
   "cell_type": "code",
   "execution_count": 275,
   "metadata": {},
   "outputs": [],
   "source": [
    "models = []\n",
    "models.append(('LR',LogisticRegression()))\n",
    "models.append(('KNN',KNeighborsClassifier()))\n",
    "models.append((\"CART\",DecisionTreeClassifier()))"
   ]
  },
  {
   "cell_type": "code",
   "execution_count": 276,
   "metadata": {},
   "outputs": [
    {
     "name": "stdout",
     "output_type": "stream",
     "text": [
      "LR: 0.786961 (0.015968)\n",
      "KNN: 0.660512 (0.016623)\n",
      "CART: 0.704949 (0.017485)\n"
     ]
    }
   ],
   "source": [
    "results = []\n",
    "names = []\n",
    "for name, model in models:\n",
    "    kfold = KFold(n_splits=num_folds, random_state=seed)\n",
    "    cv_results = cross_val_score(model, X_train, Y_train, cv=kfold, scoring=scoring)\n",
    "    results.append(cv_results)\n",
    "    names.append(name)\n",
    "    msg = \"%s: %f (%f)\" % (name, cv_results.mean(), cv_results.std())\n",
    "    print(msg)"
   ]
  },
  {
   "cell_type": "code",
   "execution_count": 277,
   "metadata": {},
   "outputs": [
    {
     "data": {
      "image/png": "[encoded data removed]",
      "text/plain": [
       "<Figure size 432x288 with 1 Axes>"
      ]
     },
     "metadata": {},
     "output_type": "display_data"
    }
   ],
   "source": [
    "# Compare Algorithms\n",
    "fig = plt.figure()\n",
    "fig.suptitle('Algorithm Comparison')\n",
    "ax = fig.add_subplot(111)\n",
    "plt.boxplot(results)\n",
    "ax.set_xticklabels(names)\n",
    "plt.show()"
   ]
  },
  {
   "cell_type": "markdown",
   "metadata": {},
   "source": [
    "Logistic Regression seems to be performing the best. Let's see which features in the model are impacting our model the most. "
   ]
  },
  {
   "cell_type": "code",
   "execution_count": 278,
   "metadata": {},
   "outputs": [
    {
     "name": "stdout",
     "output_type": "stream",
     "text": [
      "[[ 13.60272614   4.96191137   1.61417596   0.08611132   0.16820715\n",
      "    0.0296255    0.09474841  -0.12644475  -0.06177284]]\n",
      "0.808621815807\n",
      "[[593 154]\n",
      " [139 645]]\n",
      "              precision    recall  f1-score   support\n",
      "\n",
      "           0       0.81      0.79      0.80       747\n",
      "           1       0.81      0.82      0.81       784\n",
      "\n",
      "   micro avg       0.81      0.81      0.81      1531\n",
      "   macro avg       0.81      0.81      0.81      1531\n",
      "weighted avg       0.81      0.81      0.81      1531\n",
      "\n"
     ]
    }
   ],
   "source": [
    "m = LogisticRegression()\n",
    "m.fit(X_train,Y_train)\n",
    "print(m.coef_)\n",
    "\n",
    "predictions = m.predict(X_validation)\n",
    "print(accuracy_score(Y_validation,predictions))\n",
    "print(confusion_matrix(Y_validation,predictions))\n",
    "print(classification_report(Y_validation,predictions))"
   ]
  },
  {
   "cell_type": "markdown",
   "metadata": {},
   "source": [
    "Since our features haven't been standardized, the coefficients will be largely depending on the scaling of the features. Let's try with Standardized inputs.."
   ]
  },
  {
   "cell_type": "code",
   "execution_count": 279,
   "metadata": {},
   "outputs": [
    {
     "name": "stdout",
     "output_type": "stream",
     "text": [
      "[[ 1.66550841  0.49822083  0.36834265  0.67274645  1.2591721  -0.08872089\n",
      "   0.28581161 -0.61795647 -0.28005411]]\n",
      "Index(['fg_pct', 'fg3_pct', 'ft_pct', 'orb', 'drb', 'ast', 'blk', 'tov', 'pf'], dtype='object')\n",
      "0.814500326584\n",
      "[[601 146]\n",
      " [138 646]]\n",
      "              precision    recall  f1-score   support\n",
      "\n",
      "           0       0.81      0.80      0.81       747\n",
      "           1       0.82      0.82      0.82       784\n",
      "\n",
      "   micro avg       0.81      0.81      0.81      1531\n",
      "   macro avg       0.81      0.81      0.81      1531\n",
      "weighted avg       0.81      0.81      0.81      1531\n",
      "\n"
     ]
    }
   ],
   "source": [
    "scaler = StandardScaler().fit(X)\n",
    "rescaledX = scaler.transform(X)\n",
    "XR_train,XR_validation,YR_train,YR_validation = train_test_split(rescaledX,\n",
    "                                                                 Y,test_size = validation_size,random_state = seed)\n",
    "m.fit(XR_train,YR_train)\n",
    "print(m.coef_)\n",
    "print(X.columns)\n",
    "predictions = m.predict(XR_validation)\n",
    "print(accuracy_score(YR_validation,predictions))\n",
    "print(confusion_matrix(YR_validation,predictions))\n",
    "print(classification_report(YR_validation,predictions))"
   ]
  },
  {
   "cell_type": "code",
   "execution_count": 280,
   "metadata": {},
   "outputs": [
    {
     "data": {
      "text/plain": [
       "Text(0.5,1,'Feature Importance')"
      ]
     },
     "execution_count": 280,
     "metadata": {},
     "output_type": "execute_result"
    },
    {
     "data": {
      "image/png": "[encoded data removed]",
      "text/plain": [
       "<Figure size 432x288 with 1 Axes>"
      ]
     },
     "metadata": {},
     "output_type": "display_data"
    }
   ],
   "source": [
    "f = pd.DataFrame({'features':X.columns,'coef':m.coef_[0]})\n",
    "f = f.sort_values(by = 'coef',ascending = False)\n",
    "sns.barplot(data = f,x = 'coef',y = 'features')\n",
    "plt.xlabel('Coefficient')\n",
    "plt.ylabel('Feature (Standardized)')\n",
    "plt.title(\"Feature Importance\")"
   ]
  },
  {
   "cell_type": "markdown",
   "metadata": {},
   "source": [
    "So for this model, field goal percentage, and defensive rebounds are the best predictors of winning. \n",
    "\n",
    "Interestingly, assists (ast) seem to correlate negatively with winning. This supports my personal hypothesis that the NBA is all about individually great players rather than great teams (as unfortunate as that is). "
   ]
  },
  {
   "cell_type": "code",
   "execution_count": null,
   "metadata": {},
   "outputs": [],
   "source": []
  }
 ],
 "metadata": {
  "kernelspec": {
   "display_name": "Python 3",
   "language": "python",
   "name": "python3"
  },
  "language_info": {
   "codemirror_mode": {
    "name": "ipython",
    "version": 3
   },
   "file_extension": ".py",
   "mimetype": "text/x-python",
   "name": "python",
   "nbconvert_exporter": "python",
   "pygments_lexer": "ipython3",
   "version": "3.6.7"
  }
 },
 "nbformat": 4,
 "nbformat_minor": 2
}
