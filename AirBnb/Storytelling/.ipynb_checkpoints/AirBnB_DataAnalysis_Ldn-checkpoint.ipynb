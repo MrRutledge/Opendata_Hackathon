{
 "cells": [
  {
   "cell_type": "markdown",
   "metadata": {},
   "source": [
    "# AirBnB Example Notebook\n",
    "\n",
    "### In this example notebook, we'll walk through the basics of exploring your data including: \n",
    "- importing data\n",
    "- understanding data\n",
    "- transforming data\n",
    "- visualising data\n",
    "\n",
    "First things first, we'll import the python libraries we'll need:"
   ]
  },
  {
   "cell_type": "code",
   "execution_count": 1,
   "metadata": {},
   "outputs": [],
   "source": [
    "import pandas as pd             # data maniuplation\n",
    "import numpy as np              # numerical libraries\n",
    "import os                       # operating-system specifics\n",
    "import matplotlib.pyplot as plt # plotting\n",
    "import seaborn as sns           # fancy stylesheet over matplotlib"
   ]
  },
  {
   "cell_type": "markdown",
   "metadata": {},
   "source": [
    "... and list the `.csv` files we have access to in the `Data` folder. The [os library](https://docs.python.org/3/library/os.html) allows you standardize the way you go through your file directory so it won't matter if you're on a mac or a PC."
   ]
  },
  {
   "cell_type": "code",
   "execution_count": 2,
   "metadata": {},
   "outputs": [
    {
     "data": {
      "text/plain": [
       "['HousePrices.csv', 'Reviews.csv', 'Listings.csv', 'Calendar.csv', 'Hosts.csv']"
      ]
     },
     "execution_count": 2,
     "metadata": {},
     "output_type": "execute_result"
    }
   ],
   "source": [
    "path = os.path.join(\"..\",\"..\",\"Data\")\n",
    "[f for f in os.listdir(path) if f.endswith(\".csv\")]"
   ]
  },
  {
   "cell_type": "markdown",
   "metadata": {},
   "source": [
    "## Getting to grips with the data\n",
    "\n",
    "To get a feel for what's in a dataframe, use the `head()` function, e.g."
   ]
  },
  {
   "cell_type": "code",
   "execution_count": 25,
   "metadata": {},
   "outputs": [
    {
     "data": {
      "text/html": [
       "<div>\n",
       "<style scoped>\n",
       "    .dataframe tbody tr th:only-of-type {\n",
       "        vertical-align: middle;\n",
       "    }\n",
       "\n",
       "    .dataframe tbody tr th {\n",
       "        vertical-align: top;\n",
       "    }\n",
       "\n",
       "    .dataframe thead th {\n",
       "        text-align: right;\n",
       "    }\n",
       "</style>\n",
       "<table border=\"1\" class=\"dataframe\">\n",
       "  <thead>\n",
       "    <tr style=\"text-align: right;\">\n",
       "      <th></th>\n",
       "      <th>id</th>\n",
       "      <th>last scraped</th>\n",
       "      <th>listing url</th>\n",
       "      <th>name</th>\n",
       "      <th>host id</th>\n",
       "      <th>experiences</th>\n",
       "      <th>neighbourhood</th>\n",
       "      <th>latitude</th>\n",
       "      <th>longitude</th>\n",
       "      <th>property type</th>\n",
       "      <th>...</th>\n",
       "      <th>review cleanliness</th>\n",
       "      <th>review checkin</th>\n",
       "      <th>review communication</th>\n",
       "      <th>review location</th>\n",
       "      <th>review value</th>\n",
       "      <th>price</th>\n",
       "      <th>security deposit</th>\n",
       "      <th>cleaning fee</th>\n",
       "      <th>guests included</th>\n",
       "      <th>extra people</th>\n",
       "    </tr>\n",
       "  </thead>\n",
       "  <tbody>\n",
       "    <tr>\n",
       "      <th>0</th>\n",
       "      <td>9554</td>\n",
       "      <td>2018-04-08</td>\n",
       "      <td>https://www.airbnb.com/rooms/9554</td>\n",
       "      <td>Cozy, 3 minutes to Piccadilly Line</td>\n",
       "      <td>31655</td>\n",
       "      <td>none</td>\n",
       "      <td>Haringey</td>\n",
       "      <td>51.587767</td>\n",
       "      <td>-0.105666</td>\n",
       "      <td>Apartment</td>\n",
       "      <td>...</td>\n",
       "      <td>9.0</td>\n",
       "      <td>10.0</td>\n",
       "      <td>10.0</td>\n",
       "      <td>9.0</td>\n",
       "      <td>10.0</td>\n",
       "      <td>$35.00</td>\n",
       "      <td>NaN</td>\n",
       "      <td>$7.00</td>\n",
       "      <td>1</td>\n",
       "      <td>$15.00</td>\n",
       "    </tr>\n",
       "    <tr>\n",
       "      <th>1</th>\n",
       "      <td>11076</td>\n",
       "      <td>2018-04-08</td>\n",
       "      <td>https://www.airbnb.com/rooms/11076</td>\n",
       "      <td>The Sanctuary</td>\n",
       "      <td>40471</td>\n",
       "      <td>none</td>\n",
       "      <td>Ealing</td>\n",
       "      <td>51.515645</td>\n",
       "      <td>-0.314508</td>\n",
       "      <td>Apartment</td>\n",
       "      <td>...</td>\n",
       "      <td>9.0</td>\n",
       "      <td>10.0</td>\n",
       "      <td>9.0</td>\n",
       "      <td>9.0</td>\n",
       "      <td>9.0</td>\n",
       "      <td>$70.00</td>\n",
       "      <td>NaN</td>\n",
       "      <td>NaN</td>\n",
       "      <td>2</td>\n",
       "      <td>$35.00</td>\n",
       "    </tr>\n",
       "    <tr>\n",
       "      <th>2</th>\n",
       "      <td>11417</td>\n",
       "      <td>2018-04-08</td>\n",
       "      <td>https://www.airbnb.com/rooms/11417</td>\n",
       "      <td>St. Katharine Docks apartment with amazing views</td>\n",
       "      <td>41781</td>\n",
       "      <td>none</td>\n",
       "      <td>Tower Hamlets</td>\n",
       "      <td>51.505994</td>\n",
       "      <td>-0.069690</td>\n",
       "      <td>Apartment</td>\n",
       "      <td>...</td>\n",
       "      <td>10.0</td>\n",
       "      <td>10.0</td>\n",
       "      <td>10.0</td>\n",
       "      <td>10.0</td>\n",
       "      <td>9.0</td>\n",
       "      <td>$105.00</td>\n",
       "      <td>$250.00</td>\n",
       "      <td>NaN</td>\n",
       "      <td>1</td>\n",
       "      <td>$0.00</td>\n",
       "    </tr>\n",
       "  </tbody>\n",
       "</table>\n",
       "<p>3 rows × 36 columns</p>\n",
       "</div>"
      ],
      "text/plain": [
       "      id last scraped                         listing url  \\\n",
       "0   9554   2018-04-08   https://www.airbnb.com/rooms/9554   \n",
       "1  11076   2018-04-08  https://www.airbnb.com/rooms/11076   \n",
       "2  11417   2018-04-08  https://www.airbnb.com/rooms/11417   \n",
       "\n",
       "                                               name  host id experiences  \\\n",
       "0                Cozy, 3 minutes to Piccadilly Line    31655        none   \n",
       "1                                     The Sanctuary    40471        none   \n",
       "2  St. Katharine Docks apartment with amazing views    41781        none   \n",
       "\n",
       "   neighbourhood   latitude  longitude property type     ...       \\\n",
       "0       Haringey  51.587767  -0.105666     Apartment     ...        \n",
       "1         Ealing  51.515645  -0.314508     Apartment     ...        \n",
       "2  Tower Hamlets  51.505994  -0.069690     Apartment     ...        \n",
       "\n",
       "  review cleanliness  review checkin  review communication  review location  \\\n",
       "0                9.0            10.0                  10.0              9.0   \n",
       "1                9.0            10.0                   9.0              9.0   \n",
       "2               10.0            10.0                  10.0             10.0   \n",
       "\n",
       "   review value    price  security deposit  cleaning fee  guests included  \\\n",
       "0          10.0   $35.00               NaN         $7.00                1   \n",
       "1           9.0   $70.00               NaN           NaN                2   \n",
       "2           9.0  $105.00           $250.00           NaN                1   \n",
       "\n",
       "  extra people  \n",
       "0       $15.00  \n",
       "1       $35.00  \n",
       "2        $0.00  \n",
       "\n",
       "[3 rows x 36 columns]"
      ]
     },
     "execution_count": 25,
     "metadata": {},
     "output_type": "execute_result"
    }
   ],
   "source": [
    "listings = pd.read_csv(os.path.join(path,\"Listings.csv\"))\n",
    "listings.head(3) # Top 3 rows - by default this is 5"
   ]
  },
  {
   "cell_type": "markdown",
   "metadata": {},
   "source": [
    "To get some summary statistics about each of the columns in the dataframe, use the `describe()` function."
   ]
  },
  {
   "cell_type": "code",
   "execution_count": 4,
   "metadata": {},
   "outputs": [
    {
     "data": {
      "text/html": [
       "<div>\n",
       "<style scoped>\n",
       "    .dataframe tbody tr th:only-of-type {\n",
       "        vertical-align: middle;\n",
       "    }\n",
       "\n",
       "    .dataframe tbody tr th {\n",
       "        vertical-align: top;\n",
       "    }\n",
       "\n",
       "    .dataframe thead th {\n",
       "        text-align: right;\n",
       "    }\n",
       "</style>\n",
       "<table border=\"1\" class=\"dataframe\">\n",
       "  <thead>\n",
       "    <tr style=\"text-align: right;\">\n",
       "      <th></th>\n",
       "      <th>id</th>\n",
       "      <th>host id</th>\n",
       "      <th>latitude</th>\n",
       "      <th>longitude</th>\n",
       "      <th>accommodates</th>\n",
       "      <th>bathrooms</th>\n",
       "      <th>bedrooms</th>\n",
       "      <th>beds</th>\n",
       "      <th>minNights</th>\n",
       "      <th>maxNights</th>\n",
       "      <th>reviewCount</th>\n",
       "      <th>review rating</th>\n",
       "      <th>review accuracy</th>\n",
       "      <th>review cleanliness</th>\n",
       "      <th>review checkin</th>\n",
       "      <th>review communication</th>\n",
       "      <th>review location</th>\n",
       "      <th>review value</th>\n",
       "      <th>guests included</th>\n",
       "    </tr>\n",
       "  </thead>\n",
       "  <tbody>\n",
       "    <tr>\n",
       "      <th>count</th>\n",
       "      <td>1.035460e+05</td>\n",
       "      <td>1.035460e+05</td>\n",
       "      <td>103546.000000</td>\n",
       "      <td>103546.000000</td>\n",
       "      <td>103546.000000</td>\n",
       "      <td>103332.000000</td>\n",
       "      <td>103480.000000</td>\n",
       "      <td>103376.000000</td>\n",
       "      <td>103546.000000</td>\n",
       "      <td>1.035460e+05</td>\n",
       "      <td>103546.000000</td>\n",
       "      <td>73882.000000</td>\n",
       "      <td>73785.000000</td>\n",
       "      <td>73813.000000</td>\n",
       "      <td>73698.000000</td>\n",
       "      <td>73787.000000</td>\n",
       "      <td>73690.000000</td>\n",
       "      <td>73684.000000</td>\n",
       "      <td>103546.000000</td>\n",
       "    </tr>\n",
       "    <tr>\n",
       "      <th>mean</th>\n",
       "      <td>1.860240e+07</td>\n",
       "      <td>6.811356e+07</td>\n",
       "      <td>51.509675</td>\n",
       "      <td>-0.127843</td>\n",
       "      <td>3.180557</td>\n",
       "      <td>1.286523</td>\n",
       "      <td>1.397198</td>\n",
       "      <td>1.747688</td>\n",
       "      <td>3.758272</td>\n",
       "      <td>5.834671e+04</td>\n",
       "      <td>14.560823</td>\n",
       "      <td>92.270864</td>\n",
       "      <td>9.471871</td>\n",
       "      <td>9.239064</td>\n",
       "      <td>9.602092</td>\n",
       "      <td>9.638961</td>\n",
       "      <td>9.461759</td>\n",
       "      <td>9.246458</td>\n",
       "      <td>1.553290</td>\n",
       "    </tr>\n",
       "    <tr>\n",
       "      <th>std</th>\n",
       "      <td>8.733189e+06</td>\n",
       "      <td>6.732846e+07</td>\n",
       "      <td>0.045636</td>\n",
       "      <td>0.091573</td>\n",
       "      <td>2.002515</td>\n",
       "      <td>0.601339</td>\n",
       "      <td>0.915355</td>\n",
       "      <td>1.260421</td>\n",
       "      <td>13.606510</td>\n",
       "      <td>1.007425e+07</td>\n",
       "      <td>31.232065</td>\n",
       "      <td>10.454360</td>\n",
       "      <td>1.017013</td>\n",
       "      <td>1.168182</td>\n",
       "      <td>0.932985</td>\n",
       "      <td>0.911308</td>\n",
       "      <td>0.875098</td>\n",
       "      <td>1.055188</td>\n",
       "      <td>1.270976</td>\n",
       "    </tr>\n",
       "    <tr>\n",
       "      <th>min</th>\n",
       "      <td>9.554000e+03</td>\n",
       "      <td>5.160000e+02</td>\n",
       "      <td>51.289812</td>\n",
       "      <td>-0.509800</td>\n",
       "      <td>0.000000</td>\n",
       "      <td>0.000000</td>\n",
       "      <td>0.000000</td>\n",
       "      <td>0.000000</td>\n",
       "      <td>1.000000</td>\n",
       "      <td>1.000000e+00</td>\n",
       "      <td>0.000000</td>\n",
       "      <td>20.000000</td>\n",
       "      <td>2.000000</td>\n",
       "      <td>2.000000</td>\n",
       "      <td>2.000000</td>\n",
       "      <td>2.000000</td>\n",
       "      <td>2.000000</td>\n",
       "      <td>2.000000</td>\n",
       "      <td>1.000000</td>\n",
       "    </tr>\n",
       "    <tr>\n",
       "      <th>25%</th>\n",
       "      <td>1.251873e+07</td>\n",
       "      <td>1.310693e+07</td>\n",
       "      <td>51.486150</td>\n",
       "      <td>-0.187520</td>\n",
       "      <td>2.000000</td>\n",
       "      <td>1.000000</td>\n",
       "      <td>1.000000</td>\n",
       "      <td>1.000000</td>\n",
       "      <td>1.000000</td>\n",
       "      <td>3.100000e+01</td>\n",
       "      <td>0.000000</td>\n",
       "      <td>90.000000</td>\n",
       "      <td>9.000000</td>\n",
       "      <td>9.000000</td>\n",
       "      <td>9.000000</td>\n",
       "      <td>10.000000</td>\n",
       "      <td>9.000000</td>\n",
       "      <td>9.000000</td>\n",
       "      <td>1.000000</td>\n",
       "    </tr>\n",
       "    <tr>\n",
       "      <th>50%</th>\n",
       "      <td>1.993665e+07</td>\n",
       "      <td>4.016090e+07</td>\n",
       "      <td>51.513804</td>\n",
       "      <td>-0.125415</td>\n",
       "      <td>2.000000</td>\n",
       "      <td>1.000000</td>\n",
       "      <td>1.000000</td>\n",
       "      <td>1.000000</td>\n",
       "      <td>2.000000</td>\n",
       "      <td>1.125000e+03</td>\n",
       "      <td>3.000000</td>\n",
       "      <td>95.000000</td>\n",
       "      <td>10.000000</td>\n",
       "      <td>10.000000</td>\n",
       "      <td>10.000000</td>\n",
       "      <td>10.000000</td>\n",
       "      <td>10.000000</td>\n",
       "      <td>9.000000</td>\n",
       "      <td>1.000000</td>\n",
       "    </tr>\n",
       "    <tr>\n",
       "      <th>75%</th>\n",
       "      <td>2.484513e+07</td>\n",
       "      <td>1.162400e+08</td>\n",
       "      <td>51.536790</td>\n",
       "      <td>-0.070150</td>\n",
       "      <td>4.000000</td>\n",
       "      <td>1.500000</td>\n",
       "      <td>2.000000</td>\n",
       "      <td>2.000000</td>\n",
       "      <td>3.000000</td>\n",
       "      <td>1.125000e+03</td>\n",
       "      <td>15.000000</td>\n",
       "      <td>100.000000</td>\n",
       "      <td>10.000000</td>\n",
       "      <td>10.000000</td>\n",
       "      <td>10.000000</td>\n",
       "      <td>10.000000</td>\n",
       "      <td>10.000000</td>\n",
       "      <td>10.000000</td>\n",
       "      <td>2.000000</td>\n",
       "    </tr>\n",
       "    <tr>\n",
       "      <th>max</th>\n",
       "      <td>3.288463e+07</td>\n",
       "      <td>2.473889e+08</td>\n",
       "      <td>51.686817</td>\n",
       "      <td>0.317520</td>\n",
       "      <td>16.000000</td>\n",
       "      <td>17.000000</td>\n",
       "      <td>44.000000</td>\n",
       "      <td>23.000000</td>\n",
       "      <td>1125.000000</td>\n",
       "      <td>2.147484e+09</td>\n",
       "      <td>614.000000</td>\n",
       "      <td>100.000000</td>\n",
       "      <td>10.000000</td>\n",
       "      <td>10.000000</td>\n",
       "      <td>10.000000</td>\n",
       "      <td>10.000000</td>\n",
       "      <td>10.000000</td>\n",
       "      <td>10.000000</td>\n",
       "      <td>24.000000</td>\n",
       "    </tr>\n",
       "  </tbody>\n",
       "</table>\n",
       "</div>"
      ],
      "text/plain": [
       "                 id       host id       latitude      longitude  \\\n",
       "count  1.035460e+05  1.035460e+05  103546.000000  103546.000000   \n",
       "mean   1.860240e+07  6.811356e+07      51.509675      -0.127843   \n",
       "std    8.733189e+06  6.732846e+07       0.045636       0.091573   \n",
       "min    9.554000e+03  5.160000e+02      51.289812      -0.509800   \n",
       "25%    1.251873e+07  1.310693e+07      51.486150      -0.187520   \n",
       "50%    1.993665e+07  4.016090e+07      51.513804      -0.125415   \n",
       "75%    2.484513e+07  1.162400e+08      51.536790      -0.070150   \n",
       "max    3.288463e+07  2.473889e+08      51.686817       0.317520   \n",
       "\n",
       "        accommodates      bathrooms       bedrooms           beds  \\\n",
       "count  103546.000000  103332.000000  103480.000000  103376.000000   \n",
       "mean        3.180557       1.286523       1.397198       1.747688   \n",
       "std         2.002515       0.601339       0.915355       1.260421   \n",
       "min         0.000000       0.000000       0.000000       0.000000   \n",
       "25%         2.000000       1.000000       1.000000       1.000000   \n",
       "50%         2.000000       1.000000       1.000000       1.000000   \n",
       "75%         4.000000       1.500000       2.000000       2.000000   \n",
       "max        16.000000      17.000000      44.000000      23.000000   \n",
       "\n",
       "           minNights     maxNights    reviewCount  review rating  \\\n",
       "count  103546.000000  1.035460e+05  103546.000000   73882.000000   \n",
       "mean        3.758272  5.834671e+04      14.560823      92.270864   \n",
       "std        13.606510  1.007425e+07      31.232065      10.454360   \n",
       "min         1.000000  1.000000e+00       0.000000      20.000000   \n",
       "25%         1.000000  3.100000e+01       0.000000      90.000000   \n",
       "50%         2.000000  1.125000e+03       3.000000      95.000000   \n",
       "75%         3.000000  1.125000e+03      15.000000     100.000000   \n",
       "max      1125.000000  2.147484e+09     614.000000     100.000000   \n",
       "\n",
       "       review accuracy  review cleanliness  review checkin  \\\n",
       "count     73785.000000        73813.000000    73698.000000   \n",
       "mean          9.471871            9.239064        9.602092   \n",
       "std           1.017013            1.168182        0.932985   \n",
       "min           2.000000            2.000000        2.000000   \n",
       "25%           9.000000            9.000000        9.000000   \n",
       "50%          10.000000           10.000000       10.000000   \n",
       "75%          10.000000           10.000000       10.000000   \n",
       "max          10.000000           10.000000       10.000000   \n",
       "\n",
       "       review communication  review location  review value  guests included  \n",
       "count          73787.000000     73690.000000  73684.000000    103546.000000  \n",
       "mean               9.638961         9.461759      9.246458         1.553290  \n",
       "std                0.911308         0.875098      1.055188         1.270976  \n",
       "min                2.000000         2.000000      2.000000         1.000000  \n",
       "25%               10.000000         9.000000      9.000000         1.000000  \n",
       "50%               10.000000        10.000000      9.000000         1.000000  \n",
       "75%               10.000000        10.000000     10.000000         2.000000  \n",
       "max               10.000000        10.000000     10.000000        24.000000  "
      ]
     },
     "execution_count": 4,
     "metadata": {},
     "output_type": "execute_result"
    }
   ],
   "source": [
    "listings.describe()"
   ]
  },
  {
   "cell_type": "markdown",
   "metadata": {},
   "source": [
    "A common pitfall when first using `pandas` arises from the column typings. Python is a dynamically-typed language, which means you often don't explictly see the type of a variable you are working with. Note that it is still strongly-typed though:"
   ]
  },
  {
   "cell_type": "code",
   "execution_count": 27,
   "metadata": {},
   "outputs": [
    {
     "name": "stdout",
     "output_type": "stream",
     "text": [
      "A string another string\n",
      "That didnt work\n"
     ]
    }
   ],
   "source": [
    "def example():\n",
    "    a = 'A string '\n",
    "    b = 'another string'\n",
    "    c = 100 # A number\n",
    "    print(a + b)\n",
    "    try:\n",
    "        print(a + c)\n",
    "    except TypeError:\n",
    "        print('That didnt work')\n",
    "example()"
   ]
  },
  {
   "cell_type": "markdown",
   "metadata": {},
   "source": [
    "Although the types aren't specified by the user, they are inferred by the language runtime and their behaviour is dictated accordingly. Contrast this to dynamic and *weakly-typed* languages like javascript, which will happily allow the addition of numbers and strings.\n",
    "\n",
    "To get the data types (`dtypes`) of your columns, use the `dtypes` property of a dataframe:"
   ]
  },
  {
   "cell_type": "code",
   "execution_count": 5,
   "metadata": {},
   "outputs": [
    {
     "data": {
      "text/plain": [
       "id                            int64\n",
       "last scraped                 object\n",
       "listing url                  object\n",
       "name                         object\n",
       "host id                       int64\n",
       "experiences                  object\n",
       "neighbourhood                object\n",
       "latitude                    float64\n",
       "longitude                   float64\n",
       "property type                object\n",
       "room type                    object\n",
       "accommodates                  int64\n",
       "bathrooms                   float64\n",
       "bedrooms                    float64\n",
       "beds                        float64\n",
       "bed type                     object\n",
       "minNights                     int64\n",
       "maxNights                     int64\n",
       "reviewCount                   int64\n",
       "instant bookable             object\n",
       "is business travel ready     object\n",
       "cancellation policy          object\n",
       "first review                 object\n",
       "last review                  object\n",
       "review rating               float64\n",
       "review accuracy             float64\n",
       "review cleanliness          float64\n",
       "review checkin              float64\n",
       "review communication        float64\n",
       "review location             float64\n",
       "review value                float64\n",
       "price                        object\n",
       "security deposit             object\n",
       "cleaning fee                 object\n",
       "guests included               int64\n",
       "extra people                 object\n",
       "dtype: object"
      ]
     },
     "execution_count": 5,
     "metadata": {},
     "output_type": "execute_result"
    }
   ],
   "source": [
    "listings.dtypes"
   ]
  },
  {
   "cell_type": "markdown",
   "metadata": {},
   "source": [
    "You can read more about `dtypes` [here](https://pandas.pydata.org/pandas-docs/stable/getting_started/basics.html#basics-dtypes), the main thing to note is that `object` is potentially bad. Pandas uses `object` for string columns, which is fine for columns like `name`, but bad for columns which we expect to have stricter types, like the datetime columns `last scraped`, `first review` etc.\n",
    "\n",
    "In this case, we need to explicitly tell pandas that these columns represent dates:"
   ]
  },
  {
   "cell_type": "code",
   "execution_count": 28,
   "metadata": {},
   "outputs": [],
   "source": [
    "listings['last scraped'] = pd.to_datetime(listings['last scraped'])\n",
    "listings['first review'] = pd.to_datetime(listings['first review'])\n",
    "listings['last review']  = pd.to_datetime(listings['last review'])"
   ]
  },
  {
   "cell_type": "code",
   "execution_count": 30,
   "metadata": {},
   "outputs": [
    {
     "data": {
      "text/plain": [
       "id                                   int64\n",
       "last scraped                datetime64[ns]\n",
       "listing url                         object\n",
       "name                                object\n",
       "host id                              int64\n",
       "experiences                         object\n",
       "neighbourhood                       object\n",
       "latitude                           float64\n",
       "longitude                          float64\n",
       "property type                       object\n",
       "room type                           object\n",
       "accommodates                         int64\n",
       "bathrooms                          float64\n",
       "bedrooms                           float64\n",
       "beds                               float64\n",
       "bed type                            object\n",
       "minNights                            int64\n",
       "maxNights                            int64\n",
       "reviewCount                          int64\n",
       "instant bookable                    object\n",
       "is business travel ready            object\n",
       "cancellation policy                 object\n",
       "first review                datetime64[ns]\n",
       "last review                 datetime64[ns]\n",
       "review rating                      float64\n",
       "review accuracy                    float64\n",
       "review cleanliness                 float64\n",
       "review checkin                     float64\n",
       "review communication               float64\n",
       "review location                    float64\n",
       "review value                       float64\n",
       "price                               object\n",
       "security deposit                    object\n",
       "cleaning fee                        object\n",
       "guests included                      int64\n",
       "extra people                        object\n",
       "dtype: object"
      ]
     },
     "execution_count": 30,
     "metadata": {},
     "output_type": "execute_result"
    }
   ],
   "source": [
    "listings.dtypes"
   ]
  },
  {
   "cell_type": "markdown",
   "metadata": {},
   "source": [
    "Typings are one place where the data can act like you don't expect, another part of the cleaning process is checking for null values.\n",
    "\n",
    "Pandas provides a function `isnull()`, which creates a new dataframe full of `True / False` if each cell is null or not, e.g."
   ]
  },
  {
   "cell_type": "code",
   "execution_count": 32,
   "metadata": {},
   "outputs": [
    {
     "data": {
      "text/html": [
       "<div>\n",
       "<style scoped>\n",
       "    .dataframe tbody tr th:only-of-type {\n",
       "        vertical-align: middle;\n",
       "    }\n",
       "\n",
       "    .dataframe tbody tr th {\n",
       "        vertical-align: top;\n",
       "    }\n",
       "\n",
       "    .dataframe thead th {\n",
       "        text-align: right;\n",
       "    }\n",
       "</style>\n",
       "<table border=\"1\" class=\"dataframe\">\n",
       "  <thead>\n",
       "    <tr style=\"text-align: right;\">\n",
       "      <th></th>\n",
       "      <th>id</th>\n",
       "      <th>last scraped</th>\n",
       "      <th>listing url</th>\n",
       "      <th>name</th>\n",
       "      <th>host id</th>\n",
       "      <th>experiences</th>\n",
       "      <th>neighbourhood</th>\n",
       "      <th>latitude</th>\n",
       "      <th>longitude</th>\n",
       "      <th>property type</th>\n",
       "      <th>...</th>\n",
       "      <th>review cleanliness</th>\n",
       "      <th>review checkin</th>\n",
       "      <th>review communication</th>\n",
       "      <th>review location</th>\n",
       "      <th>review value</th>\n",
       "      <th>price</th>\n",
       "      <th>security deposit</th>\n",
       "      <th>cleaning fee</th>\n",
       "      <th>guests included</th>\n",
       "      <th>extra people</th>\n",
       "    </tr>\n",
       "  </thead>\n",
       "  <tbody>\n",
       "    <tr>\n",
       "      <th>0</th>\n",
       "      <td>False</td>\n",
       "      <td>False</td>\n",
       "      <td>False</td>\n",
       "      <td>False</td>\n",
       "      <td>False</td>\n",
       "      <td>False</td>\n",
       "      <td>False</td>\n",
       "      <td>False</td>\n",
       "      <td>False</td>\n",
       "      <td>False</td>\n",
       "      <td>...</td>\n",
       "      <td>False</td>\n",
       "      <td>False</td>\n",
       "      <td>False</td>\n",
       "      <td>False</td>\n",
       "      <td>False</td>\n",
       "      <td>False</td>\n",
       "      <td>True</td>\n",
       "      <td>False</td>\n",
       "      <td>False</td>\n",
       "      <td>False</td>\n",
       "    </tr>\n",
       "    <tr>\n",
       "      <th>1</th>\n",
       "      <td>False</td>\n",
       "      <td>False</td>\n",
       "      <td>False</td>\n",
       "      <td>False</td>\n",
       "      <td>False</td>\n",
       "      <td>False</td>\n",
       "      <td>False</td>\n",
       "      <td>False</td>\n",
       "      <td>False</td>\n",
       "      <td>False</td>\n",
       "      <td>...</td>\n",
       "      <td>False</td>\n",
       "      <td>False</td>\n",
       "      <td>False</td>\n",
       "      <td>False</td>\n",
       "      <td>False</td>\n",
       "      <td>False</td>\n",
       "      <td>True</td>\n",
       "      <td>True</td>\n",
       "      <td>False</td>\n",
       "      <td>False</td>\n",
       "    </tr>\n",
       "    <tr>\n",
       "      <th>2</th>\n",
       "      <td>False</td>\n",
       "      <td>False</td>\n",
       "      <td>False</td>\n",
       "      <td>False</td>\n",
       "      <td>False</td>\n",
       "      <td>False</td>\n",
       "      <td>False</td>\n",
       "      <td>False</td>\n",
       "      <td>False</td>\n",
       "      <td>False</td>\n",
       "      <td>...</td>\n",
       "      <td>False</td>\n",
       "      <td>False</td>\n",
       "      <td>False</td>\n",
       "      <td>False</td>\n",
       "      <td>False</td>\n",
       "      <td>False</td>\n",
       "      <td>False</td>\n",
       "      <td>True</td>\n",
       "      <td>False</td>\n",
       "      <td>False</td>\n",
       "    </tr>\n",
       "  </tbody>\n",
       "</table>\n",
       "<p>3 rows × 36 columns</p>\n",
       "</div>"
      ],
      "text/plain": [
       "      id  last scraped  listing url   name  host id  experiences  \\\n",
       "0  False         False        False  False    False        False   \n",
       "1  False         False        False  False    False        False   \n",
       "2  False         False        False  False    False        False   \n",
       "\n",
       "   neighbourhood  latitude  longitude  property type      ...       \\\n",
       "0          False     False      False          False      ...        \n",
       "1          False     False      False          False      ...        \n",
       "2          False     False      False          False      ...        \n",
       "\n",
       "   review cleanliness  review checkin  review communication  review location  \\\n",
       "0               False           False                 False            False   \n",
       "1               False           False                 False            False   \n",
       "2               False           False                 False            False   \n",
       "\n",
       "   review value  price  security deposit  cleaning fee  guests included  \\\n",
       "0         False  False              True         False            False   \n",
       "1         False  False              True          True            False   \n",
       "2         False  False             False          True            False   \n",
       "\n",
       "   extra people  \n",
       "0         False  \n",
       "1         False  \n",
       "2         False  \n",
       "\n",
       "[3 rows x 36 columns]"
      ]
     },
     "execution_count": 32,
     "metadata": {},
     "output_type": "execute_result"
    }
   ],
   "source": [
    "listings.isnull().head(3)"
   ]
  },
  {
   "cell_type": "markdown",
   "metadata": {},
   "source": [
    "Taking the sum of these columns (where `True == 1` and `False == 0`) gives us the total number of null values in each column:"
   ]
  },
  {
   "cell_type": "code",
   "execution_count": 33,
   "metadata": {},
   "outputs": [
    {
     "data": {
      "text/plain": [
       "id                           0.000000\n",
       "last scraped                 0.000000\n",
       "listing url                  0.000000\n",
       "name                         0.036699\n",
       "host id                      0.000000\n",
       "experiences                  0.000000\n",
       "neighbourhood                0.000000\n",
       "latitude                     0.000000\n",
       "longitude                    0.000000\n",
       "property type                0.000000\n",
       "room type                    0.000000\n",
       "accommodates                 0.000000\n",
       "bathrooms                    0.206671\n",
       "bedrooms                     0.063740\n",
       "beds                         0.164178\n",
       "bed type                     0.000000\n",
       "minNights                    0.000000\n",
       "maxNights                    0.000000\n",
       "reviewCount                  0.000000\n",
       "instant bookable             0.000000\n",
       "is business travel ready     0.000000\n",
       "cancellation policy          0.000000\n",
       "first review                26.504162\n",
       "last review                 26.486779\n",
       "review rating               28.648137\n",
       "review accuracy             28.741815\n",
       "review cleanliness          28.714774\n",
       "review checkin              28.825836\n",
       "review communication        28.739884\n",
       "review location             28.833562\n",
       "review value                28.839356\n",
       "price                        0.000000\n",
       "security deposit            36.576015\n",
       "cleaning fee                28.070616\n",
       "guests included              0.000000\n",
       "extra people                 0.000000\n",
       "dtype: float64"
      ]
     },
     "execution_count": 33,
     "metadata": {},
     "output_type": "execute_result"
    }
   ],
   "source": [
    "# Percent null values\n",
    "listings.isnull().sum() / len(listings) * 100"
   ]
  },
  {
   "cell_type": "markdown",
   "metadata": {},
   "source": [
    "## OK - let's try some more interesting questions..."
   ]
  },
  {
   "cell_type": "markdown",
   "metadata": {},
   "source": [
    "### 1. How many listings are there per neighbourhood?\n",
    "\n",
    "In the first line we group all listings by their neighbourhood, then count how many unique `id`s are in each and divide by the number of listings.\n",
    "In the second line we sort the listings and create a bar plot."
   ]
  },
  {
   "cell_type": "code",
   "execution_count": 42,
   "metadata": {},
   "outputs": [
    {
     "data": {
      "image/png": "[encoded data removed]",
      "text/plain": [
       "<Figure size 432x288 with 1 Axes>"
      ]
     },
     "metadata": {
      "needs_background": "light"
     },
     "output_type": "display_data"
    }
   ],
   "source": [
    "byNeighbourhood = listings.groupby('neighbourhood').agg({ 'id': len }) / len(listings) * 100\n",
    "byNeighbourhood.sort_values(by = 'id', ascending = False).plot(kind = 'bar')\n",
    "plt.title(\"Percent of London Listings in each Borough\")\n",
    "plt.show()"
   ]
  },
  {
   "cell_type": "markdown",
   "metadata": {},
   "source": [
    "### How has the overall number of listings in London changed over time\n",
    "\n",
    "Since we don't have the actual date the listing was first put up, we can use \"first review\" as a proxy for when it first showed up."
   ]
  },
  {
   "cell_type": "code",
   "execution_count": 43,
   "metadata": {},
   "outputs": [
    {
     "data": {
      "image/png": "[encoded data removed]",
      "text/plain": [
       "<Figure size 432x288 with 1 Axes>"
      ]
     },
     "metadata": {
      "needs_background": "light"
     },
     "output_type": "display_data"
    }
   ],
   "source": [
    "listings.groupby('first review').agg({ 'id': len }).plot()\n",
    "plt.title(\"Growth of AirBnB in London\")\n",
    "plt.show()"
   ]
  },
  {
   "cell_type": "markdown",
   "metadata": {},
   "source": [
    "## Challenge: Which neighbourhood has experienced the highest YoY growth from 2018-2019?"
   ]
  },
  {
   "cell_type": "code",
   "execution_count": 43,
   "metadata": {},
   "outputs": [],
   "source": [
    "# Solution here..."
   ]
  },
  {
   "cell_type": "markdown",
   "metadata": {},
   "source": [
    "## Merging tables"
   ]
  },
  {
   "cell_type": "markdown",
   "metadata": {},
   "source": [
    "We can solve some more interesting problems if we merge a few tables together. Let's see how review sentitment correlates with a listings overall ratings.\n",
    "\n",
    "The reviews table contains a simplified summary of the reviews left for each property by month, characterised by a sentiment score and a word count."
   ]
  },
  {
   "cell_type": "code",
   "execution_count": 44,
   "metadata": {},
   "outputs": [
    {
     "data": {
      "text/html": [
       "<div>\n",
       "<style scoped>\n",
       "    .dataframe tbody tr th:only-of-type {\n",
       "        vertical-align: middle;\n",
       "    }\n",
       "\n",
       "    .dataframe tbody tr th {\n",
       "        vertical-align: top;\n",
       "    }\n",
       "\n",
       "    .dataframe thead th {\n",
       "        text-align: right;\n",
       "    }\n",
       "</style>\n",
       "<table border=\"1\" class=\"dataframe\">\n",
       "  <thead>\n",
       "    <tr style=\"text-align: right;\">\n",
       "      <th></th>\n",
       "      <th>listing id</th>\n",
       "      <th>mon_yr</th>\n",
       "      <th>reviewerCount</th>\n",
       "      <th>avgSentiment</th>\n",
       "      <th>avgWordcount</th>\n",
       "      <th>neighbourhood</th>\n",
       "    </tr>\n",
       "  </thead>\n",
       "  <tbody>\n",
       "    <tr>\n",
       "      <th>0</th>\n",
       "      <td>9554</td>\n",
       "      <td>01-2013</td>\n",
       "      <td>2</td>\n",
       "      <td>0.093655</td>\n",
       "      <td>48.50</td>\n",
       "      <td>Haringey</td>\n",
       "    </tr>\n",
       "    <tr>\n",
       "      <th>1</th>\n",
       "      <td>9554</td>\n",
       "      <td>01-2016</td>\n",
       "      <td>2</td>\n",
       "      <td>0.315268</td>\n",
       "      <td>56.50</td>\n",
       "      <td>Haringey</td>\n",
       "    </tr>\n",
       "    <tr>\n",
       "      <th>2</th>\n",
       "      <td>9554</td>\n",
       "      <td>01-2017</td>\n",
       "      <td>1</td>\n",
       "      <td>1.000000</td>\n",
       "      <td>1.00</td>\n",
       "      <td>Haringey</td>\n",
       "    </tr>\n",
       "    <tr>\n",
       "      <th>3</th>\n",
       "      <td>9554</td>\n",
       "      <td>01-2018</td>\n",
       "      <td>1</td>\n",
       "      <td>0.000000</td>\n",
       "      <td>1.00</td>\n",
       "      <td>Haringey</td>\n",
       "    </tr>\n",
       "    <tr>\n",
       "      <th>4</th>\n",
       "      <td>9554</td>\n",
       "      <td>02-2013</td>\n",
       "      <td>4</td>\n",
       "      <td>0.250000</td>\n",
       "      <td>28.25</td>\n",
       "      <td>Haringey</td>\n",
       "    </tr>\n",
       "  </tbody>\n",
       "</table>\n",
       "</div>"
      ],
      "text/plain": [
       "   listing id   mon_yr  reviewerCount  avgSentiment  avgWordcount  \\\n",
       "0        9554  01-2013              2      0.093655         48.50   \n",
       "1        9554  01-2016              2      0.315268         56.50   \n",
       "2        9554  01-2017              1      1.000000          1.00   \n",
       "3        9554  01-2018              1      0.000000          1.00   \n",
       "4        9554  02-2013              4      0.250000         28.25   \n",
       "\n",
       "  neighbourhood  \n",
       "0      Haringey  \n",
       "1      Haringey  \n",
       "2      Haringey  \n",
       "3      Haringey  \n",
       "4      Haringey  "
      ]
     },
     "execution_count": 44,
     "metadata": {},
     "output_type": "execute_result"
    }
   ],
   "source": [
    "reviews = pd.read_csv(os.path.join(path,\"Reviews.csv\"))\n",
    "reviews.head()"
   ]
  },
  {
   "cell_type": "markdown",
   "metadata": {},
   "source": [
    "Arguably the simplest visualisation of a single column is the histogram - group the data into bins and plot the number in each bin. Plotted this way, it is clear that most reviews are positive, though not overwhelmingly so:"
   ]
  },
  {
   "cell_type": "code",
   "execution_count": 50,
   "metadata": {},
   "outputs": [
    {
     "data": {
      "image/png": "[encoded data removed]",
      "text/plain": [
       "<Figure size 432x288 with 1 Axes>"
      ]
     },
     "metadata": {
      "needs_background": "light"
     },
     "output_type": "display_data"
    }
   ],
   "source": [
    "reviews['avgSentiment'].hist(bins = np.linspace(-1, 1, 100))\n",
    "plt.xlabel('Average sentiment score')\n",
    "plt.ylabel('Count')\n",
    "plt.show()"
   ]
  },
  {
   "cell_type": "markdown",
   "metadata": {},
   "source": [
    "Most reviews tend to be pretty short too, around 40 words long:"
   ]
  },
  {
   "cell_type": "code",
   "execution_count": 51,
   "metadata": {},
   "outputs": [
    {
     "data": {
      "image/png": "[encoded data removed]",
      "text/plain": [
       "<Figure size 432x288 with 1 Axes>"
      ]
     },
     "metadata": {
      "needs_background": "light"
     },
     "output_type": "display_data"
    }
   ],
   "source": [
    "reviews['avgWordcount'].hist(bins = np.linspace(0, 300, 100))\n",
    "plt.xlabel('Average word count')\n",
    "plt.ylabel('Count')\n",
    "plt.show()"
   ]
  },
  {
   "cell_type": "markdown",
   "metadata": {},
   "source": [
    "For now let's just take the median sentiment for each listing, so that the following table is *uniquely keyed* on the `listing id`, i.e. there is only one value for each `listing id`."
   ]
  },
  {
   "cell_type": "code",
   "execution_count": 52,
   "metadata": {},
   "outputs": [
    {
     "data": {
      "text/html": [
       "<div>\n",
       "<style scoped>\n",
       "    .dataframe tbody tr th:only-of-type {\n",
       "        vertical-align: middle;\n",
       "    }\n",
       "\n",
       "    .dataframe tbody tr th {\n",
       "        vertical-align: top;\n",
       "    }\n",
       "\n",
       "    .dataframe thead th {\n",
       "        text-align: right;\n",
       "    }\n",
       "</style>\n",
       "<table border=\"1\" class=\"dataframe\">\n",
       "  <thead>\n",
       "    <tr style=\"text-align: right;\">\n",
       "      <th></th>\n",
       "      <th>listing id</th>\n",
       "      <th>avgSentiment</th>\n",
       "    </tr>\n",
       "  </thead>\n",
       "  <tbody>\n",
       "    <tr>\n",
       "      <th>0</th>\n",
       "      <td>9554</td>\n",
       "      <td>0.376970</td>\n",
       "    </tr>\n",
       "    <tr>\n",
       "      <th>1</th>\n",
       "      <td>11076</td>\n",
       "      <td>0.727500</td>\n",
       "    </tr>\n",
       "    <tr>\n",
       "      <th>2</th>\n",
       "      <td>11417</td>\n",
       "      <td>0.272692</td>\n",
       "    </tr>\n",
       "    <tr>\n",
       "      <th>3</th>\n",
       "      <td>13913</td>\n",
       "      <td>0.337118</td>\n",
       "    </tr>\n",
       "    <tr>\n",
       "      <th>4</th>\n",
       "      <td>15400</td>\n",
       "      <td>0.394443</td>\n",
       "    </tr>\n",
       "  </tbody>\n",
       "</table>\n",
       "</div>"
      ],
      "text/plain": [
       "   listing id  avgSentiment\n",
       "0        9554      0.376970\n",
       "1       11076      0.727500\n",
       "2       11417      0.272692\n",
       "3       13913      0.337118\n",
       "4       15400      0.394443"
      ]
     },
     "execution_count": 52,
     "metadata": {},
     "output_type": "execute_result"
    }
   ],
   "source": [
    "med_rvw = reviews.groupby('listing id')['avgSentiment'].median().reset_index()\n",
    "med_rvw.head()"
   ]
  },
  {
   "cell_type": "markdown",
   "metadata": {},
   "source": [
    "In this form, we are able to merge the `med_rvw` table onto the `listings` table. Merging is where we take two tables - a `left` and a `right`, and attach the `right` table onto the `left` table.\n",
    "\n",
    "To match up the rows in the attached tables, pandas needs to know how to indentify each row - in this case we can use the id of each airbnb listing. This column is called `listing id` in `med_rvw`, and `id` in listings.\n",
    "\n",
    "In the following cell, we extract the columns from `listings` we are interested in, and then call the `merge()` method. In this case, `left` is `listings` and `right` is `med_rvw`."
   ]
  },
  {
   "cell_type": "code",
   "execution_count": 54,
   "metadata": {},
   "outputs": [
    {
     "data": {
      "text/html": [
       "<div>\n",
       "<style scoped>\n",
       "    .dataframe tbody tr th:only-of-type {\n",
       "        vertical-align: middle;\n",
       "    }\n",
       "\n",
       "    .dataframe tbody tr th {\n",
       "        vertical-align: top;\n",
       "    }\n",
       "\n",
       "    .dataframe thead th {\n",
       "        text-align: right;\n",
       "    }\n",
       "</style>\n",
       "<table border=\"1\" class=\"dataframe\">\n",
       "  <thead>\n",
       "    <tr style=\"text-align: right;\">\n",
       "      <th></th>\n",
       "      <th>id</th>\n",
       "      <th>review rating</th>\n",
       "      <th>review accuracy</th>\n",
       "      <th>review cleanliness</th>\n",
       "      <th>review checkin</th>\n",
       "      <th>review communication</th>\n",
       "      <th>review location</th>\n",
       "      <th>review value</th>\n",
       "      <th>listing id</th>\n",
       "      <th>avgSentiment</th>\n",
       "    </tr>\n",
       "  </thead>\n",
       "  <tbody>\n",
       "    <tr>\n",
       "      <th>0</th>\n",
       "      <td>9554</td>\n",
       "      <td>97.0</td>\n",
       "      <td>10.0</td>\n",
       "      <td>9.0</td>\n",
       "      <td>10.0</td>\n",
       "      <td>10.0</td>\n",
       "      <td>9.0</td>\n",
       "      <td>10.0</td>\n",
       "      <td>9554</td>\n",
       "      <td>0.376970</td>\n",
       "    </tr>\n",
       "    <tr>\n",
       "      <th>1</th>\n",
       "      <td>11076</td>\n",
       "      <td>90.0</td>\n",
       "      <td>8.0</td>\n",
       "      <td>9.0</td>\n",
       "      <td>10.0</td>\n",
       "      <td>9.0</td>\n",
       "      <td>9.0</td>\n",
       "      <td>9.0</td>\n",
       "      <td>11076</td>\n",
       "      <td>0.727500</td>\n",
       "    </tr>\n",
       "    <tr>\n",
       "      <th>2</th>\n",
       "      <td>11417</td>\n",
       "      <td>95.0</td>\n",
       "      <td>10.0</td>\n",
       "      <td>10.0</td>\n",
       "      <td>10.0</td>\n",
       "      <td>10.0</td>\n",
       "      <td>10.0</td>\n",
       "      <td>9.0</td>\n",
       "      <td>11417</td>\n",
       "      <td>0.272692</td>\n",
       "    </tr>\n",
       "    <tr>\n",
       "      <th>3</th>\n",
       "      <td>13913</td>\n",
       "      <td>95.0</td>\n",
       "      <td>9.0</td>\n",
       "      <td>10.0</td>\n",
       "      <td>9.0</td>\n",
       "      <td>10.0</td>\n",
       "      <td>9.0</td>\n",
       "      <td>9.0</td>\n",
       "      <td>13913</td>\n",
       "      <td>0.337118</td>\n",
       "    </tr>\n",
       "    <tr>\n",
       "      <th>4</th>\n",
       "      <td>15400</td>\n",
       "      <td>95.0</td>\n",
       "      <td>10.0</td>\n",
       "      <td>10.0</td>\n",
       "      <td>10.0</td>\n",
       "      <td>10.0</td>\n",
       "      <td>10.0</td>\n",
       "      <td>9.0</td>\n",
       "      <td>15400</td>\n",
       "      <td>0.394443</td>\n",
       "    </tr>\n",
       "  </tbody>\n",
       "</table>\n",
       "</div>"
      ],
      "text/plain": [
       "      id  review rating  review accuracy  review cleanliness  review checkin  \\\n",
       "0   9554           97.0             10.0                 9.0            10.0   \n",
       "1  11076           90.0              8.0                 9.0            10.0   \n",
       "2  11417           95.0             10.0                10.0            10.0   \n",
       "3  13913           95.0              9.0                10.0             9.0   \n",
       "4  15400           95.0             10.0                10.0            10.0   \n",
       "\n",
       "   review communication  review location  review value  listing id  \\\n",
       "0                  10.0              9.0          10.0        9554   \n",
       "1                   9.0              9.0           9.0       11076   \n",
       "2                  10.0             10.0           9.0       11417   \n",
       "3                  10.0              9.0           9.0       13913   \n",
       "4                  10.0             10.0           9.0       15400   \n",
       "\n",
       "   avgSentiment  \n",
       "0      0.376970  \n",
       "1      0.727500  \n",
       "2      0.272692  \n",
       "3      0.337118  \n",
       "4      0.394443  "
      ]
     },
     "execution_count": 54,
     "metadata": {},
     "output_type": "execute_result"
    }
   ],
   "source": [
    "cols_to_keep = ['id','review rating','review accuracy', 'review cleanliness', 'review checkin',\n",
    "                'review communication', 'review location', 'review value']\n",
    "\n",
    "merged = listings[cols_to_keep].merge(med_rvw, left_on = 'id', right_on = 'listing id', how = 'inner')\n",
    "merged.head()"
   ]
  },
  {
   "cell_type": "markdown",
   "metadata": {},
   "source": [
    "Now everything is matched up in one table, we can do fun things like look at the relationship between the actual review rating, and the sentiment of the review text:"
   ]
  },
  {
   "cell_type": "code",
   "execution_count": 78,
   "metadata": {},
   "outputs": [
    {
     "data": {
      "image/png": "[encoded data removed]",
      "text/plain": [
       "<Figure size 432x288 with 1 Axes>"
      ]
     },
     "metadata": {
      "needs_background": "light"
     },
     "output_type": "display_data"
    }
   ],
   "source": [
    "x = merged['review rating']\n",
    "y = merged['avgSentiment']\n",
    "# Drop pairs of (x, y) if either is NaN\n",
    "x, y = list(zip(*[(x[i], y[i]) for i in range(len(x)) if np.isfinite(x[i]) and np.isfinite(y[i])]))\n",
    "\n",
    "plt.plot(x, y, '.')\n",
    "plt.title(\"Review Rating vs Review Sentiment\")\n",
    "plt.xlabel('Review rating')\n",
    "plt.ylabel('Review sentiment')\n",
    "plt.show()"
   ]
  },
  {
   "cell_type": "markdown",
   "metadata": {},
   "source": [
    "As there are lots of points and they all overlap, often a better way of plotting dense data is to create a 2D histogram and plot the density of points. In this way we see better the overrepresentation of review ratings at 20 / 40 / 60 / 80 / 100%, and review sentiments of zero."
   ]
  },
  {
   "cell_type": "code",
   "execution_count": 87,
   "metadata": {},
   "outputs": [
    {
     "data": {
      "image/png": "[encoded data removed]",
      "text/plain": [
       "<Figure size 432x288 with 2 Axes>"
      ]
     },
     "metadata": {
      "needs_background": "light"
     },
     "output_type": "display_data"
    }
   ],
   "source": [
    "xbins = np.linspace(10, 110, 100)\n",
    "ybins = np.linspace(-1, 1, 100)\n",
    "hist2d, xe, ye = np.histogram2d(x,y, bins=(xbins, ybins))\n",
    "plt.pcolor(xe[1:], ye[1:], np.log(hist2d.T + 0.1)) # Offset to avoid log(0)\n",
    "plt.xlabel('Review rating')\n",
    "plt.ylabel('Review sentiment')\n",
    "plt.colorbar(label='log(# reviews)')\n",
    "plt.show()"
   ]
  },
  {
   "cell_type": "markdown",
   "metadata": {},
   "source": [
    "## Challenge: Which borough has the highest average location score? Lowest?"
   ]
  },
  {
   "cell_type": "code",
   "execution_count": 67,
   "metadata": {},
   "outputs": [],
   "source": [
    "# Solution here..."
   ]
  },
  {
   "cell_type": "markdown",
   "metadata": {},
   "source": [
    "## Challenge: Does housing price correlate with airbnb price? popularity?"
   ]
  },
  {
   "cell_type": "code",
   "execution_count": 68,
   "metadata": {},
   "outputs": [],
   "source": [
    "# Solution here..."
   ]
  }
 ],
 "metadata": {
  "kernelspec": {
   "display_name": "Python 3",
   "language": "python",
   "name": "python3"
  },
  "language_info": {
   "codemirror_mode": {
    "name": "ipython",
    "version": 3
   },
   "file_extension": ".py",
   "mimetype": "text/x-python",
   "name": "python",
   "nbconvert_exporter": "python",
   "pygments_lexer": "ipython3",
   "version": "3.6.7"
  }
 },
 "nbformat": 4,
 "nbformat_minor": 2
}
