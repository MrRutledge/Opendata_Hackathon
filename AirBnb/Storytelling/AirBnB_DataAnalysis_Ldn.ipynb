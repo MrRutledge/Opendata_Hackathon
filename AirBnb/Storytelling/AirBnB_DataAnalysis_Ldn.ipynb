{
 "cells": [
  {
   "cell_type": "markdown",
   "metadata": {},
   "source": [
    "# Airbnb Hostings in London and Neighbourhood Crime \n",
    "\n",
    "### In this example notebook, we'll walk through the basics of exploring your data including: \n",
    "- importing data\n",
    "- understanding data\n",
    "- transforming data\n",
    "- visualising data\n",
    "\n",
    "First things first, we'll import the python libraries we'll need:"
   ]
  },
  {
   "cell_type": "code",
   "execution_count": 184,
   "metadata": {},
   "outputs": [],
   "source": [
    "import pandas as pd             # data maniuplation\n",
    "import numpy as np              # numerical libraries\n",
    "import os                       # operating-system specifics\n",
    "import matplotlib.pyplot as plt # plotting\n",
    "import seaborn as sns           # fancy stylesheet over matplotlib\n",
    "plt.style.use(['seaborn','dark_background'])"
   ]
  },
  {
   "cell_type": "code",
   "execution_count": 179,
   "metadata": {},
   "outputs": [
    {
     "data": {
      "text/plain": [
       "['Solarize_Light2',\n",
       " '_classic_test',\n",
       " 'bmh',\n",
       " 'classic',\n",
       " 'dark_background',\n",
       " 'fast',\n",
       " 'fivethirtyeight',\n",
       " 'ggplot',\n",
       " 'grayscale',\n",
       " 'seaborn-bright',\n",
       " 'seaborn-colorblind',\n",
       " 'seaborn-dark-palette',\n",
       " 'seaborn-dark',\n",
       " 'seaborn-darkgrid',\n",
       " 'seaborn-deep',\n",
       " 'seaborn-muted',\n",
       " 'seaborn-notebook',\n",
       " 'seaborn-paper',\n",
       " 'seaborn-pastel',\n",
       " 'seaborn-poster',\n",
       " 'seaborn-talk',\n",
       " 'seaborn-ticks',\n",
       " 'seaborn-white',\n",
       " 'seaborn-whitegrid',\n",
       " 'seaborn',\n",
       " 'tableau-colorblind10']"
      ]
     },
     "execution_count": 179,
     "metadata": {},
     "output_type": "execute_result"
    }
   ],
   "source": [
    "plt.style.available"
   ]
  },
  {
   "cell_type": "markdown",
   "metadata": {},
   "source": [
    "... and list the `.csv` files we have access to in the `Data` folder. The [os library](https://docs.python.org/3/library/os.html) allows you standardize the way you go through your file directory so it won't matter if you're on a mac or a PC."
   ]
  },
  {
   "cell_type": "code",
   "execution_count": 2,
   "metadata": {},
   "outputs": [
    {
     "data": {
      "text/plain": [
       "['Calendar.csv', 'Hosts.csv', 'HousePrices.csv', 'Listings.csv', 'Reviews.csv']"
      ]
     },
     "execution_count": 2,
     "metadata": {},
     "output_type": "execute_result"
    }
   ],
   "source": [
    "path = os.path.join(\"../Data\")\n",
    "[f for f in os.listdir(path) if f.endswith(\".csv\")]"
   ]
  },
  {
   "cell_type": "markdown",
   "metadata": {},
   "source": [
    "## Getting to grips with the data\n",
    "\n",
    "To get a feel for what's in a dataframe, use the `head()` function, e.g."
   ]
  },
  {
   "cell_type": "code",
   "execution_count": 342,
   "metadata": {},
   "outputs": [],
   "source": [
    "listings = pd.read_csv(os.path.join(path,\"Listings.csv\"))\n",
    "housePrices = pd.read_csv(os.path.join(path,\"HousePrices.csv\"))\n",
    "hosts = pd.read_csv(os.path.join(path,\"Hosts.csv\"))\n",
    "calendar = pd.read_csv(os.path.join(path,\"Calendar.csv\"))\n",
    "reviews = pd.read_csv(os.path.join(path,\"Reviews.csv\"))"
   ]
  },
  {
   "cell_type": "code",
   "execution_count": 343,
   "metadata": {},
   "outputs": [
    {
     "name": "stdout",
     "output_type": "stream",
     "text": [
      "Listings Shape : (103546, 36)\n",
      "housePrices : (891, 14)\n",
      "hosts : (63544, 13)\n",
      "calendar: (1853374, 6)\n",
      "reviews : (617805, 6)\n"
     ]
    }
   ],
   "source": [
    "print('Listings Shape :', listings.shape)\n",
    "print('housePrices :', housePrices.shape)\n",
    "print('hosts :', hosts.shape)\n",
    "print('calendar:', calendar.shape)\n",
    "print('reviews :', reviews.shape) "
   ]
  },
  {
   "cell_type": "markdown",
   "metadata": {},
   "source": [
    "To get some summary statistics about each of the columns in the dataframe, use the `describe()` function."
   ]
  },
  {
   "cell_type": "code",
   "execution_count": 344,
   "metadata": {},
   "outputs": [
    {
     "data": {
      "text/html": [
       "<div>\n",
       "<style scoped>\n",
       "    .dataframe tbody tr th:only-of-type {\n",
       "        vertical-align: middle;\n",
       "    }\n",
       "\n",
       "    .dataframe tbody tr th {\n",
       "        vertical-align: top;\n",
       "    }\n",
       "\n",
       "    .dataframe thead th {\n",
       "        text-align: right;\n",
       "    }\n",
       "</style>\n",
       "<table border=\"1\" class=\"dataframe\">\n",
       "  <thead>\n",
       "    <tr style=\"text-align: right;\">\n",
       "      <th></th>\n",
       "      <th>id</th>\n",
       "      <th>host id</th>\n",
       "      <th>latitude</th>\n",
       "      <th>longitude</th>\n",
       "      <th>accommodates</th>\n",
       "      <th>bathrooms</th>\n",
       "      <th>bedrooms</th>\n",
       "      <th>beds</th>\n",
       "      <th>minNights</th>\n",
       "      <th>maxNights</th>\n",
       "      <th>reviewCount</th>\n",
       "      <th>review rating</th>\n",
       "      <th>review accuracy</th>\n",
       "      <th>review cleanliness</th>\n",
       "      <th>review checkin</th>\n",
       "      <th>review communication</th>\n",
       "      <th>review location</th>\n",
       "      <th>review value</th>\n",
       "      <th>guests included</th>\n",
       "    </tr>\n",
       "  </thead>\n",
       "  <tbody>\n",
       "    <tr>\n",
       "      <th>count</th>\n",
       "      <td>1.035460e+05</td>\n",
       "      <td>1.035460e+05</td>\n",
       "      <td>103546.000000</td>\n",
       "      <td>103546.000000</td>\n",
       "      <td>103546.000000</td>\n",
       "      <td>103332.000000</td>\n",
       "      <td>103480.000000</td>\n",
       "      <td>103376.000000</td>\n",
       "      <td>103546.000000</td>\n",
       "      <td>1.035460e+05</td>\n",
       "      <td>103546.000000</td>\n",
       "      <td>73882.000000</td>\n",
       "      <td>73785.000000</td>\n",
       "      <td>73813.000000</td>\n",
       "      <td>73698.000000</td>\n",
       "      <td>73787.000000</td>\n",
       "      <td>73690.000000</td>\n",
       "      <td>73684.000000</td>\n",
       "      <td>103546.000000</td>\n",
       "    </tr>\n",
       "    <tr>\n",
       "      <th>mean</th>\n",
       "      <td>1.860240e+07</td>\n",
       "      <td>6.811356e+07</td>\n",
       "      <td>51.509675</td>\n",
       "      <td>-0.127843</td>\n",
       "      <td>3.180557</td>\n",
       "      <td>1.286523</td>\n",
       "      <td>1.397198</td>\n",
       "      <td>1.747688</td>\n",
       "      <td>3.758272</td>\n",
       "      <td>5.834671e+04</td>\n",
       "      <td>14.560823</td>\n",
       "      <td>92.270864</td>\n",
       "      <td>9.471871</td>\n",
       "      <td>9.239064</td>\n",
       "      <td>9.602092</td>\n",
       "      <td>9.638961</td>\n",
       "      <td>9.461759</td>\n",
       "      <td>9.246458</td>\n",
       "      <td>1.553290</td>\n",
       "    </tr>\n",
       "    <tr>\n",
       "      <th>std</th>\n",
       "      <td>8.733189e+06</td>\n",
       "      <td>6.732846e+07</td>\n",
       "      <td>0.045636</td>\n",
       "      <td>0.091573</td>\n",
       "      <td>2.002515</td>\n",
       "      <td>0.601339</td>\n",
       "      <td>0.915355</td>\n",
       "      <td>1.260421</td>\n",
       "      <td>13.606510</td>\n",
       "      <td>1.007425e+07</td>\n",
       "      <td>31.232065</td>\n",
       "      <td>10.454360</td>\n",
       "      <td>1.017013</td>\n",
       "      <td>1.168182</td>\n",
       "      <td>0.932985</td>\n",
       "      <td>0.911308</td>\n",
       "      <td>0.875098</td>\n",
       "      <td>1.055188</td>\n",
       "      <td>1.270976</td>\n",
       "    </tr>\n",
       "    <tr>\n",
       "      <th>min</th>\n",
       "      <td>9.554000e+03</td>\n",
       "      <td>5.160000e+02</td>\n",
       "      <td>51.289812</td>\n",
       "      <td>-0.509800</td>\n",
       "      <td>0.000000</td>\n",
       "      <td>0.000000</td>\n",
       "      <td>0.000000</td>\n",
       "      <td>0.000000</td>\n",
       "      <td>1.000000</td>\n",
       "      <td>1.000000e+00</td>\n",
       "      <td>0.000000</td>\n",
       "      <td>20.000000</td>\n",
       "      <td>2.000000</td>\n",
       "      <td>2.000000</td>\n",
       "      <td>2.000000</td>\n",
       "      <td>2.000000</td>\n",
       "      <td>2.000000</td>\n",
       "      <td>2.000000</td>\n",
       "      <td>1.000000</td>\n",
       "    </tr>\n",
       "    <tr>\n",
       "      <th>25%</th>\n",
       "      <td>1.251873e+07</td>\n",
       "      <td>1.310693e+07</td>\n",
       "      <td>51.486150</td>\n",
       "      <td>-0.187520</td>\n",
       "      <td>2.000000</td>\n",
       "      <td>1.000000</td>\n",
       "      <td>1.000000</td>\n",
       "      <td>1.000000</td>\n",
       "      <td>1.000000</td>\n",
       "      <td>3.100000e+01</td>\n",
       "      <td>0.000000</td>\n",
       "      <td>90.000000</td>\n",
       "      <td>9.000000</td>\n",
       "      <td>9.000000</td>\n",
       "      <td>9.000000</td>\n",
       "      <td>10.000000</td>\n",
       "      <td>9.000000</td>\n",
       "      <td>9.000000</td>\n",
       "      <td>1.000000</td>\n",
       "    </tr>\n",
       "    <tr>\n",
       "      <th>50%</th>\n",
       "      <td>1.993665e+07</td>\n",
       "      <td>4.016090e+07</td>\n",
       "      <td>51.513804</td>\n",
       "      <td>-0.125415</td>\n",
       "      <td>2.000000</td>\n",
       "      <td>1.000000</td>\n",
       "      <td>1.000000</td>\n",
       "      <td>1.000000</td>\n",
       "      <td>2.000000</td>\n",
       "      <td>1.125000e+03</td>\n",
       "      <td>3.000000</td>\n",
       "      <td>95.000000</td>\n",
       "      <td>10.000000</td>\n",
       "      <td>10.000000</td>\n",
       "      <td>10.000000</td>\n",
       "      <td>10.000000</td>\n",
       "      <td>10.000000</td>\n",
       "      <td>9.000000</td>\n",
       "      <td>1.000000</td>\n",
       "    </tr>\n",
       "    <tr>\n",
       "      <th>75%</th>\n",
       "      <td>2.484513e+07</td>\n",
       "      <td>1.162400e+08</td>\n",
       "      <td>51.536790</td>\n",
       "      <td>-0.070150</td>\n",
       "      <td>4.000000</td>\n",
       "      <td>1.500000</td>\n",
       "      <td>2.000000</td>\n",
       "      <td>2.000000</td>\n",
       "      <td>3.000000</td>\n",
       "      <td>1.125000e+03</td>\n",
       "      <td>15.000000</td>\n",
       "      <td>100.000000</td>\n",
       "      <td>10.000000</td>\n",
       "      <td>10.000000</td>\n",
       "      <td>10.000000</td>\n",
       "      <td>10.000000</td>\n",
       "      <td>10.000000</td>\n",
       "      <td>10.000000</td>\n",
       "      <td>2.000000</td>\n",
       "    </tr>\n",
       "    <tr>\n",
       "      <th>max</th>\n",
       "      <td>3.288463e+07</td>\n",
       "      <td>2.473889e+08</td>\n",
       "      <td>51.686817</td>\n",
       "      <td>0.317520</td>\n",
       "      <td>16.000000</td>\n",
       "      <td>17.000000</td>\n",
       "      <td>44.000000</td>\n",
       "      <td>23.000000</td>\n",
       "      <td>1125.000000</td>\n",
       "      <td>2.147484e+09</td>\n",
       "      <td>614.000000</td>\n",
       "      <td>100.000000</td>\n",
       "      <td>10.000000</td>\n",
       "      <td>10.000000</td>\n",
       "      <td>10.000000</td>\n",
       "      <td>10.000000</td>\n",
       "      <td>10.000000</td>\n",
       "      <td>10.000000</td>\n",
       "      <td>24.000000</td>\n",
       "    </tr>\n",
       "  </tbody>\n",
       "</table>\n",
       "</div>"
      ],
      "text/plain": [
       "                 id       host id       latitude      longitude  \\\n",
       "count  1.035460e+05  1.035460e+05  103546.000000  103546.000000   \n",
       "mean   1.860240e+07  6.811356e+07      51.509675      -0.127843   \n",
       "std    8.733189e+06  6.732846e+07       0.045636       0.091573   \n",
       "min    9.554000e+03  5.160000e+02      51.289812      -0.509800   \n",
       "25%    1.251873e+07  1.310693e+07      51.486150      -0.187520   \n",
       "50%    1.993665e+07  4.016090e+07      51.513804      -0.125415   \n",
       "75%    2.484513e+07  1.162400e+08      51.536790      -0.070150   \n",
       "max    3.288463e+07  2.473889e+08      51.686817       0.317520   \n",
       "\n",
       "        accommodates      bathrooms       bedrooms           beds  \\\n",
       "count  103546.000000  103332.000000  103480.000000  103376.000000   \n",
       "mean        3.180557       1.286523       1.397198       1.747688   \n",
       "std         2.002515       0.601339       0.915355       1.260421   \n",
       "min         0.000000       0.000000       0.000000       0.000000   \n",
       "25%         2.000000       1.000000       1.000000       1.000000   \n",
       "50%         2.000000       1.000000       1.000000       1.000000   \n",
       "75%         4.000000       1.500000       2.000000       2.000000   \n",
       "max        16.000000      17.000000      44.000000      23.000000   \n",
       "\n",
       "           minNights     maxNights    reviewCount  review rating  \\\n",
       "count  103546.000000  1.035460e+05  103546.000000   73882.000000   \n",
       "mean        3.758272  5.834671e+04      14.560823      92.270864   \n",
       "std        13.606510  1.007425e+07      31.232065      10.454360   \n",
       "min         1.000000  1.000000e+00       0.000000      20.000000   \n",
       "25%         1.000000  3.100000e+01       0.000000      90.000000   \n",
       "50%         2.000000  1.125000e+03       3.000000      95.000000   \n",
       "75%         3.000000  1.125000e+03      15.000000     100.000000   \n",
       "max      1125.000000  2.147484e+09     614.000000     100.000000   \n",
       "\n",
       "       review accuracy  review cleanliness  review checkin  \\\n",
       "count     73785.000000        73813.000000    73698.000000   \n",
       "mean          9.471871            9.239064        9.602092   \n",
       "std           1.017013            1.168182        0.932985   \n",
       "min           2.000000            2.000000        2.000000   \n",
       "25%           9.000000            9.000000        9.000000   \n",
       "50%          10.000000           10.000000       10.000000   \n",
       "75%          10.000000           10.000000       10.000000   \n",
       "max          10.000000           10.000000       10.000000   \n",
       "\n",
       "       review communication  review location  review value  guests included  \n",
       "count          73787.000000     73690.000000  73684.000000    103546.000000  \n",
       "mean               9.638961         9.461759      9.246458         1.553290  \n",
       "std                0.911308         0.875098      1.055188         1.270976  \n",
       "min                2.000000         2.000000      2.000000         1.000000  \n",
       "25%               10.000000         9.000000      9.000000         1.000000  \n",
       "50%               10.000000        10.000000      9.000000         1.000000  \n",
       "75%               10.000000        10.000000     10.000000         2.000000  \n",
       "max               10.000000        10.000000     10.000000        24.000000  "
      ]
     },
     "execution_count": 344,
     "metadata": {},
     "output_type": "execute_result"
    }
   ],
   "source": [
    "listings.describe()"
   ]
  },
  {
   "cell_type": "code",
   "execution_count": 345,
   "metadata": {},
   "outputs": [
    {
     "name": "stdout",
     "output_type": "stream",
     "text": [
      "<class 'pandas.core.frame.DataFrame'>\n",
      "RangeIndex: 103546 entries, 0 to 103545\n",
      "Data columns (total 36 columns):\n",
      "id                          103546 non-null int64\n",
      "last scraped                103546 non-null object\n",
      "listing url                 103546 non-null object\n",
      "name                        103508 non-null object\n",
      "host id                     103546 non-null int64\n",
      "experiences                 103546 non-null object\n",
      "neighbourhood               103546 non-null object\n",
      "latitude                    103546 non-null float64\n",
      "longitude                   103546 non-null float64\n",
      "property type               103546 non-null object\n",
      "room type                   103546 non-null object\n",
      "accommodates                103546 non-null int64\n",
      "bathrooms                   103332 non-null float64\n",
      "bedrooms                    103480 non-null float64\n",
      "beds                        103376 non-null float64\n",
      "bed type                    103546 non-null object\n",
      "minNights                   103546 non-null int64\n",
      "maxNights                   103546 non-null int64\n",
      "reviewCount                 103546 non-null int64\n",
      "instant bookable            103546 non-null object\n",
      "is business travel ready    103546 non-null object\n",
      "cancellation policy         103546 non-null object\n",
      "first review                76102 non-null object\n",
      "last review                 76120 non-null object\n",
      "review rating               73882 non-null float64\n",
      "review accuracy             73785 non-null float64\n",
      "review cleanliness          73813 non-null float64\n",
      "review checkin              73698 non-null float64\n",
      "review communication        73787 non-null float64\n",
      "review location             73690 non-null float64\n",
      "review value                73684 non-null float64\n",
      "price                       103546 non-null object\n",
      "security deposit            65673 non-null object\n",
      "cleaning fee                74480 non-null object\n",
      "guests included             103546 non-null int64\n",
      "extra people                103546 non-null object\n",
      "dtypes: float64(12), int64(7), object(17)\n",
      "memory usage: 28.4+ MB\n"
     ]
    }
   ],
   "source": [
    "listings.info()"
   ]
  },
  {
   "cell_type": "markdown",
   "metadata": {},
   "source": [
    "A common pitfall when first using `pandas` arises from the column typings. Python is a dynamically-typed language, which means you often don't explictly see the type of a variable you are working with. Note that it is still strongly-typed though:"
   ]
  },
  {
   "cell_type": "code",
   "execution_count": null,
   "metadata": {},
   "outputs": [],
   "source": []
  },
  {
   "cell_type": "markdown",
   "metadata": {},
   "source": [
    "Although the types aren't specified by the user, they are inferred by the language runtime and their behaviour is dictated accordingly. Contrast this to dynamic and *weakly-typed* languages like javascript, which will happily allow the addition of numbers and strings.\n",
    "\n",
    "To get the data types (`dtypes`) of your columns, use the `dtypes` property of a dataframe:"
   ]
  },
  {
   "cell_type": "code",
   "execution_count": 7,
   "metadata": {},
   "outputs": [
    {
     "data": {
      "text/plain": [
       "id                            int64\n",
       "last scraped                 object\n",
       "listing url                  object\n",
       "name                         object\n",
       "host id                       int64\n",
       "experiences                  object\n",
       "neighbourhood                object\n",
       "latitude                    float64\n",
       "longitude                   float64\n",
       "property type                object\n",
       "room type                    object\n",
       "accommodates                  int64\n",
       "bathrooms                   float64\n",
       "bedrooms                    float64\n",
       "beds                        float64\n",
       "bed type                     object\n",
       "minNights                     int64\n",
       "maxNights                     int64\n",
       "reviewCount                   int64\n",
       "instant bookable             object\n",
       "is business travel ready     object\n",
       "cancellation policy          object\n",
       "first review                 object\n",
       "last review                  object\n",
       "review rating               float64\n",
       "review accuracy             float64\n",
       "review cleanliness          float64\n",
       "review checkin              float64\n",
       "review communication        float64\n",
       "review location             float64\n",
       "review value                float64\n",
       "price                        object\n",
       "security deposit             object\n",
       "cleaning fee                 object\n",
       "guests included               int64\n",
       "extra people                 object\n",
       "dtype: object"
      ]
     },
     "execution_count": 7,
     "metadata": {},
     "output_type": "execute_result"
    }
   ],
   "source": [
    "listings.dtypes"
   ]
  },
  {
   "cell_type": "markdown",
   "metadata": {},
   "source": [
    "You can read more about `dtypes` [here](https://pandas.pydata.org/pandas-docs/stable/getting_started/basics.html#basics-dtypes), the main thing to note is that `object` is potentially bad. Pandas uses `object` for string columns, which is fine for columns like `name`, but bad for columns which we expect to have stricter types, like the datetime columns `last scraped`, `first review` etc.\n",
    "\n",
    "In this case, we need to explicitly tell pandas that these columns represent dates:"
   ]
  },
  {
   "cell_type": "code",
   "execution_count": 346,
   "metadata": {},
   "outputs": [],
   "source": [
    "# Preparing data format \n",
    "listings['last scraped'] = pd.to_datetime(listings['last scraped'])\n",
    "listings['first review'] = pd.to_datetime(listings['first review'])\n",
    "listings['last review']  = pd.to_datetime(listings['last review'])"
   ]
  },
  {
   "cell_type": "code",
   "execution_count": 308,
   "metadata": {},
   "outputs": [
    {
     "name": "stdout",
     "output_type": "stream",
     "text": [
      "Object `pd.astype` not found.\n"
     ]
    }
   ],
   "source": []
  },
  {
   "cell_type": "code",
   "execution_count": 347,
   "metadata": {},
   "outputs": [],
   "source": [
    "# Prep data objects.\n",
    "# All prices came in string form we have to seperate the dollar sign from the digits, we do this so that we can perform calculations with the  digits.\n",
    "# Columns with price/ currency\n",
    "# Price\n",
    "# Cleaning fee\n",
    "# Deposit fee\n",
    "\n",
    "listings['price'] =listings['price'].str.replace('[$,]',\"\").astype(float)\n",
    "listings['cleaning_fee'] = listings['cleaning fee'].str.replace('$',\"\").astype(float)\n",
    "listings['security deposit'] = listings['security deposit'].str.replace('[$,]',\"\").astype(float)"
   ]
  },
  {
   "cell_type": "code",
   "execution_count": 348,
   "metadata": {},
   "outputs": [
    {
     "data": {
      "text/plain": [
       "Index(['id', 'last scraped', 'listing url', 'name', 'host id', 'experiences',\n",
       "       'neighbourhood', 'latitude', 'longitude', 'property type', 'room type',\n",
       "       'accommodates', 'bathrooms', 'bedrooms', 'beds', 'bed type',\n",
       "       'minNights', 'maxNights', 'reviewCount', 'instant bookable',\n",
       "       'is business travel ready', 'cancellation policy', 'first review',\n",
       "       'last review', 'review rating', 'review accuracy', 'review cleanliness',\n",
       "       'review checkin', 'review communication', 'review location',\n",
       "       'review value', 'price', 'security deposit', 'cleaning fee',\n",
       "       'guests included', 'extra people', 'cleaning_fee'],\n",
       "      dtype='object')"
      ]
     },
     "execution_count": 348,
     "metadata": {},
     "output_type": "execute_result"
    }
   ],
   "source": [
    "listings.columns"
   ]
  },
  {
   "cell_type": "code",
   "execution_count": 349,
   "metadata": {},
   "outputs": [],
   "source": [
    " listings = listings.drop(columns = [ 'cleaning fee'])"
   ]
  },
  {
   "cell_type": "code",
   "execution_count": 350,
   "metadata": {},
   "outputs": [
    {
     "data": {
      "text/html": [
       "<div>\n",
       "<style scoped>\n",
       "    .dataframe tbody tr th:only-of-type {\n",
       "        vertical-align: middle;\n",
       "    }\n",
       "\n",
       "    .dataframe tbody tr th {\n",
       "        vertical-align: top;\n",
       "    }\n",
       "\n",
       "    .dataframe thead th {\n",
       "        text-align: right;\n",
       "    }\n",
       "</style>\n",
       "<table border=\"1\" class=\"dataframe\">\n",
       "  <thead>\n",
       "    <tr style=\"text-align: right;\">\n",
       "      <th></th>\n",
       "      <th>id</th>\n",
       "      <th>last scraped</th>\n",
       "      <th>first review</th>\n",
       "      <th>last review</th>\n",
       "    </tr>\n",
       "  </thead>\n",
       "  <tbody>\n",
       "    <tr>\n",
       "      <th>0</th>\n",
       "      <td>9554</td>\n",
       "      <td>2018-04-08</td>\n",
       "      <td>2012-04-26</td>\n",
       "      <td>2018-02-04</td>\n",
       "    </tr>\n",
       "    <tr>\n",
       "      <th>1</th>\n",
       "      <td>11076</td>\n",
       "      <td>2018-04-08</td>\n",
       "      <td>2016-04-05</td>\n",
       "      <td>2016-11-23</td>\n",
       "    </tr>\n",
       "    <tr>\n",
       "      <th>2</th>\n",
       "      <td>11417</td>\n",
       "      <td>2018-04-08</td>\n",
       "      <td>2016-07-06</td>\n",
       "      <td>2018-01-31</td>\n",
       "    </tr>\n",
       "    <tr>\n",
       "      <th>3</th>\n",
       "      <td>13913</td>\n",
       "      <td>2019-03-08</td>\n",
       "      <td>2010-08-18</td>\n",
       "      <td>2018-06-17</td>\n",
       "    </tr>\n",
       "    <tr>\n",
       "      <th>4</th>\n",
       "      <td>15400</td>\n",
       "      <td>2019-03-08</td>\n",
       "      <td>2009-12-21</td>\n",
       "      <td>2018-03-30</td>\n",
       "    </tr>\n",
       "  </tbody>\n",
       "</table>\n",
       "</div>"
      ],
      "text/plain": [
       "      id last scraped first review last review\n",
       "0   9554   2018-04-08   2012-04-26  2018-02-04\n",
       "1  11076   2018-04-08   2016-04-05  2016-11-23\n",
       "2  11417   2018-04-08   2016-07-06  2018-01-31\n",
       "3  13913   2019-03-08   2010-08-18  2018-06-17\n",
       "4  15400   2019-03-08   2009-12-21  2018-03-30"
      ]
     },
     "execution_count": 350,
     "metadata": {},
     "output_type": "execute_result"
    }
   ],
   "source": [
    "Tempdf = listings[['id','last scraped', 'first review', 'last review']]\n",
    "Tempdf.head()"
   ]
  },
  {
   "cell_type": "code",
   "execution_count": 351,
   "metadata": {},
   "outputs": [
    {
     "data": {
      "text/plain": [
       "id                                   int64\n",
       "last scraped                datetime64[ns]\n",
       "listing url                         object\n",
       "name                                object\n",
       "host id                              int64\n",
       "experiences                         object\n",
       "neighbourhood                       object\n",
       "latitude                           float64\n",
       "longitude                          float64\n",
       "property type                       object\n",
       "room type                           object\n",
       "accommodates                         int64\n",
       "bathrooms                          float64\n",
       "bedrooms                           float64\n",
       "beds                               float64\n",
       "bed type                            object\n",
       "minNights                            int64\n",
       "maxNights                            int64\n",
       "reviewCount                          int64\n",
       "instant bookable                    object\n",
       "is business travel ready            object\n",
       "cancellation policy                 object\n",
       "first review                datetime64[ns]\n",
       "last review                 datetime64[ns]\n",
       "review rating                      float64\n",
       "review accuracy                    float64\n",
       "review cleanliness                 float64\n",
       "review checkin                     float64\n",
       "review communication               float64\n",
       "review location                    float64\n",
       "review value                       float64\n",
       "price                              float64\n",
       "security deposit                   float64\n",
       "guests included                      int64\n",
       "extra people                        object\n",
       "cleaning_fee                       float64\n",
       "dtype: object"
      ]
     },
     "execution_count": 351,
     "metadata": {},
     "output_type": "execute_result"
    }
   ],
   "source": [
    "listings.dtypes"
   ]
  },
  {
   "cell_type": "markdown",
   "metadata": {},
   "source": [
    "Typings are one place where the data can act like you don't expect, another part of the cleaning process is checking for null values.\n",
    "\n",
    "Pandas provides a function `isnull()`, which creates a new dataframe full of `True / False` if each cell is null or not, e.g."
   ]
  },
  {
   "cell_type": "code",
   "execution_count": 353,
   "metadata": {},
   "outputs": [],
   "source": [
    "#check for nulls "
   ]
  },
  {
   "cell_type": "markdown",
   "metadata": {},
   "source": [
    "Taking the sum of these columns (where `True == 1` and `False == 0`) gives us the total number of null values in each column:"
   ]
  },
  {
   "cell_type": "code",
   "execution_count": 354,
   "metadata": {},
   "outputs": [
    {
     "data": {
      "text/plain": [
       "id                           0.000000\n",
       "last scraped                 0.000000\n",
       "listing url                  0.000000\n",
       "name                         0.036699\n",
       "host id                      0.000000\n",
       "experiences                  0.000000\n",
       "neighbourhood                0.000000\n",
       "latitude                     0.000000\n",
       "longitude                    0.000000\n",
       "property type                0.000000\n",
       "room type                    0.000000\n",
       "accommodates                 0.000000\n",
       "bathrooms                    0.206671\n",
       "bedrooms                     0.063740\n",
       "beds                         0.164178\n",
       "bed type                     0.000000\n",
       "minNights                    0.000000\n",
       "maxNights                    0.000000\n",
       "reviewCount                  0.000000\n",
       "instant bookable             0.000000\n",
       "is business travel ready     0.000000\n",
       "cancellation policy          0.000000\n",
       "first review                26.504162\n",
       "last review                 26.486779\n",
       "review rating               28.648137\n",
       "review accuracy             28.741815\n",
       "review cleanliness          28.714774\n",
       "review checkin              28.825836\n",
       "review communication        28.739884\n",
       "review location             28.833562\n",
       "review value                28.839356\n",
       "price                        0.000000\n",
       "security deposit            36.576015\n",
       "guests included              0.000000\n",
       "extra people                 0.000000\n",
       "cleaning_fee                28.070616\n",
       "dtype: float64"
      ]
     },
     "execution_count": 354,
     "metadata": {},
     "output_type": "execute_result"
    }
   ],
   "source": [
    "# Percent null values\n",
    "listings.isnull().sum() / len(listings) * 100"
   ]
  },
  {
   "cell_type": "markdown",
   "metadata": {},
   "source": [
    "## OK - let's try some more interesting questions..."
   ]
  },
  {
   "cell_type": "markdown",
   "metadata": {},
   "source": [
    "### 1. How many listings are there per neighbourhood?\n",
    "\n",
    "In the first line we group all listings by their neighbourhood, then count how many unique `id`s are in each and divide by the number of listings.\n",
    "In the second line we sort the listings and create a bar plot."
   ]
  },
  {
   "cell_type": "code",
   "execution_count": 355,
   "metadata": {},
   "outputs": [
    {
     "data": {
      "image/png": "[encoded data removed]",
      "text/plain": [
       "<Figure size 504x504 with 1 Axes>"
      ]
     },
     "metadata": {},
     "output_type": "display_data"
    }
   ],
   "source": [
    "byNeighbourhood = listings.groupby('neighbourhood').agg({ 'id': len }) / len(listings) * 100\n",
    "byNeighbourhood.sort_values(by = 'id', ascending = False).plot(kind = 'barh', figsize=(7,7))\n",
    "plt.title(\"Percent of London Listings in each Borough\")\n",
    "plt.grid(False)\n",
    "plt.show()"
   ]
  },
  {
   "cell_type": "markdown",
   "metadata": {},
   "source": [
    "### How has the overall number of listings in London changed over time\n",
    "\n",
    "Since we don't have the actual date the listing was first put up, we can use \"first review\" as a proxy for when it first showed up."
   ]
  },
  {
   "cell_type": "code",
   "execution_count": 357,
   "metadata": {},
   "outputs": [],
   "source": [
    "#listings['price_$']\n",
    "#~~listings.price"
   ]
  },
  {
   "cell_type": "code",
   "execution_count": 365,
   "metadata": {},
   "outputs": [
    {
     "data": {
      "image/png": "[encoded data removed]",
      "text/plain": [
       "<Figure size 576x396 with 1 Axes>"
      ]
     },
     "metadata": {},
     "output_type": "display_data"
    }
   ],
   "source": [
    "listings.groupby([listings['first review']]).agg({ 'id': len }).plot()\n",
    "plt.title(\"Growth of AirBnB in London\")\n",
    "plt.grid()\n",
    "plt.show()"
   ]
  },
  {
   "cell_type": "code",
   "execution_count": 417,
   "metadata": {},
   "outputs": [
    {
     "data": {
      "text/plain": [
       "114.25777915129508"
      ]
     },
     "execution_count": 417,
     "metadata": {},
     "output_type": "execute_result"
    }
   ],
   "source": [
    "listings.price."
   ]
  },
  {
   "cell_type": "markdown",
   "metadata": {},
   "source": [
    "## Challenge: Which neighbourhood has experienced the highest YoY growth from 2018-2019?"
   ]
  },
  {
   "cell_type": "code",
   "execution_count": 407,
   "metadata": {},
   "outputs": [],
   "source": [
    "\n",
    "#listings.groupby('neighbourhood').agg({''})\n",
    "#listings['pct'] = listings.sort_values('first review').groupby(['neighbourhood']).transform(lambda x: x.pct_change())"
   ]
  },
  {
   "cell_type": "markdown",
   "metadata": {},
   "source": [
    "#### House price distribution accross London "
   ]
  },
  {
   "cell_type": "code",
   "execution_count": 415,
   "metadata": {},
   "outputs": [
    {
     "data": {
      "text/plain": [
       "<matplotlib.legend.Legend at 0x7fea770a83c8>"
      ]
     },
     "execution_count": 415,
     "metadata": {},
     "output_type": "execute_result"
    },
    {
     "data": {
      "image/png": "[encoded data removed]",
      "text/plain": [
       "<Figure size 504x360 with 2 Axes>"
      ]
     },
     "metadata": {},
     "output_type": "display_data"
    }
   ],
   "source": [
    "listings.plot(kind='scatter', x= 'longitude', y= 'latitude', alpha=0.9,\n",
    "            s=listings['price']/100, label='Price',c='price',cmap=plt.get_cmap('jet'), colorbar=True, figsize=(7,5))\n",
    "plt.grid(False)\n",
    "plt.legend()"
   ]
  },
  {
   "cell_type": "code",
   "execution_count": null,
   "metadata": {},
   "outputs": [],
   "source": [
    "interested = listings[['neighbourhood', '' ]]"
   ]
  },
  {
   "cell_type": "code",
   "execution_count": 362,
   "metadata": {},
   "outputs": [
    {
     "data": {
      "text/html": [
       "<div>\n",
       "<style scoped>\n",
       "    .dataframe tbody tr th:only-of-type {\n",
       "        vertical-align: middle;\n",
       "    }\n",
       "\n",
       "    .dataframe tbody tr th {\n",
       "        vertical-align: top;\n",
       "    }\n",
       "\n",
       "    .dataframe thead th {\n",
       "        text-align: right;\n",
       "    }\n",
       "</style>\n",
       "<table border=\"1\" class=\"dataframe\">\n",
       "  <thead>\n",
       "    <tr style=\"text-align: right;\">\n",
       "      <th></th>\n",
       "      <th>id</th>\n",
       "      <th>last scraped</th>\n",
       "      <th>listing url</th>\n",
       "      <th>name</th>\n",
       "      <th>host id</th>\n",
       "      <th>experiences</th>\n",
       "      <th>neighbourhood</th>\n",
       "      <th>latitude</th>\n",
       "      <th>longitude</th>\n",
       "      <th>property type</th>\n",
       "      <th>...</th>\n",
       "      <th>review cleanliness</th>\n",
       "      <th>review checkin</th>\n",
       "      <th>review communication</th>\n",
       "      <th>review location</th>\n",
       "      <th>review value</th>\n",
       "      <th>price</th>\n",
       "      <th>security deposit</th>\n",
       "      <th>guests included</th>\n",
       "      <th>extra people</th>\n",
       "      <th>cleaning_fee</th>\n",
       "    </tr>\n",
       "  </thead>\n",
       "  <tbody>\n",
       "    <tr>\n",
       "      <th>70</th>\n",
       "      <td>55402</td>\n",
       "      <td>2019-03-07</td>\n",
       "      <td>https://www.airbnb.com/rooms/55402</td>\n",
       "      <td>Modern 2 Bed 2 Bath, UK, Croydon</td>\n",
       "      <td>57861</td>\n",
       "      <td>none</td>\n",
       "      <td>Croydon</td>\n",
       "      <td>51.37438</td>\n",
       "      <td>-0.11770</td>\n",
       "      <td>Condominium</td>\n",
       "      <td>...</td>\n",
       "      <td>9.0</td>\n",
       "      <td>10.0</td>\n",
       "      <td>9.0</td>\n",
       "      <td>10.0</td>\n",
       "      <td>10.0</td>\n",
       "      <td>55.0</td>\n",
       "      <td>300.0</td>\n",
       "      <td>4</td>\n",
       "      <td>$0.00</td>\n",
       "      <td>50.0</td>\n",
       "    </tr>\n",
       "    <tr>\n",
       "      <th>79</th>\n",
       "      <td>62747</td>\n",
       "      <td>2019-03-08</td>\n",
       "      <td>https://www.airbnb.com/rooms/62747</td>\n",
       "      <td>Beautiful huge double room in artist’s garden ...</td>\n",
       "      <td>289179</td>\n",
       "      <td>none</td>\n",
       "      <td>Tower Hamlets</td>\n",
       "      <td>51.52126</td>\n",
       "      <td>-0.05696</td>\n",
       "      <td>Apartment</td>\n",
       "      <td>...</td>\n",
       "      <td>9.0</td>\n",
       "      <td>10.0</td>\n",
       "      <td>10.0</td>\n",
       "      <td>9.0</td>\n",
       "      <td>10.0</td>\n",
       "      <td>38.0</td>\n",
       "      <td>200.0</td>\n",
       "      <td>2</td>\n",
       "      <td>$25.00</td>\n",
       "      <td>0.0</td>\n",
       "    </tr>\n",
       "    <tr>\n",
       "      <th>109</th>\n",
       "      <td>79488</td>\n",
       "      <td>2019-03-08</td>\n",
       "      <td>https://www.airbnb.com/rooms/79488</td>\n",
       "      <td>Charming Apartment Amazing Location</td>\n",
       "      <td>428080</td>\n",
       "      <td>none</td>\n",
       "      <td>Westminster</td>\n",
       "      <td>51.51870</td>\n",
       "      <td>-0.16726</td>\n",
       "      <td>Apartment</td>\n",
       "      <td>...</td>\n",
       "      <td>10.0</td>\n",
       "      <td>10.0</td>\n",
       "      <td>10.0</td>\n",
       "      <td>10.0</td>\n",
       "      <td>10.0</td>\n",
       "      <td>140.0</td>\n",
       "      <td>500.0</td>\n",
       "      <td>1</td>\n",
       "      <td>$0.00</td>\n",
       "      <td>70.0</td>\n",
       "    </tr>\n",
       "    <tr>\n",
       "      <th>139</th>\n",
       "      <td>84640</td>\n",
       "      <td>2019-03-08</td>\n",
       "      <td>https://www.airbnb.com/rooms/84640</td>\n",
       "      <td>Room near Alexandra Palace park.</td>\n",
       "      <td>462651</td>\n",
       "      <td>none</td>\n",
       "      <td>Haringey</td>\n",
       "      <td>51.58937</td>\n",
       "      <td>-0.12274</td>\n",
       "      <td>Other</td>\n",
       "      <td>...</td>\n",
       "      <td>10.0</td>\n",
       "      <td>10.0</td>\n",
       "      <td>10.0</td>\n",
       "      <td>10.0</td>\n",
       "      <td>10.0</td>\n",
       "      <td>45.0</td>\n",
       "      <td>80.0</td>\n",
       "      <td>1</td>\n",
       "      <td>$20.00</td>\n",
       "      <td>10.0</td>\n",
       "    </tr>\n",
       "    <tr>\n",
       "      <th>179</th>\n",
       "      <td>94138</td>\n",
       "      <td>2019-03-07</td>\n",
       "      <td>https://www.airbnb.com/rooms/94138</td>\n",
       "      <td>Lovely east London ground floor apartment</td>\n",
       "      <td>503548</td>\n",
       "      <td>none</td>\n",
       "      <td>Tower Hamlets</td>\n",
       "      <td>51.52807</td>\n",
       "      <td>-0.05133</td>\n",
       "      <td>Apartment</td>\n",
       "      <td>...</td>\n",
       "      <td>10.0</td>\n",
       "      <td>10.0</td>\n",
       "      <td>10.0</td>\n",
       "      <td>10.0</td>\n",
       "      <td>10.0</td>\n",
       "      <td>70.0</td>\n",
       "      <td>200.0</td>\n",
       "      <td>2</td>\n",
       "      <td>$20.00</td>\n",
       "      <td>0.0</td>\n",
       "    </tr>\n",
       "  </tbody>\n",
       "</table>\n",
       "<p>5 rows × 36 columns</p>\n",
       "</div>"
      ],
      "text/plain": [
       "        id last scraped                         listing url  \\\n",
       "70   55402   2019-03-07  https://www.airbnb.com/rooms/55402   \n",
       "79   62747   2019-03-08  https://www.airbnb.com/rooms/62747   \n",
       "109  79488   2019-03-08  https://www.airbnb.com/rooms/79488   \n",
       "139  84640   2019-03-08  https://www.airbnb.com/rooms/84640   \n",
       "179  94138   2019-03-07  https://www.airbnb.com/rooms/94138   \n",
       "\n",
       "                                                  name  host id experiences  \\\n",
       "70                    Modern 2 Bed 2 Bath, UK, Croydon    57861        none   \n",
       "79   Beautiful huge double room in artist’s garden ...   289179        none   \n",
       "109                Charming Apartment Amazing Location   428080        none   \n",
       "139                   Room near Alexandra Palace park.   462651        none   \n",
       "179          Lovely east London ground floor apartment   503548        none   \n",
       "\n",
       "     neighbourhood  latitude  longitude property type  ... review cleanliness  \\\n",
       "70         Croydon  51.37438   -0.11770   Condominium  ...                9.0   \n",
       "79   Tower Hamlets  51.52126   -0.05696     Apartment  ...                9.0   \n",
       "109    Westminster  51.51870   -0.16726     Apartment  ...               10.0   \n",
       "139       Haringey  51.58937   -0.12274         Other  ...               10.0   \n",
       "179  Tower Hamlets  51.52807   -0.05133     Apartment  ...               10.0   \n",
       "\n",
       "     review checkin  review communication  review location  review value  \\\n",
       "70             10.0                   9.0             10.0          10.0   \n",
       "79             10.0                  10.0              9.0          10.0   \n",
       "109            10.0                  10.0             10.0          10.0   \n",
       "139            10.0                  10.0             10.0          10.0   \n",
       "179            10.0                  10.0             10.0          10.0   \n",
       "\n",
       "     price  security deposit  guests included  extra people cleaning_fee  \n",
       "70    55.0             300.0                4         $0.00         50.0  \n",
       "79    38.0             200.0                2        $25.00          0.0  \n",
       "109  140.0             500.0                1         $0.00         70.0  \n",
       "139   45.0              80.0                1        $20.00         10.0  \n",
       "179   70.0             200.0                2        $20.00          0.0  \n",
       "\n",
       "[5 rows x 36 columns]"
      ]
     },
     "execution_count": 362,
     "metadata": {},
     "output_type": "execute_result"
    }
   ],
   "source": [
    "listings[ listings['first review'].dt.year >= 2018].head()"
   ]
  },
  {
   "cell_type": "code",
   "execution_count": 149,
   "metadata": {},
   "outputs": [],
   "source": [
    "#listings.groupby('neighbourhood')['first review'].dt.year >=2018\n",
    "#plt.title(\"Growth of AirBnB in London\")\n",
    "#plt.show()"
   ]
  },
  {
   "cell_type": "code",
   "execution_count": null,
   "metadata": {},
   "outputs": [],
   "source": []
  },
  {
   "cell_type": "markdown",
   "metadata": {},
   "source": [
    "## Merging tables"
   ]
  },
  {
   "cell_type": "markdown",
   "metadata": {},
   "source": [
    "We can solve some more interesting problems if we merge a few tables together. Let's see how review sentitment correlates with a listings overall ratings.\n",
    "\n",
    "The reviews table contains a simplified summary of the reviews left for each property by month, characterised by a sentiment score and a word count."
   ]
  },
  {
   "cell_type": "code",
   "execution_count": 16,
   "metadata": {},
   "outputs": [
    {
     "data": {
      "text/html": [
       "<div>\n",
       "<style scoped>\n",
       "    .dataframe tbody tr th:only-of-type {\n",
       "        vertical-align: middle;\n",
       "    }\n",
       "\n",
       "    .dataframe tbody tr th {\n",
       "        vertical-align: top;\n",
       "    }\n",
       "\n",
       "    .dataframe thead th {\n",
       "        text-align: right;\n",
       "    }\n",
       "</style>\n",
       "<table border=\"1\" class=\"dataframe\">\n",
       "  <thead>\n",
       "    <tr style=\"text-align: right;\">\n",
       "      <th></th>\n",
       "      <th>listing id</th>\n",
       "      <th>mon_yr</th>\n",
       "      <th>reviewerCount</th>\n",
       "      <th>avgSentiment</th>\n",
       "      <th>avgWordcount</th>\n",
       "      <th>neighbourhood</th>\n",
       "    </tr>\n",
       "  </thead>\n",
       "  <tbody>\n",
       "    <tr>\n",
       "      <th>0</th>\n",
       "      <td>9554</td>\n",
       "      <td>01-2013</td>\n",
       "      <td>2</td>\n",
       "      <td>0.093655</td>\n",
       "      <td>48.50</td>\n",
       "      <td>Haringey</td>\n",
       "    </tr>\n",
       "    <tr>\n",
       "      <th>1</th>\n",
       "      <td>9554</td>\n",
       "      <td>01-2016</td>\n",
       "      <td>2</td>\n",
       "      <td>0.315268</td>\n",
       "      <td>56.50</td>\n",
       "      <td>Haringey</td>\n",
       "    </tr>\n",
       "    <tr>\n",
       "      <th>2</th>\n",
       "      <td>9554</td>\n",
       "      <td>01-2017</td>\n",
       "      <td>1</td>\n",
       "      <td>1.000000</td>\n",
       "      <td>1.00</td>\n",
       "      <td>Haringey</td>\n",
       "    </tr>\n",
       "    <tr>\n",
       "      <th>3</th>\n",
       "      <td>9554</td>\n",
       "      <td>01-2018</td>\n",
       "      <td>1</td>\n",
       "      <td>0.000000</td>\n",
       "      <td>1.00</td>\n",
       "      <td>Haringey</td>\n",
       "    </tr>\n",
       "    <tr>\n",
       "      <th>4</th>\n",
       "      <td>9554</td>\n",
       "      <td>02-2013</td>\n",
       "      <td>4</td>\n",
       "      <td>0.250000</td>\n",
       "      <td>28.25</td>\n",
       "      <td>Haringey</td>\n",
       "    </tr>\n",
       "  </tbody>\n",
       "</table>\n",
       "</div>"
      ],
      "text/plain": [
       "   listing id   mon_yr  reviewerCount  avgSentiment  avgWordcount  \\\n",
       "0        9554  01-2013              2      0.093655         48.50   \n",
       "1        9554  01-2016              2      0.315268         56.50   \n",
       "2        9554  01-2017              1      1.000000          1.00   \n",
       "3        9554  01-2018              1      0.000000          1.00   \n",
       "4        9554  02-2013              4      0.250000         28.25   \n",
       "\n",
       "  neighbourhood  \n",
       "0      Haringey  \n",
       "1      Haringey  \n",
       "2      Haringey  \n",
       "3      Haringey  \n",
       "4      Haringey  "
      ]
     },
     "execution_count": 16,
     "metadata": {},
     "output_type": "execute_result"
    }
   ],
   "source": [
    "reviews = pd.read_csv(os.path.join(path,\"Reviews.csv\"))\n",
    "reviews.head()"
   ]
  },
  {
   "cell_type": "code",
   "execution_count": 363,
   "metadata": {},
   "outputs": [
    {
     "data": {
      "image/png": "[encoded data removed]",
      "text/plain": [
       "<Figure size 720x504 with 4 Axes>"
      ]
     },
     "metadata": {},
     "output_type": "display_data"
    }
   ],
   "source": [
    "reviews.hist(bins = 50, figsize= (10,7))\n",
    "#plt.grid(False)\n",
    "plt.show()"
   ]
  },
  {
   "cell_type": "markdown",
   "metadata": {},
   "source": [
    "Arguably the simplest visualisation of a single column is the histogram - group the data into bins and plot the number in each bin. Plotted this way, it is clear that most reviews are positive, though not overwhelmingly so:"
   ]
  },
  {
   "cell_type": "code",
   "execution_count": 193,
   "metadata": {},
   "outputs": [
    {
     "data": {
      "image/png": "[encoded data removed]",
      "text/plain": [
       "<Figure size 576x396 with 1 Axes>"
      ]
     },
     "metadata": {},
     "output_type": "display_data"
    }
   ],
   "source": [
    "reviews['avgSentiment'].hist(bins = np.linspace(-1, 1, 100))\n",
    "plt.xlabel('Average sentiment score')\n",
    "plt.ylabel('Count')\n",
    "plt.grid(False)\n",
    "plt.show()"
   ]
  },
  {
   "cell_type": "markdown",
   "metadata": {},
   "source": [
    "Most reviews tend to be pretty short too, around 40 words long:"
   ]
  },
  {
   "cell_type": "code",
   "execution_count": 192,
   "metadata": {},
   "outputs": [
    {
     "data": {
      "image/png": "[encoded data removed]",
      "text/plain": [
       "<Figure size 576x396 with 1 Axes>"
      ]
     },
     "metadata": {},
     "output_type": "display_data"
    }
   ],
   "source": [
    "reviews['avgWordcount'].hist(bins = np.linspace(0, 300, 100))\n",
    "plt.xlabel('Average word count')\n",
    "plt.ylabel('Count')\n",
    "plt.grid(False)\n",
    "plt.show()"
   ]
  },
  {
   "cell_type": "markdown",
   "metadata": {},
   "source": [
    "For now let's just take the median sentiment for each listing, so that the following table is *uniquely keyed* on the `listing id`, i.e. there is only one value for each `listing id`."
   ]
  },
  {
   "cell_type": "code",
   "execution_count": 121,
   "metadata": {},
   "outputs": [
    {
     "data": {
      "text/html": [
       "<div>\n",
       "<style scoped>\n",
       "    .dataframe tbody tr th:only-of-type {\n",
       "        vertical-align: middle;\n",
       "    }\n",
       "\n",
       "    .dataframe tbody tr th {\n",
       "        vertical-align: top;\n",
       "    }\n",
       "\n",
       "    .dataframe thead th {\n",
       "        text-align: right;\n",
       "    }\n",
       "</style>\n",
       "<table border=\"1\" class=\"dataframe\">\n",
       "  <thead>\n",
       "    <tr style=\"text-align: right;\">\n",
       "      <th></th>\n",
       "      <th>listing id</th>\n",
       "      <th>avgSentiment</th>\n",
       "    </tr>\n",
       "  </thead>\n",
       "  <tbody>\n",
       "    <tr>\n",
       "      <th>0</th>\n",
       "      <td>9554</td>\n",
       "      <td>0.376970</td>\n",
       "    </tr>\n",
       "    <tr>\n",
       "      <th>1</th>\n",
       "      <td>11076</td>\n",
       "      <td>0.727500</td>\n",
       "    </tr>\n",
       "    <tr>\n",
       "      <th>2</th>\n",
       "      <td>11417</td>\n",
       "      <td>0.272692</td>\n",
       "    </tr>\n",
       "    <tr>\n",
       "      <th>3</th>\n",
       "      <td>13913</td>\n",
       "      <td>0.337118</td>\n",
       "    </tr>\n",
       "    <tr>\n",
       "      <th>4</th>\n",
       "      <td>15400</td>\n",
       "      <td>0.394443</td>\n",
       "    </tr>\n",
       "  </tbody>\n",
       "</table>\n",
       "</div>"
      ],
      "text/plain": [
       "   listing id  avgSentiment\n",
       "0        9554      0.376970\n",
       "1       11076      0.727500\n",
       "2       11417      0.272692\n",
       "3       13913      0.337118\n",
       "4       15400      0.394443"
      ]
     },
     "execution_count": 121,
     "metadata": {},
     "output_type": "execute_result"
    }
   ],
   "source": [
    "med_rvw = reviews.groupby('listing id')['avgSentiment'].median().reset_index()\n",
    "med_rvw.head()"
   ]
  },
  {
   "cell_type": "markdown",
   "metadata": {},
   "source": [
    "In this form, we are able to merge the `med_rvw` table onto the `listings` table. Merging is where we take two tables - a `left` and a `right`, and attach the `right` table onto the `left` table.\n",
    "\n",
    "To match up the rows in the attached tables, pandas needs to know how to indentify each row - in this case we can use the id of each airbnb listing. This column is called `listing id` in `med_rvw`, and `id` in listings.\n",
    "\n",
    "In the following cell, we extract the columns from `listings` we are interested in, and then call the `merge()` method. In this case, `left` is `listings` and `right` is `med_rvw`."
   ]
  },
  {
   "cell_type": "code",
   "execution_count": 153,
   "metadata": {},
   "outputs": [
    {
     "data": {
      "text/html": [
       "<div>\n",
       "<style scoped>\n",
       "    .dataframe tbody tr th:only-of-type {\n",
       "        vertical-align: middle;\n",
       "    }\n",
       "\n",
       "    .dataframe tbody tr th {\n",
       "        vertical-align: top;\n",
       "    }\n",
       "\n",
       "    .dataframe thead th {\n",
       "        text-align: right;\n",
       "    }\n",
       "</style>\n",
       "<table border=\"1\" class=\"dataframe\">\n",
       "  <thead>\n",
       "    <tr style=\"text-align: right;\">\n",
       "      <th></th>\n",
       "      <th>id</th>\n",
       "      <th>review rating</th>\n",
       "      <th>review accuracy</th>\n",
       "      <th>review cleanliness</th>\n",
       "      <th>review checkin</th>\n",
       "      <th>review communication</th>\n",
       "      <th>review location</th>\n",
       "      <th>review value</th>\n",
       "      <th>neighbourhood</th>\n",
       "      <th>listing id</th>\n",
       "      <th>avgSentiment</th>\n",
       "    </tr>\n",
       "  </thead>\n",
       "  <tbody>\n",
       "    <tr>\n",
       "      <th>0</th>\n",
       "      <td>9554</td>\n",
       "      <td>97.0</td>\n",
       "      <td>10.0</td>\n",
       "      <td>9.0</td>\n",
       "      <td>10.0</td>\n",
       "      <td>10.0</td>\n",
       "      <td>9.0</td>\n",
       "      <td>10.0</td>\n",
       "      <td>Haringey</td>\n",
       "      <td>9554</td>\n",
       "      <td>0.376970</td>\n",
       "    </tr>\n",
       "    <tr>\n",
       "      <th>1</th>\n",
       "      <td>11076</td>\n",
       "      <td>90.0</td>\n",
       "      <td>8.0</td>\n",
       "      <td>9.0</td>\n",
       "      <td>10.0</td>\n",
       "      <td>9.0</td>\n",
       "      <td>9.0</td>\n",
       "      <td>9.0</td>\n",
       "      <td>Ealing</td>\n",
       "      <td>11076</td>\n",
       "      <td>0.727500</td>\n",
       "    </tr>\n",
       "    <tr>\n",
       "      <th>2</th>\n",
       "      <td>11417</td>\n",
       "      <td>95.0</td>\n",
       "      <td>10.0</td>\n",
       "      <td>10.0</td>\n",
       "      <td>10.0</td>\n",
       "      <td>10.0</td>\n",
       "      <td>10.0</td>\n",
       "      <td>9.0</td>\n",
       "      <td>Tower Hamlets</td>\n",
       "      <td>11417</td>\n",
       "      <td>0.272692</td>\n",
       "    </tr>\n",
       "    <tr>\n",
       "      <th>3</th>\n",
       "      <td>13913</td>\n",
       "      <td>95.0</td>\n",
       "      <td>9.0</td>\n",
       "      <td>10.0</td>\n",
       "      <td>9.0</td>\n",
       "      <td>10.0</td>\n",
       "      <td>9.0</td>\n",
       "      <td>9.0</td>\n",
       "      <td>Islington</td>\n",
       "      <td>13913</td>\n",
       "      <td>0.337118</td>\n",
       "    </tr>\n",
       "    <tr>\n",
       "      <th>4</th>\n",
       "      <td>15400</td>\n",
       "      <td>95.0</td>\n",
       "      <td>10.0</td>\n",
       "      <td>10.0</td>\n",
       "      <td>10.0</td>\n",
       "      <td>10.0</td>\n",
       "      <td>10.0</td>\n",
       "      <td>9.0</td>\n",
       "      <td>Kensington and Chelsea</td>\n",
       "      <td>15400</td>\n",
       "      <td>0.394443</td>\n",
       "    </tr>\n",
       "  </tbody>\n",
       "</table>\n",
       "</div>"
      ],
      "text/plain": [
       "      id  review rating  review accuracy  review cleanliness  review checkin  \\\n",
       "0   9554           97.0             10.0                 9.0            10.0   \n",
       "1  11076           90.0              8.0                 9.0            10.0   \n",
       "2  11417           95.0             10.0                10.0            10.0   \n",
       "3  13913           95.0              9.0                10.0             9.0   \n",
       "4  15400           95.0             10.0                10.0            10.0   \n",
       "\n",
       "   review communication  review location  review value  \\\n",
       "0                  10.0              9.0          10.0   \n",
       "1                   9.0              9.0           9.0   \n",
       "2                  10.0             10.0           9.0   \n",
       "3                  10.0              9.0           9.0   \n",
       "4                  10.0             10.0           9.0   \n",
       "\n",
       "            neighbourhood  listing id  avgSentiment  \n",
       "0                Haringey        9554      0.376970  \n",
       "1                  Ealing       11076      0.727500  \n",
       "2           Tower Hamlets       11417      0.272692  \n",
       "3               Islington       13913      0.337118  \n",
       "4  Kensington and Chelsea       15400      0.394443  "
      ]
     },
     "execution_count": 153,
     "metadata": {},
     "output_type": "execute_result"
    }
   ],
   "source": [
    "cols_to_keep = ['id','review rating','review accuracy', 'review cleanliness', 'review checkin',\n",
    "                'review communication', 'review location', 'review value', 'neighbourhood']\n",
    "\n",
    "merged = listings[cols_to_keep].merge(med_rvw, left_on = 'id', right_on = 'listing id', how = 'inner')\n",
    "merged.head()"
   ]
  },
  {
   "cell_type": "markdown",
   "metadata": {},
   "source": [
    "Now everything is matched up in one table, we can do fun things like look at the relationship between the actual review rating, and the sentiment of the review text:"
   ]
  },
  {
   "cell_type": "code",
   "execution_count": 189,
   "metadata": {},
   "outputs": [
    {
     "data": {
      "image/png": "[encoded data removed]",
      "text/plain": [
       "<Figure size 576x396 with 1 Axes>"
      ]
     },
     "metadata": {},
     "output_type": "display_data"
    }
   ],
   "source": [
    "x = merged['review rating']\n",
    "y = merged['avgSentiment']\n",
    "# Drop pairs of (x, y) if either is NaN\n",
    "x, y = list(zip(*[(x[i], y[i]) for i in range(len(x)) if np.isfinite(x[i]) and np.isfinite(y[i])]))\n",
    "\n",
    "plt.plot(x, y, '.')\n",
    "plt.title(\"Review Rating vs Review Sentiment\")\n",
    "plt.xlabel('Review rating')\n",
    "plt.ylabel('Review sentiment')\n",
    "plt.show()"
   ]
  },
  {
   "cell_type": "markdown",
   "metadata": {},
   "source": [
    "As there are lots of points and they all overlap, often a better way of plotting dense data is to create a 2D histogram and plot the density of points. In this way we see better the overrepresentation of review ratings at 20 / 40 / 60 / 80 / 100%, and review sentiments of zero."
   ]
  },
  {
   "cell_type": "code",
   "execution_count": 190,
   "metadata": {},
   "outputs": [
    {
     "data": {
      "image/png": "[encoded data removed]",
      "text/plain": [
       "<Figure size 576x396 with 2 Axes>"
      ]
     },
     "metadata": {},
     "output_type": "display_data"
    }
   ],
   "source": [
    "xbins = np.linspace(10, 110, 100)\n",
    "ybins = np.linspace(-1, 1, 100)\n",
    "hist2d, xe, ye = np.histogram2d(x,y, bins=(xbins, ybins))\n",
    "plt.pcolormesh(xe[1:], ye[1:], np.log(hist2d.T + 0.1),cmap=plt.get_cmap('RdBu')) # Offset to avoid log(0)\n",
    "plt.xlabel('Review rating')\n",
    "plt.ylabel('Review sentiment')\n",
    "plt.colorbar(label='log(# reviews)')\n",
    "plt.show()"
   ]
  },
  {
   "cell_type": "markdown",
   "metadata": {},
   "source": [
    "## Challenge: Which borough has the highest average location score? Lowest?"
   ]
  },
  {
   "cell_type": "code",
   "execution_count": 169,
   "metadata": {},
   "outputs": [
    {
     "data": {
      "text/html": [
       "<div>\n",
       "<style scoped>\n",
       "    .dataframe tbody tr th:only-of-type {\n",
       "        vertical-align: middle;\n",
       "    }\n",
       "\n",
       "    .dataframe tbody tr th {\n",
       "        vertical-align: top;\n",
       "    }\n",
       "\n",
       "    .dataframe thead th {\n",
       "        text-align: right;\n",
       "    }\n",
       "</style>\n",
       "<table border=\"1\" class=\"dataframe\">\n",
       "  <thead>\n",
       "    <tr style=\"text-align: right;\">\n",
       "      <th></th>\n",
       "      <th>id</th>\n",
       "      <th>review rating</th>\n",
       "      <th>review accuracy</th>\n",
       "      <th>review cleanliness</th>\n",
       "      <th>review checkin</th>\n",
       "      <th>review communication</th>\n",
       "      <th>review location</th>\n",
       "      <th>review value</th>\n",
       "      <th>neighbourhood</th>\n",
       "      <th>listing id</th>\n",
       "      <th>avgSentiment</th>\n",
       "    </tr>\n",
       "  </thead>\n",
       "  <tbody>\n",
       "    <tr>\n",
       "      <th>0</th>\n",
       "      <td>9554</td>\n",
       "      <td>97.0</td>\n",
       "      <td>10.0</td>\n",
       "      <td>9.0</td>\n",
       "      <td>10.0</td>\n",
       "      <td>10.0</td>\n",
       "      <td>9.0</td>\n",
       "      <td>10.0</td>\n",
       "      <td>Haringey</td>\n",
       "      <td>9554</td>\n",
       "      <td>0.376970</td>\n",
       "    </tr>\n",
       "    <tr>\n",
       "      <th>1</th>\n",
       "      <td>11076</td>\n",
       "      <td>90.0</td>\n",
       "      <td>8.0</td>\n",
       "      <td>9.0</td>\n",
       "      <td>10.0</td>\n",
       "      <td>9.0</td>\n",
       "      <td>9.0</td>\n",
       "      <td>9.0</td>\n",
       "      <td>Ealing</td>\n",
       "      <td>11076</td>\n",
       "      <td>0.727500</td>\n",
       "    </tr>\n",
       "    <tr>\n",
       "      <th>2</th>\n",
       "      <td>11417</td>\n",
       "      <td>95.0</td>\n",
       "      <td>10.0</td>\n",
       "      <td>10.0</td>\n",
       "      <td>10.0</td>\n",
       "      <td>10.0</td>\n",
       "      <td>10.0</td>\n",
       "      <td>9.0</td>\n",
       "      <td>Tower Hamlets</td>\n",
       "      <td>11417</td>\n",
       "      <td>0.272692</td>\n",
       "    </tr>\n",
       "    <tr>\n",
       "      <th>3</th>\n",
       "      <td>13913</td>\n",
       "      <td>95.0</td>\n",
       "      <td>9.0</td>\n",
       "      <td>10.0</td>\n",
       "      <td>9.0</td>\n",
       "      <td>10.0</td>\n",
       "      <td>9.0</td>\n",
       "      <td>9.0</td>\n",
       "      <td>Islington</td>\n",
       "      <td>13913</td>\n",
       "      <td>0.337118</td>\n",
       "    </tr>\n",
       "    <tr>\n",
       "      <th>4</th>\n",
       "      <td>15400</td>\n",
       "      <td>95.0</td>\n",
       "      <td>10.0</td>\n",
       "      <td>10.0</td>\n",
       "      <td>10.0</td>\n",
       "      <td>10.0</td>\n",
       "      <td>10.0</td>\n",
       "      <td>9.0</td>\n",
       "      <td>Kensington and Chelsea</td>\n",
       "      <td>15400</td>\n",
       "      <td>0.394443</td>\n",
       "    </tr>\n",
       "  </tbody>\n",
       "</table>\n",
       "</div>"
      ],
      "text/plain": [
       "      id  review rating  review accuracy  review cleanliness  review checkin  \\\n",
       "0   9554           97.0             10.0                 9.0            10.0   \n",
       "1  11076           90.0              8.0                 9.0            10.0   \n",
       "2  11417           95.0             10.0                10.0            10.0   \n",
       "3  13913           95.0              9.0                10.0             9.0   \n",
       "4  15400           95.0             10.0                10.0            10.0   \n",
       "\n",
       "   review communication  review location  review value  \\\n",
       "0                  10.0              9.0          10.0   \n",
       "1                   9.0              9.0           9.0   \n",
       "2                  10.0             10.0           9.0   \n",
       "3                  10.0              9.0           9.0   \n",
       "4                  10.0             10.0           9.0   \n",
       "\n",
       "            neighbourhood  listing id  avgSentiment  \n",
       "0                Haringey        9554      0.376970  \n",
       "1                  Ealing       11076      0.727500  \n",
       "2           Tower Hamlets       11417      0.272692  \n",
       "3               Islington       13913      0.337118  \n",
       "4  Kensington and Chelsea       15400      0.394443  "
      ]
     },
     "execution_count": 169,
     "metadata": {},
     "output_type": "execute_result"
    }
   ],
   "source": [
    "# Solution here..\n",
    "merged.head()"
   ]
  },
  {
   "cell_type": "code",
   "execution_count": 274,
   "metadata": {},
   "outputs": [
    {
     "data": {
      "text/plain": [
       "<matplotlib.axes._subplots.AxesSubplot at 0x7feabfa107f0>"
      ]
     },
     "execution_count": 274,
     "metadata": {},
     "output_type": "execute_result"
    },
    {
     "data": {
      "image/png": "[encoded data removed]",
      "text/plain": [
       "<Figure size 576x396 with 1 Axes>"
      ]
     },
     "metadata": {},
     "output_type": "display_data"
    }
   ],
   "source": [
    "merged.groupby('neighbourhood')['review location'].mean().sort_values(ascending= True).plot('barh')"
   ]
  },
  {
   "cell_type": "code",
   "execution_count": 299,
   "metadata": {},
   "outputs": [
    {
     "data": {
      "text/html": [
       "<div>\n",
       "<style scoped>\n",
       "    .dataframe tbody tr th:only-of-type {\n",
       "        vertical-align: middle;\n",
       "    }\n",
       "\n",
       "    .dataframe tbody tr th {\n",
       "        vertical-align: top;\n",
       "    }\n",
       "\n",
       "    .dataframe thead tr th {\n",
       "        text-align: left;\n",
       "    }\n",
       "\n",
       "    .dataframe thead tr:last-of-type th {\n",
       "        text-align: right;\n",
       "    }\n",
       "</style>\n",
       "<table border=\"1\" class=\"dataframe\">\n",
       "  <thead>\n",
       "    <tr>\n",
       "      <th></th>\n",
       "      <th>median</th>\n",
       "      <th>mean</th>\n",
       "      <th>len</th>\n",
       "    </tr>\n",
       "    <tr>\n",
       "      <th></th>\n",
       "      <th>review location</th>\n",
       "      <th>review location</th>\n",
       "      <th>review location</th>\n",
       "    </tr>\n",
       "    <tr>\n",
       "      <th>neighbourhood</th>\n",
       "      <th></th>\n",
       "      <th></th>\n",
       "      <th></th>\n",
       "    </tr>\n",
       "  </thead>\n",
       "  <tbody>\n",
       "    <tr>\n",
       "      <th>Barking and Dagenham</th>\n",
       "      <td>9.0</td>\n",
       "      <td>8.867725</td>\n",
       "      <td>203.0</td>\n",
       "    </tr>\n",
       "    <tr>\n",
       "      <th>Barnet</th>\n",
       "      <td>10.0</td>\n",
       "      <td>9.289759</td>\n",
       "      <td>1253.0</td>\n",
       "    </tr>\n",
       "    <tr>\n",
       "      <th>Bexley</th>\n",
       "      <td>9.0</td>\n",
       "      <td>8.873563</td>\n",
       "      <td>186.0</td>\n",
       "    </tr>\n",
       "    <tr>\n",
       "      <th>Brent</th>\n",
       "      <td>9.0</td>\n",
       "      <td>9.116246</td>\n",
       "      <td>2217.0</td>\n",
       "    </tr>\n",
       "    <tr>\n",
       "      <th>Bromley</th>\n",
       "      <td>10.0</td>\n",
       "      <td>9.243852</td>\n",
       "      <td>504.0</td>\n",
       "    </tr>\n",
       "    <tr>\n",
       "      <th>Camden</th>\n",
       "      <td>10.0</td>\n",
       "      <td>9.688172</td>\n",
       "      <td>5624.0</td>\n",
       "    </tr>\n",
       "    <tr>\n",
       "      <th>City of London</th>\n",
       "      <td>10.0</td>\n",
       "      <td>9.675294</td>\n",
       "      <td>436.0</td>\n",
       "    </tr>\n",
       "    <tr>\n",
       "      <th>Croydon</th>\n",
       "      <td>9.0</td>\n",
       "      <td>9.184874</td>\n",
       "      <td>878.0</td>\n",
       "    </tr>\n",
       "    <tr>\n",
       "      <th>Ealing</th>\n",
       "      <td>10.0</td>\n",
       "      <td>9.360930</td>\n",
       "      <td>1428.0</td>\n",
       "    </tr>\n",
       "    <tr>\n",
       "      <th>Enfield</th>\n",
       "      <td>10.0</td>\n",
       "      <td>9.319911</td>\n",
       "      <td>468.0</td>\n",
       "    </tr>\n",
       "    <tr>\n",
       "      <th>Greenwich</th>\n",
       "      <td>10.0</td>\n",
       "      <td>9.263948</td>\n",
       "      <td>1459.0</td>\n",
       "    </tr>\n",
       "    <tr>\n",
       "      <th>Hackney</th>\n",
       "      <td>10.0</td>\n",
       "      <td>9.503541</td>\n",
       "      <td>5707.0</td>\n",
       "    </tr>\n",
       "    <tr>\n",
       "      <th>Hammersmith and Fulham</th>\n",
       "      <td>10.0</td>\n",
       "      <td>9.476791</td>\n",
       "      <td>3842.0</td>\n",
       "    </tr>\n",
       "    <tr>\n",
       "      <th>Haringey</th>\n",
       "      <td>10.0</td>\n",
       "      <td>9.313877</td>\n",
       "      <td>1886.0</td>\n",
       "    </tr>\n",
       "    <tr>\n",
       "      <th>Harrow</th>\n",
       "      <td>10.0</td>\n",
       "      <td>9.270423</td>\n",
       "      <td>374.0</td>\n",
       "    </tr>\n",
       "    <tr>\n",
       "      <th>Havering</th>\n",
       "      <td>10.0</td>\n",
       "      <td>9.379085</td>\n",
       "      <td>162.0</td>\n",
       "    </tr>\n",
       "    <tr>\n",
       "      <th>Hillingdon</th>\n",
       "      <td>10.0</td>\n",
       "      <td>9.358607</td>\n",
       "      <td>504.0</td>\n",
       "    </tr>\n",
       "    <tr>\n",
       "      <th>Hounslow</th>\n",
       "      <td>10.0</td>\n",
       "      <td>9.442604</td>\n",
       "      <td>867.0</td>\n",
       "    </tr>\n",
       "    <tr>\n",
       "      <th>Islington</th>\n",
       "      <td>10.0</td>\n",
       "      <td>9.581104</td>\n",
       "      <td>4779.0</td>\n",
       "    </tr>\n",
       "    <tr>\n",
       "      <th>Kensington and Chelsea</th>\n",
       "      <td>10.0</td>\n",
       "      <td>9.717206</td>\n",
       "      <td>5417.0</td>\n",
       "    </tr>\n",
       "    <tr>\n",
       "      <th>Kingston upon Thames</th>\n",
       "      <td>10.0</td>\n",
       "      <td>9.569444</td>\n",
       "      <td>443.0</td>\n",
       "    </tr>\n",
       "    <tr>\n",
       "      <th>Lambeth</th>\n",
       "      <td>10.0</td>\n",
       "      <td>9.465011</td>\n",
       "      <td>4575.0</td>\n",
       "    </tr>\n",
       "    <tr>\n",
       "      <th>Lewisham</th>\n",
       "      <td>9.0</td>\n",
       "      <td>9.184971</td>\n",
       "      <td>1979.0</td>\n",
       "    </tr>\n",
       "    <tr>\n",
       "      <th>Merton</th>\n",
       "      <td>10.0</td>\n",
       "      <td>9.425781</td>\n",
       "      <td>1069.0</td>\n",
       "    </tr>\n",
       "    <tr>\n",
       "      <th>Newham</th>\n",
       "      <td>9.0</td>\n",
       "      <td>9.122426</td>\n",
       "      <td>1828.0</td>\n",
       "    </tr>\n",
       "    <tr>\n",
       "      <th>Redbridge</th>\n",
       "      <td>9.0</td>\n",
       "      <td>9.166990</td>\n",
       "      <td>541.0</td>\n",
       "    </tr>\n",
       "    <tr>\n",
       "      <th>Richmond upon Thames</th>\n",
       "      <td>10.0</td>\n",
       "      <td>9.727273</td>\n",
       "      <td>1066.0</td>\n",
       "    </tr>\n",
       "    <tr>\n",
       "      <th>Southwark</th>\n",
       "      <td>10.0</td>\n",
       "      <td>9.357312</td>\n",
       "      <td>4794.0</td>\n",
       "    </tr>\n",
       "    <tr>\n",
       "      <th>Sutton</th>\n",
       "      <td>10.0</td>\n",
       "      <td>9.377358</td>\n",
       "      <td>223.0</td>\n",
       "    </tr>\n",
       "    <tr>\n",
       "      <th>Tower Hamlets</th>\n",
       "      <td>9.0</td>\n",
       "      <td>9.282790</td>\n",
       "      <td>7789.0</td>\n",
       "    </tr>\n",
       "    <tr>\n",
       "      <th>Waltham Forest</th>\n",
       "      <td>9.0</td>\n",
       "      <td>9.159213</td>\n",
       "      <td>1169.0</td>\n",
       "    </tr>\n",
       "    <tr>\n",
       "      <th>Wandsworth</th>\n",
       "      <td>10.0</td>\n",
       "      <td>9.474304</td>\n",
       "      <td>3629.0</td>\n",
       "    </tr>\n",
       "    <tr>\n",
       "      <th>Westminster</th>\n",
       "      <td>10.0</td>\n",
       "      <td>9.701771</td>\n",
       "      <td>8742.0</td>\n",
       "    </tr>\n",
       "  </tbody>\n",
       "</table>\n",
       "</div>"
      ],
      "text/plain": [
       "                                median            mean             len\n",
       "                       review location review location review location\n",
       "neighbourhood                                                         \n",
       "Barking and Dagenham               9.0        8.867725           203.0\n",
       "Barnet                            10.0        9.289759          1253.0\n",
       "Bexley                             9.0        8.873563           186.0\n",
       "Brent                              9.0        9.116246          2217.0\n",
       "Bromley                           10.0        9.243852           504.0\n",
       "Camden                            10.0        9.688172          5624.0\n",
       "City of London                    10.0        9.675294           436.0\n",
       "Croydon                            9.0        9.184874           878.0\n",
       "Ealing                            10.0        9.360930          1428.0\n",
       "Enfield                           10.0        9.319911           468.0\n",
       "Greenwich                         10.0        9.263948          1459.0\n",
       "Hackney                           10.0        9.503541          5707.0\n",
       "Hammersmith and Fulham            10.0        9.476791          3842.0\n",
       "Haringey                          10.0        9.313877          1886.0\n",
       "Harrow                            10.0        9.270423           374.0\n",
       "Havering                          10.0        9.379085           162.0\n",
       "Hillingdon                        10.0        9.358607           504.0\n",
       "Hounslow                          10.0        9.442604           867.0\n",
       "Islington                         10.0        9.581104          4779.0\n",
       "Kensington and Chelsea            10.0        9.717206          5417.0\n",
       "Kingston upon Thames              10.0        9.569444           443.0\n",
       "Lambeth                           10.0        9.465011          4575.0\n",
       "Lewisham                           9.0        9.184971          1979.0\n",
       "Merton                            10.0        9.425781          1069.0\n",
       "Newham                             9.0        9.122426          1828.0\n",
       "Redbridge                          9.0        9.166990           541.0\n",
       "Richmond upon Thames              10.0        9.727273          1066.0\n",
       "Southwark                         10.0        9.357312          4794.0\n",
       "Sutton                            10.0        9.377358           223.0\n",
       "Tower Hamlets                      9.0        9.282790          7789.0\n",
       "Waltham Forest                     9.0        9.159213          1169.0\n",
       "Wandsworth                        10.0        9.474304          3629.0\n",
       "Westminster                       10.0        9.701771          8742.0"
      ]
     },
     "execution_count": 299,
     "metadata": {},
     "output_type": "execute_result"
    }
   ],
   "source": [
    "merged.pivot_table(index = ['neighbourhood'], values =['review location'], aggfunc = [np.median ,np.mean, len] )\n"
   ]
  },
  {
   "cell_type": "markdown",
   "metadata": {},
   "source": [
    "## Challenge: Does housing price correlate with airbnb price? popularity?"
   ]
  },
  {
   "cell_type": "code",
   "execution_count": 24,
   "metadata": {},
   "outputs": [],
   "source": [
    "# Solution here..."
   ]
  },
  {
   "cell_type": "code",
   "execution_count": 366,
   "metadata": {},
   "outputs": [
    {
     "data": {
      "text/html": [
       "<div>\n",
       "<style scoped>\n",
       "    .dataframe tbody tr th:only-of-type {\n",
       "        vertical-align: middle;\n",
       "    }\n",
       "\n",
       "    .dataframe tbody tr th {\n",
       "        vertical-align: top;\n",
       "    }\n",
       "\n",
       "    .dataframe thead th {\n",
       "        text-align: right;\n",
       "    }\n",
       "</style>\n",
       "<table border=\"1\" class=\"dataframe\">\n",
       "  <thead>\n",
       "    <tr style=\"text-align: right;\">\n",
       "      <th></th>\n",
       "      <th>listing id</th>\n",
       "      <th>mon_yr</th>\n",
       "      <th>days available</th>\n",
       "      <th>meanPrice</th>\n",
       "      <th>maxPrice</th>\n",
       "      <th>minPrice</th>\n",
       "    </tr>\n",
       "  </thead>\n",
       "  <tbody>\n",
       "    <tr>\n",
       "      <th>0</th>\n",
       "      <td>9554</td>\n",
       "      <td>01-2019</td>\n",
       "      <td>31</td>\n",
       "      <td>36.03</td>\n",
       "      <td>39.0</td>\n",
       "      <td>35.0</td>\n",
       "    </tr>\n",
       "    <tr>\n",
       "      <th>1</th>\n",
       "      <td>9554</td>\n",
       "      <td>02-2019</td>\n",
       "      <td>28</td>\n",
       "      <td>36.14</td>\n",
       "      <td>39.0</td>\n",
       "      <td>35.0</td>\n",
       "    </tr>\n",
       "    <tr>\n",
       "      <th>2</th>\n",
       "      <td>9554</td>\n",
       "      <td>03-2019</td>\n",
       "      <td>31</td>\n",
       "      <td>36.29</td>\n",
       "      <td>39.0</td>\n",
       "      <td>35.0</td>\n",
       "    </tr>\n",
       "    <tr>\n",
       "      <th>3</th>\n",
       "      <td>9554</td>\n",
       "      <td>04-2018</td>\n",
       "      <td>0</td>\n",
       "      <td>NaN</td>\n",
       "      <td>NaN</td>\n",
       "      <td>NaN</td>\n",
       "    </tr>\n",
       "    <tr>\n",
       "      <th>4</th>\n",
       "      <td>9554</td>\n",
       "      <td>04-2019</td>\n",
       "      <td>7</td>\n",
       "      <td>36.14</td>\n",
       "      <td>39.0</td>\n",
       "      <td>35.0</td>\n",
       "    </tr>\n",
       "  </tbody>\n",
       "</table>\n",
       "</div>"
      ],
      "text/plain": [
       "   listing id   mon_yr  days available  meanPrice  maxPrice  minPrice\n",
       "0        9554  01-2019              31      36.03      39.0      35.0\n",
       "1        9554  02-2019              28      36.14      39.0      35.0\n",
       "2        9554  03-2019              31      36.29      39.0      35.0\n",
       "3        9554  04-2018               0        NaN       NaN       NaN\n",
       "4        9554  04-2019               7      36.14      39.0      35.0"
      ]
     },
     "execution_count": 366,
     "metadata": {},
     "output_type": "execute_result"
    }
   ],
   "source": [
    "calendar.head()"
   ]
  },
  {
   "cell_type": "code",
   "execution_count": 367,
   "metadata": {},
   "outputs": [],
   "source": [
    "calendar['id'] = calendar['listing id']"
   ]
  },
  {
   "cell_type": "code",
   "execution_count": 374,
   "metadata": {},
   "outputs": [],
   "source": [
    "calendar =calendar.drop(columns=['listing id'] )\n",
    "calendar = calendar.set_index('id')"
   ]
  },
  {
   "cell_type": "code",
   "execution_count": null,
   "metadata": {},
   "outputs": [],
   "source": [
    "merger = pd.merge(calendar, listings, on= 'id')"
   ]
  },
  {
   "cell_type": "code",
   "execution_count": 390,
   "metadata": {},
   "outputs": [
    {
     "name": "stdout",
     "output_type": "stream",
     "text": [
      "<class 'pandas.core.frame.DataFrame'>\n",
      "Int64Index: 1853374 entries, 0 to 1853373\n",
      "Data columns (total 41 columns):\n",
      "id                          int64\n",
      "mon_yr                      object\n",
      "days available              int64\n",
      "meanPrice                   float64\n",
      "maxPrice                    float64\n",
      "minPrice                    float64\n",
      "last scraped                datetime64[ns]\n",
      "listing url                 object\n",
      "name                        object\n",
      "host id                     int64\n",
      "experiences                 object\n",
      "neighbourhood               object\n",
      "latitude                    float64\n",
      "longitude                   float64\n",
      "property type               object\n",
      "room type                   object\n",
      "accommodates                int64\n",
      "bathrooms                   float64\n",
      "bedrooms                    float64\n",
      "beds                        float64\n",
      "bed type                    object\n",
      "minNights                   int64\n",
      "maxNights                   int64\n",
      "reviewCount                 int64\n",
      "instant bookable            object\n",
      "is business travel ready    object\n",
      "cancellation policy         object\n",
      "first review                datetime64[ns]\n",
      "last review                 datetime64[ns]\n",
      "review rating               float64\n",
      "review accuracy             float64\n",
      "review cleanliness          float64\n",
      "review checkin              float64\n",
      "review communication        float64\n",
      "review location             float64\n",
      "review value                float64\n",
      "price                       float64\n",
      "security deposit            float64\n",
      "guests included             int64\n",
      "extra people                object\n",
      "cleaning_fee                float64\n",
      "dtypes: datetime64[ns](3), float64(18), int64(8), object(12)\n",
      "memory usage: 593.9+ MB\n"
     ]
    }
   ],
   "source": [
    "merger.info()"
   ]
  },
  {
   "cell_type": "code",
   "execution_count": 398,
   "metadata": {},
   "outputs": [
    {
     "data": {
      "text/plain": [
       "id                           0.000000\n",
       "mon_yr                       0.000000\n",
       "days available               0.000000\n",
       "meanPrice                   24.816686\n",
       "maxPrice                    24.816686\n",
       "minPrice                    24.816686\n",
       "last scraped                 0.000000\n",
       "listing url                  0.000000\n",
       "name                         0.042085\n",
       "host id                      0.000000\n",
       "experiences                  0.000000\n",
       "neighbourhood                0.000000\n",
       "latitude                     0.000000\n",
       "longitude                    0.000000\n",
       "property type                0.000000\n",
       "room type                    0.000000\n",
       "accommodates                 0.000000\n",
       "bathrooms                    0.236164\n",
       "bedrooms                     0.059351\n",
       "beds                         0.174439\n",
       "bed type                     0.000000\n",
       "minNights                    0.000000\n",
       "maxNights                    0.000000\n",
       "reviewCount                  0.000000\n",
       "instant bookable             0.000000\n",
       "is business travel ready     0.000000\n",
       "cancellation policy          0.000000\n",
       "first review                24.878141\n",
       "last review                 24.865516\n",
       "review rating               26.918420\n",
       "review accuracy             27.020882\n",
       "review cleanliness          26.992339\n",
       "review checkin              27.112175\n",
       "review communication        27.015918\n",
       "review location             27.117786\n",
       "review value                27.122588\n",
       "price                        0.000000\n",
       "security deposit            36.981149\n",
       "guests included              0.000000\n",
       "extra people                 0.000000\n",
       "cleaning_fee                28.259326\n",
       "dtype: float64"
      ]
     },
     "execution_count": 398,
     "metadata": {},
     "output_type": "execute_result"
    }
   ],
   "source": [
    "merger.isnull().sum() / len(merger) * 100 "
   ]
  },
  {
   "cell_type": "code",
   "execution_count": null,
   "metadata": {},
   "outputs": [],
   "source": []
  },
  {
   "cell_type": "code",
   "execution_count": null,
   "metadata": {},
   "outputs": [],
   "source": []
  }
 ],
 "metadata": {
  "kernelspec": {
   "display_name": "Python 3",
   "language": "python",
   "name": "python3"
  },
  "language_info": {
   "codemirror_mode": {
    "name": "ipython",
    "version": 3
   },
   "file_extension": ".py",
   "mimetype": "text/x-python",
   "name": "python",
   "nbconvert_exporter": "python",
   "pygments_lexer": "ipython3",
   "version": "3.6.8"
  }
 },
 "nbformat": 4,
 "nbformat_minor": 2
}
