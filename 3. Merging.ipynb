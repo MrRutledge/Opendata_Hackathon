{
 "cells": [
  {
   "cell_type": "markdown",
   "metadata": {},
   "source": [
    "### Merging\n",
    "\n",
    "In this example we'll combine the UFO sightings data with the recorded Fireball data. "
   ]
  },
  {
   "cell_type": "code",
   "execution_count": 1,
   "metadata": {},
   "outputs": [],
   "source": [
    "#1. Import libraries\n",
    "import pandas as pd\n",
    "import datetime\n",
    "import os\n",
    "import matplotlib.pyplot as plt\n",
    "import seaborn as sns\n",
    "import re"
   ]
  },
  {
   "cell_type": "code",
   "execution_count": 2,
   "metadata": {},
   "outputs": [],
   "source": [
    "filepath = os.path.join(\"..\",\"Data\")\n"
   ]
  },
  {
   "cell_type": "code",
   "execution_count": 3,
   "metadata": {},
   "outputs": [
    {
     "data": {
      "text/plain": [
       "['astronauts.csv',\n",
       " 'exoplanets.csv',\n",
       " 'Fireball Reports.csv',\n",
       " 'Meteorite_Landings.csv',\n",
       " 'SolarSystemAndEarthquakes.csv',\n",
       " 'UFO_Sightings_Global.csv',\n",
       " 'UFO_Sightings_Global.csv.zip']"
      ]
     },
     "execution_count": 3,
     "metadata": {},
     "output_type": "execute_result"
    }
   ],
   "source": [
    "[f for f in os.listdir(filepath)]"
   ]
  },
  {
   "cell_type": "code",
   "execution_count": 4,
   "metadata": {},
   "outputs": [],
   "source": [
    "df = pd.read_csv(os.path.join(filepath,\"SolarSystemAndEarthquakes.csv\"))"
   ]
  },
  {
   "cell_type": "code",
   "execution_count": 5,
   "metadata": {},
   "outputs": [
    {
     "data": {
      "text/html": [
       "<div>\n",
       "<style scoped>\n",
       "    .dataframe tbody tr th:only-of-type {\n",
       "        vertical-align: middle;\n",
       "    }\n",
       "\n",
       "    .dataframe tbody tr th {\n",
       "        vertical-align: top;\n",
       "    }\n",
       "\n",
       "    .dataframe thead th {\n",
       "        text-align: right;\n",
       "    }\n",
       "</style>\n",
       "<table border=\"1\" class=\"dataframe\">\n",
       "  <thead>\n",
       "    <tr style=\"text-align: right;\">\n",
       "      <th></th>\n",
       "      <th>earthquake.time</th>\n",
       "      <th>earthquake.latitude</th>\n",
       "      <th>earthquake.longitude</th>\n",
       "      <th>earthquake.mag</th>\n",
       "      <th>earthquake.place</th>\n",
       "      <th>MoonPhase.dynamic</th>\n",
       "      <th>MoonPhase.value</th>\n",
       "      <th>MoonPhase.total</th>\n",
       "      <th>MoonPhase.percent</th>\n",
       "      <th>MoonPhase.illumination</th>\n",
       "      <th>...</th>\n",
       "      <th>Neptune.housenumber</th>\n",
       "      <th>Pluto.longitude</th>\n",
       "      <th>Pluto.latitude</th>\n",
       "      <th>Pluto.rectascension</th>\n",
       "      <th>Pluto.declination</th>\n",
       "      <th>Pluto.azimuth</th>\n",
       "      <th>Pluto.height</th>\n",
       "      <th>Pluto.speed</th>\n",
       "      <th>Pluto.house</th>\n",
       "      <th>Pluto.housenumber</th>\n",
       "    </tr>\n",
       "  </thead>\n",
       "  <tbody>\n",
       "    <tr>\n",
       "      <th>0</th>\n",
       "      <td>2016-04-29T01:33:38.940Z</td>\n",
       "      <td>10.2705</td>\n",
       "      <td>-103.7150</td>\n",
       "      <td>6.6</td>\n",
       "      <td>Northern East Pacific Rise</td>\n",
       "      <td>dsc</td>\n",
       "      <td>21.102878</td>\n",
       "      <td>29.530588</td>\n",
       "      <td>71.461083</td>\n",
       "      <td>28.538917</td>\n",
       "      <td>...</td>\n",
       "      <td>4.855731</td>\n",
       "      <td>287.456664</td>\n",
       "      <td>1.458687</td>\n",
       "      <td>288.717312</td>\n",
       "      <td>-20.849043</td>\n",
       "      <td>294.602418</td>\n",
       "      <td>-60.711436</td>\n",
       "      <td>-0.004875</td>\n",
       "      <td>62.774958</td>\n",
       "      <td>3.092499</td>\n",
       "    </tr>\n",
       "    <tr>\n",
       "      <th>1</th>\n",
       "      <td>2016-04-28T19:33:24.420Z</td>\n",
       "      <td>-16.0743</td>\n",
       "      <td>167.3926</td>\n",
       "      <td>7.0</td>\n",
       "      <td>1km SE of Norsup_Vanuatu</td>\n",
       "      <td>dsc</td>\n",
       "      <td>20.801902</td>\n",
       "      <td>29.530588</td>\n",
       "      <td>70.441882</td>\n",
       "      <td>29.558118</td>\n",
       "      <td>...</td>\n",
       "      <td>10.821472</td>\n",
       "      <td>287.458035</td>\n",
       "      <td>1.458864</td>\n",
       "      <td>288.718743</td>\n",
       "      <td>-20.848692</td>\n",
       "      <td>75.715379</td>\n",
       "      <td>61.913464</td>\n",
       "      <td>-0.005482</td>\n",
       "      <td>242.688552</td>\n",
       "      <td>9.089618</td>\n",
       "    </tr>\n",
       "    <tr>\n",
       "      <th>2</th>\n",
       "      <td>2016-04-20T08:33:47.600Z</td>\n",
       "      <td>0.6359</td>\n",
       "      <td>-80.2083</td>\n",
       "      <td>6.2</td>\n",
       "      <td>19km WNW of Muisne_Ecuador</td>\n",
       "      <td>asc</td>\n",
       "      <td>13.041587</td>\n",
       "      <td>29.530588</td>\n",
       "      <td>44.162976</td>\n",
       "      <td>88.325952</td>\n",
       "      <td>...</td>\n",
       "      <td>12.866854</td>\n",
       "      <td>287.484120</td>\n",
       "      <td>1.466467</td>\n",
       "      <td>288.745387</td>\n",
       "      <td>-20.837893</td>\n",
       "      <td>306.628344</td>\n",
       "      <td>52.338472</td>\n",
       "      <td>-0.000961</td>\n",
       "      <td>301.730362</td>\n",
       "      <td>11.057679</td>\n",
       "    </tr>\n",
       "    <tr>\n",
       "      <th>3</th>\n",
       "      <td>2016-04-16T23:58:37.280Z</td>\n",
       "      <td>0.3715</td>\n",
       "      <td>-79.9398</td>\n",
       "      <td>7.8</td>\n",
       "      <td>27km SSE of Muisne_Ecuador</td>\n",
       "      <td>asc</td>\n",
       "      <td>10.108874</td>\n",
       "      <td>29.530588</td>\n",
       "      <td>34.231876</td>\n",
       "      <td>68.463751</td>\n",
       "      <td>...</td>\n",
       "      <td>5.254719</td>\n",
       "      <td>287.484562</td>\n",
       "      <td>1.469462</td>\n",
       "      <td>288.745447</td>\n",
       "      <td>-20.834871</td>\n",
       "      <td>322.775621</td>\n",
       "      <td>-63.936274</td>\n",
       "      <td>0.000967</td>\n",
       "      <td>73.503629</td>\n",
       "      <td>3.450121</td>\n",
       "    </tr>\n",
       "    <tr>\n",
       "      <th>4</th>\n",
       "      <td>2016-04-15T16:25:06.260Z</td>\n",
       "      <td>32.7820</td>\n",
       "      <td>130.7259</td>\n",
       "      <td>7.0</td>\n",
       "      <td>1km WSW of Kumamoto-shi_Japan</td>\n",
       "      <td>asc</td>\n",
       "      <td>8.803186</td>\n",
       "      <td>29.530588</td>\n",
       "      <td>29.810397</td>\n",
       "      <td>59.620794</td>\n",
       "      <td>...</td>\n",
       "      <td>2.162465</td>\n",
       "      <td>287.483388</td>\n",
       "      <td>1.470527</td>\n",
       "      <td>288.744056</td>\n",
       "      <td>-20.833960</td>\n",
       "      <td>299.716096</td>\n",
       "      <td>6.217801</td>\n",
       "      <td>0.001607</td>\n",
       "      <td>350.113718</td>\n",
       "      <td>12.670457</td>\n",
       "    </tr>\n",
       "  </tbody>\n",
       "</table>\n",
       "<p>5 rows × 108 columns</p>\n",
       "</div>"
      ],
      "text/plain": [
       "            earthquake.time  earthquake.latitude  earthquake.longitude  \\\n",
       "0  2016-04-29T01:33:38.940Z              10.2705             -103.7150   \n",
       "1  2016-04-28T19:33:24.420Z             -16.0743              167.3926   \n",
       "2  2016-04-20T08:33:47.600Z               0.6359              -80.2083   \n",
       "3  2016-04-16T23:58:37.280Z               0.3715              -79.9398   \n",
       "4  2016-04-15T16:25:06.260Z              32.7820              130.7259   \n",
       "\n",
       "   earthquake.mag               earthquake.place MoonPhase.dynamic  \\\n",
       "0             6.6     Northern East Pacific Rise               dsc   \n",
       "1             7.0       1km SE of Norsup_Vanuatu               dsc   \n",
       "2             6.2     19km WNW of Muisne_Ecuador               asc   \n",
       "3             7.8     27km SSE of Muisne_Ecuador               asc   \n",
       "4             7.0  1km WSW of Kumamoto-shi_Japan               asc   \n",
       "\n",
       "   MoonPhase.value  MoonPhase.total  MoonPhase.percent  \\\n",
       "0        21.102878        29.530588          71.461083   \n",
       "1        20.801902        29.530588          70.441882   \n",
       "2        13.041587        29.530588          44.162976   \n",
       "3        10.108874        29.530588          34.231876   \n",
       "4         8.803186        29.530588          29.810397   \n",
       "\n",
       "   MoonPhase.illumination        ...         Neptune.housenumber  \\\n",
       "0               28.538917        ...                    4.855731   \n",
       "1               29.558118        ...                   10.821472   \n",
       "2               88.325952        ...                   12.866854   \n",
       "3               68.463751        ...                    5.254719   \n",
       "4               59.620794        ...                    2.162465   \n",
       "\n",
       "  Pluto.longitude Pluto.latitude Pluto.rectascension Pluto.declination  \\\n",
       "0      287.456664       1.458687          288.717312        -20.849043   \n",
       "1      287.458035       1.458864          288.718743        -20.848692   \n",
       "2      287.484120       1.466467          288.745387        -20.837893   \n",
       "3      287.484562       1.469462          288.745447        -20.834871   \n",
       "4      287.483388       1.470527          288.744056        -20.833960   \n",
       "\n",
       "  Pluto.azimuth Pluto.height Pluto.speed  Pluto.house  Pluto.housenumber  \n",
       "0    294.602418   -60.711436   -0.004875    62.774958           3.092499  \n",
       "1     75.715379    61.913464   -0.005482   242.688552           9.089618  \n",
       "2    306.628344    52.338472   -0.000961   301.730362          11.057679  \n",
       "3    322.775621   -63.936274    0.000967    73.503629           3.450121  \n",
       "4    299.716096     6.217801    0.001607   350.113718          12.670457  \n",
       "\n",
       "[5 rows x 108 columns]"
      ]
     },
     "execution_count": 5,
     "metadata": {},
     "output_type": "execute_result"
    }
   ],
   "source": [
    "df.head()"
   ]
  },
  {
   "cell_type": "code",
   "execution_count": 6,
   "metadata": {},
   "outputs": [
    {
     "name": "stderr",
     "output_type": "stream",
     "text": [
      "C:\\Users\\Shaki\\Anaconda3\\envs\\fastai-cpu\\lib\\site-packages\\IPython\\core\\interactiveshell.py:3018: DtypeWarning: Columns (7) have mixed types. Specify dtype option on import or set low_memory=False.\n",
      "  interactivity=interactivity, compiler=compiler, result=result)\n"
     ]
    }
   ],
   "source": [
    "ufo = pd.read_csv(os.path.join(filepath,\"UFO_Sightings_Global.csv\"))\n",
    "fire = pd.read_csv(os.path.join(filepath,\"Fireball Reports.csv\"))\n",
    "meteorite = pd.read_csv(os.path.join(filepath,\"Meteorite_Landings.csv\"))"
   ]
  },
  {
   "cell_type": "code",
   "execution_count": 7,
   "metadata": {},
   "outputs": [
    {
     "data": {
      "text/html": [
       "<div>\n",
       "<style scoped>\n",
       "    .dataframe tbody tr th:only-of-type {\n",
       "        vertical-align: middle;\n",
       "    }\n",
       "\n",
       "    .dataframe tbody tr th {\n",
       "        vertical-align: top;\n",
       "    }\n",
       "\n",
       "    .dataframe thead th {\n",
       "        text-align: right;\n",
       "    }\n",
       "</style>\n",
       "<table border=\"1\" class=\"dataframe\">\n",
       "  <thead>\n",
       "    <tr style=\"text-align: right;\">\n",
       "      <th></th>\n",
       "      <th>name</th>\n",
       "      <th>id</th>\n",
       "      <th>nametype</th>\n",
       "      <th>recclass</th>\n",
       "      <th>mass (g)</th>\n",
       "      <th>fall</th>\n",
       "      <th>year</th>\n",
       "      <th>reclat</th>\n",
       "      <th>reclong</th>\n",
       "      <th>GeoLocation</th>\n",
       "    </tr>\n",
       "  </thead>\n",
       "  <tbody>\n",
       "    <tr>\n",
       "      <th>0</th>\n",
       "      <td>Aachen</td>\n",
       "      <td>1</td>\n",
       "      <td>Valid</td>\n",
       "      <td>L5</td>\n",
       "      <td>21.0</td>\n",
       "      <td>Fell</td>\n",
       "      <td>01/01/1880 12:00:00 AM</td>\n",
       "      <td>50.77500</td>\n",
       "      <td>6.08333</td>\n",
       "      <td>(50.775000, 6.083330)</td>\n",
       "    </tr>\n",
       "    <tr>\n",
       "      <th>1</th>\n",
       "      <td>Aarhus</td>\n",
       "      <td>2</td>\n",
       "      <td>Valid</td>\n",
       "      <td>H6</td>\n",
       "      <td>720.0</td>\n",
       "      <td>Fell</td>\n",
       "      <td>01/01/1951 12:00:00 AM</td>\n",
       "      <td>56.18333</td>\n",
       "      <td>10.23333</td>\n",
       "      <td>(56.183330, 10.233330)</td>\n",
       "    </tr>\n",
       "    <tr>\n",
       "      <th>2</th>\n",
       "      <td>Abee</td>\n",
       "      <td>6</td>\n",
       "      <td>Valid</td>\n",
       "      <td>EH4</td>\n",
       "      <td>107000.0</td>\n",
       "      <td>Fell</td>\n",
       "      <td>01/01/1952 12:00:00 AM</td>\n",
       "      <td>54.21667</td>\n",
       "      <td>-113.00000</td>\n",
       "      <td>(54.216670, -113.000000)</td>\n",
       "    </tr>\n",
       "    <tr>\n",
       "      <th>3</th>\n",
       "      <td>Acapulco</td>\n",
       "      <td>10</td>\n",
       "      <td>Valid</td>\n",
       "      <td>Acapulcoite</td>\n",
       "      <td>1914.0</td>\n",
       "      <td>Fell</td>\n",
       "      <td>01/01/1976 12:00:00 AM</td>\n",
       "      <td>16.88333</td>\n",
       "      <td>-99.90000</td>\n",
       "      <td>(16.883330, -99.900000)</td>\n",
       "    </tr>\n",
       "    <tr>\n",
       "      <th>4</th>\n",
       "      <td>Achiras</td>\n",
       "      <td>370</td>\n",
       "      <td>Valid</td>\n",
       "      <td>L6</td>\n",
       "      <td>780.0</td>\n",
       "      <td>Fell</td>\n",
       "      <td>01/01/1902 12:00:00 AM</td>\n",
       "      <td>-33.16667</td>\n",
       "      <td>-64.95000</td>\n",
       "      <td>(-33.166670, -64.950000)</td>\n",
       "    </tr>\n",
       "  </tbody>\n",
       "</table>\n",
       "</div>"
      ],
      "text/plain": [
       "       name   id nametype     recclass  mass (g)  fall  \\\n",
       "0    Aachen    1    Valid           L5      21.0  Fell   \n",
       "1    Aarhus    2    Valid           H6     720.0  Fell   \n",
       "2      Abee    6    Valid          EH4  107000.0  Fell   \n",
       "3  Acapulco   10    Valid  Acapulcoite    1914.0  Fell   \n",
       "4   Achiras  370    Valid           L6     780.0  Fell   \n",
       "\n",
       "                     year    reclat    reclong               GeoLocation  \n",
       "0  01/01/1880 12:00:00 AM  50.77500    6.08333     (50.775000, 6.083330)  \n",
       "1  01/01/1951 12:00:00 AM  56.18333   10.23333    (56.183330, 10.233330)  \n",
       "2  01/01/1952 12:00:00 AM  54.21667 -113.00000  (54.216670, -113.000000)  \n",
       "3  01/01/1976 12:00:00 AM  16.88333  -99.90000   (16.883330, -99.900000)  \n",
       "4  01/01/1902 12:00:00 AM -33.16667  -64.95000  (-33.166670, -64.950000)  "
      ]
     },
     "execution_count": 7,
     "metadata": {},
     "output_type": "execute_result"
    }
   ],
   "source": [
    "meteorite.head()"
   ]
  },
  {
   "cell_type": "code",
   "execution_count": 8,
   "metadata": {},
   "outputs": [
    {
     "data": {
      "text/html": [
       "<div>\n",
       "<style scoped>\n",
       "    .dataframe tbody tr th:only-of-type {\n",
       "        vertical-align: middle;\n",
       "    }\n",
       "\n",
       "    .dataframe tbody tr th {\n",
       "        vertical-align: top;\n",
       "    }\n",
       "\n",
       "    .dataframe thead th {\n",
       "        text-align: right;\n",
       "    }\n",
       "</style>\n",
       "<table border=\"1\" class=\"dataframe\">\n",
       "  <thead>\n",
       "    <tr style=\"text-align: right;\">\n",
       "      <th></th>\n",
       "      <th>DateTime of Peak Brightness</th>\n",
       "      <th>Latitude</th>\n",
       "      <th>Longitude</th>\n",
       "      <th>Altitude (km)</th>\n",
       "      <th>Velocity (km/s)</th>\n",
       "      <th>Velocity Components (km/s): vx</th>\n",
       "      <th>Velocity Components (km/s): vy</th>\n",
       "      <th>Velocity Components (km/s): vz</th>\n",
       "      <th>Total Radiated Energy (J)</th>\n",
       "      <th>Calculated Total Impact Energy (kt)</th>\n",
       "    </tr>\n",
       "  </thead>\n",
       "  <tbody>\n",
       "    <tr>\n",
       "      <th>0</th>\n",
       "      <td>2009-11-21 20:53:00</td>\n",
       "      <td>-22.0</td>\n",
       "      <td>29.2</td>\n",
       "      <td>38.0</td>\n",
       "      <td>32.1</td>\n",
       "      <td>3.0</td>\n",
       "      <td>-17.0</td>\n",
       "      <td>-27.0</td>\n",
       "      <td>10000000000000</td>\n",
       "      <td>18.00</td>\n",
       "    </tr>\n",
       "    <tr>\n",
       "      <th>1</th>\n",
       "      <td>2015-01-09 10:41:11</td>\n",
       "      <td>2.0</td>\n",
       "      <td>28.8</td>\n",
       "      <td>36.0</td>\n",
       "      <td>NaN</td>\n",
       "      <td>-10.7</td>\n",
       "      <td>-7.6</td>\n",
       "      <td>11.6</td>\n",
       "      <td>139000000000</td>\n",
       "      <td>0.41</td>\n",
       "    </tr>\n",
       "    <tr>\n",
       "      <th>2</th>\n",
       "      <td>2014-05-16 12:42:48</td>\n",
       "      <td>-44.2</td>\n",
       "      <td>-176.2</td>\n",
       "      <td>44.0</td>\n",
       "      <td>NaN</td>\n",
       "      <td>14.4</td>\n",
       "      <td>4.6</td>\n",
       "      <td>6.5</td>\n",
       "      <td>309000000000</td>\n",
       "      <td>0.82</td>\n",
       "    </tr>\n",
       "    <tr>\n",
       "      <th>3</th>\n",
       "      <td>2014-08-23 06:29:41</td>\n",
       "      <td>-61.7</td>\n",
       "      <td>132.6</td>\n",
       "      <td>22.2</td>\n",
       "      <td>16.2</td>\n",
       "      <td>-2.3</td>\n",
       "      <td>5.7</td>\n",
       "      <td>16.5</td>\n",
       "      <td>3820000000000</td>\n",
       "      <td>7.60</td>\n",
       "    </tr>\n",
       "    <tr>\n",
       "      <th>4</th>\n",
       "      <td>2014-12-12 06:48:11</td>\n",
       "      <td>33.5</td>\n",
       "      <td>144.9</td>\n",
       "      <td>26.3</td>\n",
       "      <td>NaN</td>\n",
       "      <td>11.5</td>\n",
       "      <td>-2.8</td>\n",
       "      <td>-2.2</td>\n",
       "      <td>33000000000</td>\n",
       "      <td>0.11</td>\n",
       "    </tr>\n",
       "  </tbody>\n",
       "</table>\n",
       "</div>"
      ],
      "text/plain": [
       "  DateTime of Peak Brightness  Latitude  Longitude  Altitude (km)  \\\n",
       "0         2009-11-21 20:53:00     -22.0       29.2           38.0   \n",
       "1         2015-01-09 10:41:11       2.0       28.8           36.0   \n",
       "2         2014-05-16 12:42:48     -44.2     -176.2           44.0   \n",
       "3         2014-08-23 06:29:41     -61.7      132.6           22.2   \n",
       "4         2014-12-12 06:48:11      33.5      144.9           26.3   \n",
       "\n",
       "   Velocity (km/s)  Velocity Components (km/s): vx  \\\n",
       "0             32.1                             3.0   \n",
       "1              NaN                           -10.7   \n",
       "2              NaN                            14.4   \n",
       "3             16.2                            -2.3   \n",
       "4              NaN                            11.5   \n",
       "\n",
       "   Velocity Components (km/s): vy  Velocity Components (km/s): vz  \\\n",
       "0                           -17.0                           -27.0   \n",
       "1                            -7.6                            11.6   \n",
       "2                             4.6                             6.5   \n",
       "3                             5.7                            16.5   \n",
       "4                            -2.8                            -2.2   \n",
       "\n",
       "   Total Radiated Energy (J)  Calculated Total Impact Energy (kt)  \n",
       "0             10000000000000                                18.00  \n",
       "1               139000000000                                 0.41  \n",
       "2               309000000000                                 0.82  \n",
       "3              3820000000000                                 7.60  \n",
       "4                33000000000                                 0.11  "
      ]
     },
     "execution_count": 8,
     "metadata": {},
     "output_type": "execute_result"
    }
   ],
   "source": [
    "fire.head()"
   ]
  },
  {
   "cell_type": "markdown",
   "metadata": {},
   "source": [
    "Let's create one dataframe that has both ufo sightings and fireball sightings so we can map them together."
   ]
  },
  {
   "cell_type": "code",
   "execution_count": 9,
   "metadata": {},
   "outputs": [],
   "source": [
    "#Let's make sure both days are datetime objects\n",
    "ufo['day']=pd.to_datetime(ufo['day_sighted']).dt.date\n",
    "fire['day']=pd.to_datetime(fire['DateTime of Peak Brightness']).dt.date\n",
    "fire['time']=pd.to_datetime(fire['DateTime of Peak Brightness']).dt.time"
   ]
  },
  {
   "cell_type": "code",
   "execution_count": 10,
   "metadata": {},
   "outputs": [],
   "source": [
    "ufo_sub = ufo[['day','time','latitude','longitude']]\n",
    "fire_sub = fire[['day','time','Latitude','Longitude']]"
   ]
  },
  {
   "cell_type": "code",
   "execution_count": 11,
   "metadata": {},
   "outputs": [
    {
     "name": "stderr",
     "output_type": "stream",
     "text": [
      "C:\\Users\\Shaki\\Anaconda3\\envs\\fastai-cpu\\lib\\site-packages\\ipykernel_launcher.py:3: SettingWithCopyWarning: \n",
      "A value is trying to be set on a copy of a slice from a DataFrame.\n",
      "Try using .loc[row_indexer,col_indexer] = value instead\n",
      "\n",
      "See the caveats in the documentation: http://pandas.pydata.org/pandas-docs/stable/indexing.html#indexing-view-versus-copy\n",
      "  This is separate from the ipykernel package so we can avoid doing imports until\n"
     ]
    }
   ],
   "source": [
    "fire_sub = fire_sub.rename(columns = {'Latitude':'latitude','Longitude':'longitude'})\n",
    "fire_sub['type']='Fireball'\n",
    "ufo_sub['type']='UFO'"
   ]
  },
  {
   "cell_type": "code",
   "execution_count": 12,
   "metadata": {},
   "outputs": [],
   "source": [
    "sub = fire_sub.append(ufo_sub,ignore_index = True)"
   ]
  },
  {
   "cell_type": "code",
   "execution_count": 13,
   "metadata": {},
   "outputs": [],
   "source": [
    "sub_f = sub[sub['latitude'].isnull()==False]"
   ]
  },
  {
   "cell_type": "code",
   "execution_count": 14,
   "metadata": {},
   "outputs": [
    {
     "data": {
      "text/plain": [
       "(96500, 5)"
      ]
     },
     "execution_count": 14,
     "metadata": {},
     "output_type": "execute_result"
    }
   ],
   "source": [
    "sub_f.shape"
   ]
  },
  {
   "cell_type": "code",
   "execution_count": 15,
   "metadata": {},
   "outputs": [
    {
     "data": {
      "text/html": [
       "<div>\n",
       "<style scoped>\n",
       "    .dataframe tbody tr th:only-of-type {\n",
       "        vertical-align: middle;\n",
       "    }\n",
       "\n",
       "    .dataframe tbody tr th {\n",
       "        vertical-align: top;\n",
       "    }\n",
       "\n",
       "    .dataframe thead th {\n",
       "        text-align: right;\n",
       "    }\n",
       "</style>\n",
       "<table border=\"1\" class=\"dataframe\">\n",
       "  <thead>\n",
       "    <tr style=\"text-align: right;\">\n",
       "      <th></th>\n",
       "      <th>day</th>\n",
       "      <th>time</th>\n",
       "      <th>latitude</th>\n",
       "      <th>longitude</th>\n",
       "      <th>type</th>\n",
       "    </tr>\n",
       "  </thead>\n",
       "  <tbody>\n",
       "    <tr>\n",
       "      <th>0</th>\n",
       "      <td>2009-11-21</td>\n",
       "      <td>20:53:00</td>\n",
       "      <td>-22</td>\n",
       "      <td>29.2</td>\n",
       "      <td>Fireball</td>\n",
       "    </tr>\n",
       "    <tr>\n",
       "      <th>1</th>\n",
       "      <td>2015-01-09</td>\n",
       "      <td>10:41:11</td>\n",
       "      <td>2</td>\n",
       "      <td>28.8</td>\n",
       "      <td>Fireball</td>\n",
       "    </tr>\n",
       "    <tr>\n",
       "      <th>2</th>\n",
       "      <td>2014-05-16</td>\n",
       "      <td>12:42:48</td>\n",
       "      <td>-44.2</td>\n",
       "      <td>-176.2</td>\n",
       "      <td>Fireball</td>\n",
       "    </tr>\n",
       "    <tr>\n",
       "      <th>3</th>\n",
       "      <td>2014-08-23</td>\n",
       "      <td>06:29:41</td>\n",
       "      <td>-61.7</td>\n",
       "      <td>132.6</td>\n",
       "      <td>Fireball</td>\n",
       "    </tr>\n",
       "    <tr>\n",
       "      <th>4</th>\n",
       "      <td>2014-12-12</td>\n",
       "      <td>06:48:11</td>\n",
       "      <td>33.5</td>\n",
       "      <td>144.9</td>\n",
       "      <td>Fireball</td>\n",
       "    </tr>\n",
       "  </tbody>\n",
       "</table>\n",
       "</div>"
      ],
      "text/plain": [
       "          day      time latitude  longitude      type\n",
       "0  2009-11-21  20:53:00      -22       29.2  Fireball\n",
       "1  2015-01-09  10:41:11        2       28.8  Fireball\n",
       "2  2014-05-16  12:42:48    -44.2     -176.2  Fireball\n",
       "3  2014-08-23  06:29:41    -61.7      132.6  Fireball\n",
       "4  2014-12-12  06:48:11     33.5      144.9  Fireball"
      ]
     },
     "execution_count": 15,
     "metadata": {},
     "output_type": "execute_result"
    }
   ],
   "source": [
    "sub_f.head()"
   ]
  },
  {
   "cell_type": "code",
   "execution_count": 16,
   "metadata": {},
   "outputs": [],
   "source": [
    "pt =sub_f[['day','type']].pivot_table(index = 'day',columns = 'type',aggfunc = len).fillna(0)"
   ]
  },
  {
   "cell_type": "code",
   "execution_count": 17,
   "metadata": {},
   "outputs": [
    {
     "name": "stderr",
     "output_type": "stream",
     "text": [
      "C:\\Users\\Shaki\\Anaconda3\\envs\\fastai-cpu\\lib\\site-packages\\scipy\\stats\\stats.py:1713: FutureWarning: Using a non-tuple sequence for multidimensional indexing is deprecated; use `arr[tuple(seq)]` instead of `arr[seq]`. In the future this will be interpreted as an array index, `arr[np.array(seq)]`, which will result either in an error or a different result.\n",
      "  return np.add.reduce(sorted[indexer] * weights, axis=axis) / sumval\n"
     ]
    },
    {
     "data": {
      "text/plain": [
       "<matplotlib.axes._subplots.AxesSubplot at 0x27cc1c75908>"
      ]
     },
     "execution_count": 17,
     "metadata": {},
     "output_type": "execute_result"
    },
    {
     "data": {
      "image/png": "[encoded data removed]",
      "text/plain": [
       "<Figure size 432x288 with 1 Axes>"
      ]
     },
     "metadata": {
      "needs_background": "light"
     },
     "output_type": "display_data"
    }
   ],
   "source": [
    "sns.regplot(data = pt,x = 'Fireball',y = 'UFO')"
   ]
  },
  {
   "cell_type": "code",
   "execution_count": 18,
   "metadata": {},
   "outputs": [
    {
     "data": {
      "text/plain": [
       "Text(0.5, 1.0, 'Distribution of UFO Sightings on days where there was a Fireball sighting')"
      ]
     },
     "execution_count": 18,
     "metadata": {},
     "output_type": "execute_result"
    },
    {
     "data": {
      "image/png": "[encoded data removed]",
      "text/plain": [
       "<Figure size 432x288 with 1 Axes>"
      ]
     },
     "metadata": {
      "needs_background": "light"
     },
     "output_type": "display_data"
    }
   ],
   "source": [
    "import numpy as np\n",
    "bins = np.linspace(0, 50, 20)\n",
    "pt[pt['Fireball']>0]['UFO'].hist(bins=bins)\n",
    "plt.title(\"Distribution of UFO Sightings on days where there was a Fireball sighting\")"
   ]
  },
  {
   "cell_type": "code",
   "execution_count": 19,
   "metadata": {},
   "outputs": [
    {
     "data": {
      "text/plain": [
       "Text(0.5, 1.0, 'Distribution of UFO Sightings on days where there was not a Fireball sighting')"
      ]
     },
     "execution_count": 19,
     "metadata": {},
     "output_type": "execute_result"
    },
    {
     "data": {
      "image/png": "[encoded data removed]",
      "text/plain": [
       "<Figure size 432x288 with 1 Axes>"
      ]
     },
     "metadata": {
      "needs_background": "light"
     },
     "output_type": "display_data"
    }
   ],
   "source": [
    "pt[pt['Fireball']==0]['UFO'].hist(bins=bins)\n",
    "plt.title(\"Distribution of UFO Sightings on days where there was not a Fireball sighting\")"
   ]
  },
  {
   "cell_type": "markdown",
   "metadata": {},
   "source": [
    "To compare these distibutions more easily, let's also use matplotlib to see them on the same axes, normalised such that the area under each curve is the same"
   ]
  },
  {
   "cell_type": "code",
   "execution_count": 20,
   "metadata": {},
   "outputs": [
    {
     "data": {
      "image/png": "[encoded data removed]",
      "text/plain": [
       "<Figure size 432x288 with 1 Axes>"
      ]
     },
     "metadata": {
      "needs_background": "light"
     },
     "output_type": "display_data"
    }
   ],
   "source": [
    "import matplotlib.pyplot as plt\n",
    "plt.hist(pt[pt['Fireball']>0]['UFO'], bins=bins, density=True, alpha=0.5, label='With fireball')\n",
    "plt.hist(pt[pt['Fireball']==0]['UFO'], bins=bins, density=True, alpha=0.5, label='Without fireball')\n",
    "plt.xlabel('Number of UFO sightings')\n",
    "plt.ylabel('Probability density')\n",
    "plt.legend()\n",
    "plt.grid()\n",
    "plt.show()"
   ]
  },
  {
   "cell_type": "markdown",
   "metadata": {},
   "source": [
    "Seems to me that the presence of a fireball does increase the number of Ufo sigthings in the day, but there's much more to be done. "
   ]
  },
  {
   "cell_type": "markdown",
   "metadata": {},
   "source": [
    "A possible next step would be to compare the distance between fireballs and ufo sigtings for days in which there were both. \n"
   ]
  },
  {
   "cell_type": "markdown",
   "metadata": {},
   "source": [
    "#### P.S. You may find some of the data is not perfectly formatted. This code is how I fixed a letter \"q\" that showed up in latitudes for some reason. "
   ]
  },
  {
   "cell_type": "code",
   "execution_count": 21,
   "metadata": {},
   "outputs": [
    {
     "data": {
      "text/plain": [
       "day           object\n",
       "time          object\n",
       "latitude      object\n",
       "longitude    float64\n",
       "type          object\n",
       "dtype: object"
      ]
     },
     "execution_count": 21,
     "metadata": {},
     "output_type": "execute_result"
    }
   ],
   "source": [
    "sub_f.dtypes"
   ]
  },
  {
   "cell_type": "code",
   "execution_count": 22,
   "metadata": {},
   "outputs": [
    {
     "name": "stderr",
     "output_type": "stream",
     "text": [
      "C:\\Users\\Shaki\\Anaconda3\\envs\\fastai-cpu\\lib\\site-packages\\ipykernel_launcher.py:1: SettingWithCopyWarning: \n",
      "A value is trying to be set on a copy of a slice from a DataFrame.\n",
      "Try using .loc[row_indexer,col_indexer] = value instead\n",
      "\n",
      "See the caveats in the documentation: http://pandas.pydata.org/pandas-docs/stable/indexing.html#indexing-view-versus-copy\n",
      "  \"\"\"Entry point for launching an IPython kernel.\n"
     ]
    }
   ],
   "source": [
    "sub_f['latitude']=sub_f['latitude'].str.replace('q',\"\").astype(float)"
   ]
  },
  {
   "cell_type": "markdown",
   "metadata": {},
   "source": [
    "## CHALLENGE: Can you merge the meterorite data with earthquakes?"
   ]
  },
  {
   "cell_type": "code",
   "execution_count": 23,
   "metadata": {},
   "outputs": [],
   "source": [
    "## Type code here..."
   ]
  },
  {
   "cell_type": "markdown",
   "metadata": {},
   "source": [
    "## CHALLENGE: Can you merge the London UFO sightings with the corresponding day's air quality readings (from the Climate folder)?\n",
    "Is there a pattern to air quality and UFO sightings?"
   ]
  },
  {
   "cell_type": "code",
   "execution_count": null,
   "metadata": {},
   "outputs": [],
   "source": []
  }
 ],
 "metadata": {
  "hide_input": false,
  "kernelspec": {
   "display_name": "Python 3",
   "language": "python",
   "name": "python3"
  },
  "language_info": {
   "codemirror_mode": {
    "name": "ipython",
    "version": 3
   },
   "file_extension": ".py",
   "mimetype": "text/x-python",
   "name": "python",
   "nbconvert_exporter": "python",
   "pygments_lexer": "ipython3",
   "version": "3.6.6"
  },
  "toc": {
   "base_numbering": 1,
   "nav_menu": {},
   "number_sections": true,
   "sideBar": true,
   "skip_h1_title": false,
   "title_cell": "Table of Contents",
   "title_sidebar": "Contents",
   "toc_cell": false,
   "toc_position": {},
   "toc_section_display": true,
   "toc_window_display": false
  }
 },
 "nbformat": 4,
 "nbformat_minor": 2
}
